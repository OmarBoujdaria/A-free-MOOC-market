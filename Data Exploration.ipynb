{
 "cells": [
  {
   "cell_type": "code",
   "execution_count": 1,
   "metadata": {},
   "outputs": [
    {
     "name": "stderr",
     "output_type": "stream",
     "text": [
      "C:\\Users\\Omar-Bouj\\Anaconda3\\lib\\site-packages\\nltk\\twitter\\__init__.py:20: UserWarning: The twython library has not been installed. Some functionality from the twitter package will not be available.\n",
      "  warnings.warn(\"The twython library has not been installed. \"\n"
     ]
    }
   ],
   "source": [
    "import pickle as pkl\n",
    "import numpy as np\n",
    "import pandas as pd\n",
    "import seaborn as sns\n",
    "import matplotlib.pyplot as plt\n",
    "from nltk.sentiment.vader import SentimentIntensityAnalyzer\n",
    "\n",
    "\n",
    "pd.set_option('display.max_columns', 500)\n",
    "\n",
    "%matplotlib inline"
   ]
  },
  {
   "cell_type": "markdown",
   "metadata": {},
   "source": [
    "# Guidelines\n",
    "\n",
    "\n"
   ]
  },
  {
   "cell_type": "markdown",
   "metadata": {},
   "source": [
    "\n",
    " Can we predict success or is it random ?\n",
    "\n",
    "- dont dive into topic, or content of the course, check predictivity for metadata first\n",
    "- we can add how many other course treat the same topic ie topic popularity among dataset , for each course\n"
   ]
  },
  {
   "cell_type": "markdown",
   "metadata": {},
   "source": [
    "#### course content analysis"
   ]
  },
  {
   "cell_type": "markdown",
   "metadata": {},
   "source": [
    "- Define how to measure success of a course ? ---> normlaize the total number of subs to each topic\n",
    "\n",
    "- cluster the course topics: using the tags from  stack overflow we can have the popularity of a topic ? think about how to combine all the tags from a course to GET THE POPUARITY OF THE COURSE not the various popularities from \n",
    "\n",
    "- categorize the granularity of the courses : is it about webdev, or a specific tool in webdev ?\n",
    "\n",
    "- Is it one of the first courses in this topic that are succesfull, or look like an existing one ?\n",
    "- we can match the tags in the syllabus with tags from StacKoverflow\n"
   ]
  },
  {
   "cell_type": "markdown",
   "metadata": {},
   "source": [
    "- is there a patern in appearance of courses in the same topic ? from the first course ever in this topic to the hole bundle of course, course in time analysis"
   ]
  },
  {
   "cell_type": "markdown",
   "metadata": {},
   "source": [
    "## MetaData analysis :\n"
   ]
  },
  {
   "cell_type": "markdown",
   "metadata": {},
   "source": [
    "- success measured by (n subsriber, age, topic)\n",
    "\n",
    "- might try : dividing subscriber by log of age\n",
    "\n",
    "- offset by course duration or length, for the same number of subscribers a 40h course is less succesfull than a 2 hour\n",
    "\n",
    "- calculate a score for a set a successful courses, and say that sucessfulness is attainging 90% of this score.\n",
    "\n",
    "- correlate the score value with feature of the course : how many lectures when published, how mayny were added, the topic\n",
    "\n",
    "- check rating of the first month or 3 frst months\n",
    "\n",
    "- HYPOTHESIS: the first moment a course is published is a major determinant of the success\n",
    "\n",
    "- plot correlation of score and other ffeatures\n",
    "\n",
    "- quantify \n"
   ]
  },
  {
   "cell_type": "markdown",
   "metadata": {},
   "source": [
    "### Objective : \n",
    "- **Set different ranks**\n",
    "- **compare them then combine**\n",
    "- **run regression**"
   ]
  },
  {
   "cell_type": "markdown",
   "metadata": {},
   "source": [
    "For 21 November :\n",
    "- We need a succesfull and unsuccesfull set\n",
    "- Look at the top and bottom 20%s of the ranking\n",
    "- (Clustering) the courses by topics (granulatrity, ...)\n",
    "- for  each topic analyze  the feature of most and least succesfull courses.\n",
    "\n",
    "factor to regresison : \n",
    "\n",
    "- size of courses\n",
    "- nbr of lectures\n",
    "- creation date\n",
    "- How long to update a course\n",
    "- Average size of updates divided by time since last update"
   ]
  },
  {
   "cell_type": "markdown",
   "metadata": {},
   "source": [
    " #### Reading preprocessed data"
   ]
  },
  {
   "cell_type": "code",
   "execution_count": 2,
   "metadata": {
    "collapsed": true
   },
   "outputs": [],
   "source": [
    "course_details = pd.read_pickle('Preproccessed Data/course_details.pkl')"
   ]
  },
  {
   "cell_type": "code",
   "execution_count": 3,
   "metadata": {
    "collapsed": true
   },
   "outputs": [],
   "source": [
    "course_syllabi = pd.read_pickle('Preproccessed Data/course_syllabi.pkl')"
   ]
  },
  {
   "cell_type": "code",
   "execution_count": 4,
   "metadata": {
    "collapsed": true
   },
   "outputs": [],
   "source": [
    "course_reviews = pd.read_pickle('Preproccessed Data/course_reviews.pkl')"
   ]
  },
  {
   "cell_type": "markdown",
   "metadata": {},
   "source": [
    "### Difference in  means between paid and free courses :\n",
    "\n",
    "- investigating the difference in success between paid and free course :\n"
   ]
  },
  {
   "cell_type": "markdown",
   "metadata": {},
   "source": [
    "(only 384/9718, ~4% are free, we should have different criterions of success for paid and free courses )"
   ]
  },
  {
   "cell_type": "code",
   "execution_count": 5,
   "metadata": {},
   "outputs": [
    {
     "data": {
      "text/plain": [
       "True     9333\n",
       "False     384\n",
       "Name: is_paid, dtype: int64"
      ]
     },
     "execution_count": 5,
     "metadata": {},
     "output_type": "execute_result"
    }
   ],
   "source": [
    "course_details['is_paid'].value_counts()"
   ]
  },
  {
   "cell_type": "markdown",
   "metadata": {},
   "source": [
    "We add histogram and boxplot to inspect for tail, maybe there is ONE course that has a lot more subscirbers than the group."
   ]
  },
  {
   "cell_type": "code",
   "execution_count": 6,
   "metadata": {},
   "outputs": [
    {
     "data": {
      "text/plain": [
       "<matplotlib.axes._subplots.AxesSubplot at 0x1e755686c50>"
      ]
     },
     "execution_count": 6,
     "metadata": {},
     "output_type": "execute_result"
    },
    {
     "data": {
      "image/png": "[encoded data removed]",
      "text/plain": [
       "<Figure size 1008x504 with 2 Axes>"
      ]
     },
     "metadata": {},
     "output_type": "display_data"
    }
   ],
   "source": [
    "fig, ax = plt.subplots(1,2, sharey=True, figsize=(14,7))\n",
    "\n",
    "# set title\n",
    "ax[0].set_title('Free')\n",
    "ax[1].set_title('Paid')\n",
    "\n",
    "\n",
    "#plot\n",
    "\n",
    "free = course_details[~course_details['is_paid']].sort_values('num_subscribers',ascending=False)\n",
    "paid = course_details[ course_details['is_paid']].sort_values('num_subscribers',ascending=False)\n",
    "\n",
    "free['num_subscribers'].plot.box(ax=ax[0])\n",
    "paid['num_subscribers'].plot.box(ax=ax[1])"
   ]
  },
  {
   "cell_type": "markdown",
   "metadata": {},
   "source": [
    "We observe that both distributions of number ofsubscribers for free and paid courses are very skewed. We drop one outlier from free and 2 ouliters from paid"
   ]
  },
  {
   "cell_type": "code",
   "execution_count": 7,
   "metadata": {
    "collapsed": true
   },
   "outputs": [],
   "source": [
    "#  outliers to be dropped : one for free courses, 2 for paid courses\n",
    "outliers_id = pd.concat([free.iloc[[0],:], paid.iloc[:2,:]]).index.tolist()"
   ]
  },
  {
   "cell_type": "code",
   "execution_count": 8,
   "metadata": {
    "collapsed": true
   },
   "outputs": [],
   "source": [
    "#course_details.drop(outliers_id,inplace=True)"
   ]
  },
  {
   "cell_type": "code",
   "execution_count": 9,
   "metadata": {},
   "outputs": [
    {
     "data": {
      "text/html": [
       "<div>\n",
       "<style scoped>\n",
       "    .dataframe tbody tr th:only-of-type {\n",
       "        vertical-align: middle;\n",
       "    }\n",
       "\n",
       "    .dataframe tbody tr th {\n",
       "        vertical-align: top;\n",
       "    }\n",
       "\n",
       "    .dataframe thead th {\n",
       "        text-align: right;\n",
       "    }\n",
       "</style>\n",
       "<table border=\"1\" class=\"dataframe\">\n",
       "  <thead>\n",
       "    <tr style=\"text-align: right;\">\n",
       "      <th></th>\n",
       "      <th>Free courses</th>\n",
       "      <th>Paid courses</th>\n",
       "      <th>All courses</th>\n",
       "    </tr>\n",
       "  </thead>\n",
       "  <tbody>\n",
       "    <tr>\n",
       "      <th>avg_rating</th>\n",
       "      <td>4.192206</td>\n",
       "      <td>3.658196</td>\n",
       "      <td>3.679299</td>\n",
       "    </tr>\n",
       "    <tr>\n",
       "      <th>avg_rating_recent</th>\n",
       "      <td>4.210535</td>\n",
       "      <td>3.656025</td>\n",
       "      <td>3.677938</td>\n",
       "    </tr>\n",
       "    <tr>\n",
       "      <th>is_paid</th>\n",
       "      <td>0.000000</td>\n",
       "      <td>1.000000</td>\n",
       "      <td>0.960482</td>\n",
       "    </tr>\n",
       "    <tr>\n",
       "      <th>num_published_lectures</th>\n",
       "      <td>30.984375</td>\n",
       "      <td>52.843459</td>\n",
       "      <td>51.979623</td>\n",
       "    </tr>\n",
       "    <tr>\n",
       "      <th>num_published_practice_tests</th>\n",
       "      <td>0.000000</td>\n",
       "      <td>0.012536</td>\n",
       "      <td>0.012041</td>\n",
       "    </tr>\n",
       "    <tr>\n",
       "      <th>num_published_quizzes</th>\n",
       "      <td>1.002604</td>\n",
       "      <td>1.242044</td>\n",
       "      <td>1.232582</td>\n",
       "    </tr>\n",
       "    <tr>\n",
       "      <th>num_reviews</th>\n",
       "      <td>1535.666667</td>\n",
       "      <td>305.072538</td>\n",
       "      <td>353.703612</td>\n",
       "    </tr>\n",
       "    <tr>\n",
       "      <th>num_reviews_recent</th>\n",
       "      <td>163.828125</td>\n",
       "      <td>46.936462</td>\n",
       "      <td>51.555830</td>\n",
       "    </tr>\n",
       "    <tr>\n",
       "      <th>num_subscribers</th>\n",
       "      <td>32066.526042</td>\n",
       "      <td>3584.828565</td>\n",
       "      <td>4710.378821</td>\n",
       "    </tr>\n",
       "    <tr>\n",
       "      <th>content_length</th>\n",
       "      <td>3.449826</td>\n",
       "      <td>6.269931</td>\n",
       "      <td>6.158485</td>\n",
       "    </tr>\n",
       "    <tr>\n",
       "      <th>publication_gap</th>\n",
       "      <td>0.118411</td>\n",
       "      <td>0.109326</td>\n",
       "      <td>0.109685</td>\n",
       "    </tr>\n",
       "  </tbody>\n",
       "</table>\n",
       "</div>"
      ],
      "text/plain": [
       "                              Free courses  Paid courses  All courses\n",
       "avg_rating                        4.192206      3.658196     3.679299\n",
       "avg_rating_recent                 4.210535      3.656025     3.677938\n",
       "is_paid                           0.000000      1.000000     0.960482\n",
       "num_published_lectures           30.984375     52.843459    51.979623\n",
       "num_published_practice_tests      0.000000      0.012536     0.012041\n",
       "num_published_quizzes             1.002604      1.242044     1.232582\n",
       "num_reviews                    1535.666667    305.072538   353.703612\n",
       "num_reviews_recent              163.828125     46.936462    51.555830\n",
       "num_subscribers               32066.526042   3584.828565  4710.378821\n",
       "content_length                    3.449826      6.269931     6.158485\n",
       "publication_gap                   0.118411      0.109326     0.109685"
      ]
     },
     "execution_count": 9,
     "metadata": {},
     "output_type": "execute_result"
    }
   ],
   "source": [
    "all_courses  = course_details.mean().rename('All courses')\n",
    "paid_courses = course_details[course_details['is_paid']].mean().rename('Paid courses')\n",
    "free_courses = course_details[~course_details['is_paid']].mean().rename('Free courses')\n",
    "\n",
    "pd.concat([free_courses, paid_courses,all_courses], axis=1)"
   ]
  },
  {
   "cell_type": "markdown",
   "metadata": {},
   "source": [
    "First, we see the predominance of the paid courses as they represent 96% of this dataset. With this big proportion being paid, we can see the means of the paid group are very close to the means of the full dataset.\n",
    "\n",
    "We observe that for success factors, free courses are dominating : in terms of total subrscibers, the free courses hit 9 times more subscriber and 5 times more reviews than the paid ones on average.\n",
    "\n",
    "Conversely, free courses also seems to be less diligent in their content : the content length is doubled for paid courses, with 6h15 of lectures on averages for paid courses against 3h30 for free courses. The number of lectures is also higher for paid courses (+70%) .\n",
    "\n"
   ]
  },
  {
   "cell_type": "code",
   "execution_count": 10,
   "metadata": {
    "collapsed": true
   },
   "outputs": [],
   "source": [
    "# dropping free courses and is_paid column\n",
    "\n",
    "course_details = course_details[course_details['is_paid']]\n",
    "course_details.drop('is_paid', axis=1, inplace=True)"
   ]
  },
  {
   "cell_type": "markdown",
   "metadata": {},
   "source": [
    "# ** Now we only work with paid courses **"
   ]
  },
  {
   "cell_type": "markdown",
   "metadata": {},
   "source": [
    "### 2. Finding rankings"
   ]
  },
  {
   "cell_type": "markdown",
   "metadata": {},
   "source": [
    "###### Rank1"
   ]
  },
  {
   "cell_type": "code",
   "execution_count": 11,
   "metadata": {
    "collapsed": true
   },
   "outputs": [],
   "source": [
    "# rank by ratings\n",
    "course_details['Rank by avg_rating'] = course_details['avg_rating'].rank(method='min',ascending=False)"
   ]
  },
  {
   "cell_type": "markdown",
   "metadata": {},
   "source": [
    "#### Rank2"
   ]
  },
  {
   "cell_type": "code",
   "execution_count": 12,
   "metadata": {
    "collapsed": true
   },
   "outputs": [],
   "source": [
    "# rank by num subscribers\n",
    "course_details['Rank by num_subscribers'] = course_details['num_subscribers'].rank(method='min',ascending=False)"
   ]
  },
  {
   "cell_type": "markdown",
   "metadata": {},
   "source": [
    "#### Rank 3 and 4"
   ]
  },
  {
   "cell_type": "code",
   "execution_count": 25,
   "metadata": {
    "scrolled": true
   },
   "outputs": [],
   "source": [
    "# Creating the column 'age in months'\n",
    "\n",
    "from datetime import datetime\n",
    "# change today to when the dataset was scrapped : it was february 2019\n",
    "course_details['age in days'] = (datetime(2019,2,28) - course_details['published_time']).apply(lambda x : ((x.days)/30)+1)"
   ]
  },
  {
   "cell_type": "code",
   "execution_count": 26,
   "metadata": {},
   "outputs": [],
   "source": [
    "course_details['avg_r/(age)'] = course_details.apply(lambda row : row['avg_rating']/(row['age in days']), axis=1)\n",
    "\n",
    "course_details['Rank by avg_r/(age)'] = course_details['avg_r/(age)'].rank(method='min', ascending=False)"
   ]
  },
  {
   "cell_type": "code",
   "execution_count": 27,
   "metadata": {
    "collapsed": true
   },
   "outputs": [],
   "source": [
    "course_details['n_subs/(age)'] = course_details.apply(lambda row : row['num_subscribers']/(row['age in days']), axis=1)\n",
    "\n",
    "course_details['Rank by n_subs/(age)'] = course_details['n_subs/(age)'].rank(method='min',ascending=False)"
   ]
  },
  {
   "cell_type": "markdown",
   "metadata": {},
   "source": [
    "#### Rank 5 and 6"
   ]
  },
  {
   "cell_type": "code",
   "execution_count": 28,
   "metadata": {
    "collapsed": true
   },
   "outputs": [],
   "source": [
    "c1 = 2 #0.0025\n",
    "c2 = 5 #0.02"
   ]
  },
  {
   "cell_type": "code",
   "execution_count": 29,
   "metadata": {},
   "outputs": [],
   "source": [
    "# rank by average rating divided by ln(course age in days)\n",
    "course_details['avg_r/ln(age)'] = course_details.apply(lambda row : row['avg_rating']/np.log(c1*row['age in days']), axis=1)"
   ]
  },
  {
   "cell_type": "code",
   "execution_count": 30,
   "metadata": {},
   "outputs": [],
   "source": [
    "course_details['Rank by avg_r/ln(age)'] = course_details['avg_r/ln(age)'].rank(method='min',ascending=False)\n",
    "\n",
    "#course_details.drop('avg_r/ln(age)',axis=1,inplace=True)\n",
    "\n",
    "course_details['n_subs/ln(age)'] = course_details.apply(lambda row : row['num_subscribers']/np.log(c2*row['age in days']), axis=1)\n",
    "\n",
    "course_details['Rank by n_subs/ln(age)'] = course_details['n_subs/ln(age)'].rank(method='min',ascending=False)\n",
    "\n",
    "#course_details.drop('n_subs/ln(age)',axis=1,inplace=True)"
   ]
  },
  {
   "cell_type": "markdown",
   "metadata": {},
   "source": [
    "\n",
    "###### Comparing the ranks"
   ]
  },
  {
   "cell_type": "code",
   "execution_count": 49,
   "metadata": {
    "collapsed": true
   },
   "outputs": [],
   "source": [
    "import seaborn as sns"
   ]
  },
  {
   "cell_type": "markdown",
   "metadata": {},
   "source": [
    "**One first way to combine the 4 rankings, is to minimize the distance to all 4 ranks :  ==> By Mean of rankings**"
   ]
  },
  {
   "cell_type": "markdown",
   "metadata": {},
   "source": [
    "We want our output rank to be such that each course rank is at minimal total distance of its input ranks, in this case they are 4, and to be a valid rank"
   ]
  },
  {
   "cell_type": "code",
   "execution_count": 60,
   "metadata": {},
   "outputs": [],
   "source": [
    "agg_rank = (course_details['Rank by avg_r/(age)']+\n",
    "             course_details['Rank by avg_r/ln(age)']+\n",
    "             course_details['Rank by avg_rating']+\n",
    "             course_details['Rank by n_subs/(age)']+\n",
    "             course_details['Rank by n_subs/ln(age)']+\n",
    "             course_details['Rank by num_subscribers'])/6\n",
    "\n",
    "course_details['Rank aggreg']= agg_rank.rank(method='min',ascending=True)"
   ]
  },
  {
   "cell_type": "markdown",
   "metadata": {},
   "source": [
    "Plot"
   ]
  },
  {
   "cell_type": "code",
   "execution_count": 61,
   "metadata": {},
   "outputs": [
    {
     "data": {
      "text/html": [
       "<style  type=\"text/css\" >\n",
       "    #T_ce280da8_0d09_11ea_a3f1_204747773515row0_col0 {\n",
       "            background-color:  #b40426;\n",
       "        }    #T_ce280da8_0d09_11ea_a3f1_204747773515row0_col1 {\n",
       "            background-color:  #3b4cc0;\n",
       "        }    #T_ce280da8_0d09_11ea_a3f1_204747773515row0_col2 {\n",
       "            background-color:  #85a8fc;\n",
       "        }    #T_ce280da8_0d09_11ea_a3f1_204747773515row0_col3 {\n",
       "            background-color:  #3b4cc0;\n",
       "        }    #T_ce280da8_0d09_11ea_a3f1_204747773515row0_col4 {\n",
       "            background-color:  #cf453c;\n",
       "        }    #T_ce280da8_0d09_11ea_a3f1_204747773515row0_col5 {\n",
       "            background-color:  #3b4cc0;\n",
       "        }    #T_ce280da8_0d09_11ea_a3f1_204747773515row0_col6 {\n",
       "            background-color:  #3b4cc0;\n",
       "        }    #T_ce280da8_0d09_11ea_a3f1_204747773515row1_col0 {\n",
       "            background-color:  #94b6ff;\n",
       "        }    #T_ce280da8_0d09_11ea_a3f1_204747773515row1_col1 {\n",
       "            background-color:  #b40426;\n",
       "        }    #T_ce280da8_0d09_11ea_a3f1_204747773515row1_col2 {\n",
       "            background-color:  #485fd1;\n",
       "        }    #T_ce280da8_0d09_11ea_a3f1_204747773515row1_col3 {\n",
       "            background-color:  #cc403a;\n",
       "        }    #T_ce280da8_0d09_11ea_a3f1_204747773515row1_col4 {\n",
       "            background-color:  #90b2fe;\n",
       "        }    #T_ce280da8_0d09_11ea_a3f1_204747773515row1_col5 {\n",
       "            background-color:  #c32e31;\n",
       "        }    #T_ce280da8_0d09_11ea_a3f1_204747773515row1_col6 {\n",
       "            background-color:  #f7af91;\n",
       "        }    #T_ce280da8_0d09_11ea_a3f1_204747773515row2_col0 {\n",
       "            background-color:  #c9d7f0;\n",
       "        }    #T_ce280da8_0d09_11ea_a3f1_204747773515row2_col1 {\n",
       "            background-color:  #4257c9;\n",
       "        }    #T_ce280da8_0d09_11ea_a3f1_204747773515row2_col2 {\n",
       "            background-color:  #b40426;\n",
       "        }    #T_ce280da8_0d09_11ea_a3f1_204747773515row2_col3 {\n",
       "            background-color:  #90b2fe;\n",
       "        }    #T_ce280da8_0d09_11ea_a3f1_204747773515row2_col4 {\n",
       "            background-color:  #f5c1a9;\n",
       "        }    #T_ce280da8_0d09_11ea_a3f1_204747773515row2_col5 {\n",
       "            background-color:  #81a4fb;\n",
       "        }    #T_ce280da8_0d09_11ea_a3f1_204747773515row2_col6 {\n",
       "            background-color:  #6180e9;\n",
       "        }    #T_ce280da8_0d09_11ea_a3f1_204747773515row3_col0 {\n",
       "            background-color:  #3b4cc0;\n",
       "        }    #T_ce280da8_0d09_11ea_a3f1_204747773515row3_col1 {\n",
       "            background-color:  #d44e41;\n",
       "        }    #T_ce280da8_0d09_11ea_a3f1_204747773515row3_col2 {\n",
       "            background-color:  #3b4cc0;\n",
       "        }    #T_ce280da8_0d09_11ea_a3f1_204747773515row3_col3 {\n",
       "            background-color:  #b40426;\n",
       "        }    #T_ce280da8_0d09_11ea_a3f1_204747773515row3_col4 {\n",
       "            background-color:  #3b4cc0;\n",
       "        }    #T_ce280da8_0d09_11ea_a3f1_204747773515row3_col5 {\n",
       "            background-color:  #b50927;\n",
       "        }    #T_ce280da8_0d09_11ea_a3f1_204747773515row3_col6 {\n",
       "            background-color:  #b9d0f9;\n",
       "        }    #T_ce280da8_0d09_11ea_a3f1_204747773515row4_col0 {\n",
       "            background-color:  #cc403a;\n",
       "        }    #T_ce280da8_0d09_11ea_a3f1_204747773515row4_col1 {\n",
       "            background-color:  #516ddb;\n",
       "        }    #T_ce280da8_0d09_11ea_a3f1_204747773515row4_col2 {\n",
       "            background-color:  #ead4c8;\n",
       "        }    #T_ce280da8_0d09_11ea_a3f1_204747773515row4_col3 {\n",
       "            background-color:  #5875e1;\n",
       "        }    #T_ce280da8_0d09_11ea_a3f1_204747773515row4_col4 {\n",
       "            background-color:  #b40426;\n",
       "        }    #T_ce280da8_0d09_11ea_a3f1_204747773515row4_col5 {\n",
       "            background-color:  #5673e0;\n",
       "        }    #T_ce280da8_0d09_11ea_a3f1_204747773515row4_col6 {\n",
       "            background-color:  #94b6ff;\n",
       "        }    #T_ce280da8_0d09_11ea_a3f1_204747773515row5_col0 {\n",
       "            background-color:  #4e68d8;\n",
       "        }    #T_ce280da8_0d09_11ea_a3f1_204747773515row5_col1 {\n",
       "            background-color:  #c83836;\n",
       "        }    #T_ce280da8_0d09_11ea_a3f1_204747773515row5_col2 {\n",
       "            background-color:  #3e51c5;\n",
       "        }    #T_ce280da8_0d09_11ea_a3f1_204747773515row5_col3 {\n",
       "            background-color:  #b50927;\n",
       "        }    #T_ce280da8_0d09_11ea_a3f1_204747773515row5_col4 {\n",
       "            background-color:  #4c66d6;\n",
       "        }    #T_ce280da8_0d09_11ea_a3f1_204747773515row5_col5 {\n",
       "            background-color:  #b40426;\n",
       "        }    #T_ce280da8_0d09_11ea_a3f1_204747773515row5_col6 {\n",
       "            background-color:  #d5dbe5;\n",
       "        }    #T_ce280da8_0d09_11ea_a3f1_204747773515row6_col0 {\n",
       "            background-color:  #f0cdbb;\n",
       "        }    #T_ce280da8_0d09_11ea_a3f1_204747773515row6_col1 {\n",
       "            background-color:  #e9785d;\n",
       "        }    #T_ce280da8_0d09_11ea_a3f1_204747773515row6_col2 {\n",
       "            background-color:  #e0dbd8;\n",
       "        }    #T_ce280da8_0d09_11ea_a3f1_204747773515row6_col3 {\n",
       "            background-color:  #f59c7d;\n",
       "        }    #T_ce280da8_0d09_11ea_a3f1_204747773515row6_col4 {\n",
       "            background-color:  #f7b79b;\n",
       "        }    #T_ce280da8_0d09_11ea_a3f1_204747773515row6_col5 {\n",
       "            background-color:  #f29274;\n",
       "        }    #T_ce280da8_0d09_11ea_a3f1_204747773515row6_col6 {\n",
       "            background-color:  #b40426;\n",
       "        }</style>  \n",
       "<table id=\"T_ce280da8_0d09_11ea_a3f1_204747773515\" > \n",
       "<thead>    <tr> \n",
       "        <th class=\"blank level0\" ></th> \n",
       "        <th class=\"col_heading level0 col0\" >Rank by avg_r/(age)</th> \n",
       "        <th class=\"col_heading level0 col1\" >Rank by n_subs/(age)</th> \n",
       "        <th class=\"col_heading level0 col2\" >Rank by avg_rating</th> \n",
       "        <th class=\"col_heading level0 col3\" >Rank by num_subscribers</th> \n",
       "        <th class=\"col_heading level0 col4\" >Rank by avg_r/ln(age)</th> \n",
       "        <th class=\"col_heading level0 col5\" >Rank by n_subs/ln(age)</th> \n",
       "        <th class=\"col_heading level0 col6\" >Rank aggreg</th> \n",
       "    </tr></thead> \n",
       "<tbody>    <tr> \n",
       "        <th id=\"T_ce280da8_0d09_11ea_a3f1_204747773515level0_row0\" class=\"row_heading level0 row0\" >Rank by avg_r/(age)</th> \n",
       "        <td id=\"T_ce280da8_0d09_11ea_a3f1_204747773515row0_col0\" class=\"data row0 col0\" >1</td> \n",
       "        <td id=\"T_ce280da8_0d09_11ea_a3f1_204747773515row0_col1\" class=\"data row0 col1\" >0.330092</td> \n",
       "        <td id=\"T_ce280da8_0d09_11ea_a3f1_204747773515row0_col2\" class=\"data row0 col2\" >0.472715</td> \n",
       "        <td id=\"T_ce280da8_0d09_11ea_a3f1_204747773515row0_col3\" class=\"data row0 col3\" >0.0791468</td> \n",
       "        <td id=\"T_ce280da8_0d09_11ea_a3f1_204747773515row0_col4\" class=\"data row0 col4\" >0.937804</td> \n",
       "        <td id=\"T_ce280da8_0d09_11ea_a3f1_204747773515row0_col5\" class=\"data row0 col5\" >0.137937</td> \n",
       "        <td id=\"T_ce280da8_0d09_11ea_a3f1_204747773515row0_col6\" class=\"data row0 col6\" >0.619897</td> \n",
       "    </tr>    <tr> \n",
       "        <th id=\"T_ce280da8_0d09_11ea_a3f1_204747773515level0_row1\" class=\"row_heading level0 row1\" >Rank by n_subs/(age)</th> \n",
       "        <td id=\"T_ce280da8_0d09_11ea_a3f1_204747773515row1_col0\" class=\"data row1 col0\" >0.330092</td> \n",
       "        <td id=\"T_ce280da8_0d09_11ea_a3f1_204747773515row1_col1\" class=\"data row1 col1\" >1</td> \n",
       "        <td id=\"T_ce280da8_0d09_11ea_a3f1_204747773515row1_col2\" class=\"data row1 col2\" >0.348233</td> \n",
       "        <td id=\"T_ce280da8_0d09_11ea_a3f1_204747773515row1_col3\" class=\"data row1 col3\" >0.937995</td> \n",
       "        <td id=\"T_ce280da8_0d09_11ea_a3f1_204747773515row1_col4\" class=\"data row1 col4\" >0.382194</td> \n",
       "        <td id=\"T_ce280da8_0d09_11ea_a3f1_204747773515row1_col5\" class=\"data row1 col5\" >0.963173</td> \n",
       "        <td id=\"T_ce280da8_0d09_11ea_a3f1_204747773515row1_col6\" class=\"data row1 col6\" >0.883665</td> \n",
       "    </tr>    <tr> \n",
       "        <th id=\"T_ce280da8_0d09_11ea_a3f1_204747773515level0_row2\" class=\"row_heading level0 row2\" >Rank by avg_rating</th> \n",
       "        <td id=\"T_ce280da8_0d09_11ea_a3f1_204747773515row2_col0\" class=\"data row2 col0\" >0.472715</td> \n",
       "        <td id=\"T_ce280da8_0d09_11ea_a3f1_204747773515row2_col1\" class=\"data row2 col1\" >0.348233</td> \n",
       "        <td id=\"T_ce280da8_0d09_11ea_a3f1_204747773515row2_col2\" class=\"data row2 col2\" >1</td> \n",
       "        <td id=\"T_ce280da8_0d09_11ea_a3f1_204747773515row2_col3\" class=\"data row2 col3\" >0.316874</td> \n",
       "        <td id=\"T_ce280da8_0d09_11ea_a3f1_204747773515row2_col4\" class=\"data row2 col4\" >0.697052</td> \n",
       "        <td id=\"T_ce280da8_0d09_11ea_a3f1_204747773515row2_col5\" class=\"data row2 col5\" >0.326466</td> \n",
       "        <td id=\"T_ce280da8_0d09_11ea_a3f1_204747773515row2_col6\" class=\"data row2 col6\" >0.666868</td> \n",
       "    </tr>    <tr> \n",
       "        <th id=\"T_ce280da8_0d09_11ea_a3f1_204747773515level0_row3\" class=\"row_heading level0 row3\" >Rank by num_subscribers</th> \n",
       "        <td id=\"T_ce280da8_0d09_11ea_a3f1_204747773515row3_col0\" class=\"data row3 col0\" >0.0791468</td> \n",
       "        <td id=\"T_ce280da8_0d09_11ea_a3f1_204747773515row3_col1\" class=\"data row3 col1\" >0.937995</td> \n",
       "        <td id=\"T_ce280da8_0d09_11ea_a3f1_204747773515row3_col2\" class=\"data row3 col2\" >0.316874</td> \n",
       "        <td id=\"T_ce280da8_0d09_11ea_a3f1_204747773515row3_col3\" class=\"data row3 col3\" >1</td> \n",
       "        <td id=\"T_ce280da8_0d09_11ea_a3f1_204747773515row3_col4\" class=\"data row3 col4\" >0.166505</td> \n",
       "        <td id=\"T_ce280da8_0d09_11ea_a3f1_204747773515row3_col5\" class=\"data row3 col5\" >0.996393</td> \n",
       "        <td id=\"T_ce280da8_0d09_11ea_a3f1_204747773515row3_col6\" class=\"data row3 col6\" >0.76315</td> \n",
       "    </tr>    <tr> \n",
       "        <th id=\"T_ce280da8_0d09_11ea_a3f1_204747773515level0_row4\" class=\"row_heading level0 row4\" >Rank by avg_r/ln(age)</th> \n",
       "        <td id=\"T_ce280da8_0d09_11ea_a3f1_204747773515row4_col0\" class=\"data row4 col0\" >0.937804</td> \n",
       "        <td id=\"T_ce280da8_0d09_11ea_a3f1_204747773515row4_col1\" class=\"data row4 col1\" >0.382194</td> \n",
       "        <td id=\"T_ce280da8_0d09_11ea_a3f1_204747773515row4_col2\" class=\"data row4 col2\" >0.697052</td> \n",
       "        <td id=\"T_ce280da8_0d09_11ea_a3f1_204747773515row4_col3\" class=\"data row4 col3\" >0.166505</td> \n",
       "        <td id=\"T_ce280da8_0d09_11ea_a3f1_204747773515row4_col4\" class=\"data row4 col4\" >1</td> \n",
       "        <td id=\"T_ce280da8_0d09_11ea_a3f1_204747773515row4_col5\" class=\"data row4 col5\" >0.218403</td> \n",
       "        <td id=\"T_ce280da8_0d09_11ea_a3f1_204747773515row4_col6\" class=\"data row4 col6\" >0.723729</td> \n",
       "    </tr>    <tr> \n",
       "        <th id=\"T_ce280da8_0d09_11ea_a3f1_204747773515level0_row5\" class=\"row_heading level0 row5\" >Rank by n_subs/ln(age)</th> \n",
       "        <td id=\"T_ce280da8_0d09_11ea_a3f1_204747773515row5_col0\" class=\"data row5 col0\" >0.137937</td> \n",
       "        <td id=\"T_ce280da8_0d09_11ea_a3f1_204747773515row5_col1\" class=\"data row5 col1\" >0.963173</td> \n",
       "        <td id=\"T_ce280da8_0d09_11ea_a3f1_204747773515row5_col2\" class=\"data row5 col2\" >0.326466</td> \n",
       "        <td id=\"T_ce280da8_0d09_11ea_a3f1_204747773515row5_col3\" class=\"data row5 col3\" >0.996393</td> \n",
       "        <td id=\"T_ce280da8_0d09_11ea_a3f1_204747773515row5_col4\" class=\"data row5 col4\" >0.218403</td> \n",
       "        <td id=\"T_ce280da8_0d09_11ea_a3f1_204747773515row5_col5\" class=\"data row5 col5\" >1</td> \n",
       "        <td id=\"T_ce280da8_0d09_11ea_a3f1_204747773515row5_col6\" class=\"data row5 col6\" >0.799338</td> \n",
       "    </tr>    <tr> \n",
       "        <th id=\"T_ce280da8_0d09_11ea_a3f1_204747773515level0_row6\" class=\"row_heading level0 row6\" >Rank aggreg</th> \n",
       "        <td id=\"T_ce280da8_0d09_11ea_a3f1_204747773515row6_col0\" class=\"data row6 col0\" >0.619897</td> \n",
       "        <td id=\"T_ce280da8_0d09_11ea_a3f1_204747773515row6_col1\" class=\"data row6 col1\" >0.883665</td> \n",
       "        <td id=\"T_ce280da8_0d09_11ea_a3f1_204747773515row6_col2\" class=\"data row6 col2\" >0.666868</td> \n",
       "        <td id=\"T_ce280da8_0d09_11ea_a3f1_204747773515row6_col3\" class=\"data row6 col3\" >0.76315</td> \n",
       "        <td id=\"T_ce280da8_0d09_11ea_a3f1_204747773515row6_col4\" class=\"data row6 col4\" >0.723729</td> \n",
       "        <td id=\"T_ce280da8_0d09_11ea_a3f1_204747773515row6_col5\" class=\"data row6 col5\" >0.799338</td> \n",
       "        <td id=\"T_ce280da8_0d09_11ea_a3f1_204747773515row6_col6\" class=\"data row6 col6\" >1</td> \n",
       "    </tr></tbody> \n",
       "</table> "
      ],
      "text/plain": [
       "<pandas.io.formats.style.Styler at 0x1e756eafb38>"
      ]
     },
     "execution_count": 61,
     "metadata": {},
     "output_type": "execute_result"
    }
   ],
   "source": [
    "ranks_Df = course_details[['Rank by avg_r/(age)','Rank by n_subs/(age)','Rank by avg_rating','Rank by num_subscribers','Rank by avg_r/ln(age)','Rank by n_subs/ln(age)','Rank aggreg']]\n",
    "corr = ranks_Df.corr(method='spearman')\n",
    "corr.style.background_gradient(cmap='coolwarm')"
   ]
  },
  {
   "cell_type": "markdown",
   "metadata": {},
   "source": [
    "We keep only the **n_subs/ln(age)** rank."
   ]
  },
  {
   "cell_type": "code",
   "execution_count": 67,
   "metadata": {},
   "outputs": [
    {
     "data": {
      "text/plain": [
       "<matplotlib.axes._subplots.AxesSubplot at 0x1e75852cb00>"
      ]
     },
     "execution_count": 67,
     "metadata": {},
     "output_type": "execute_result"
    },
    {
     "data": {
      "image/png": "[encoded data removed]",
      "text/plain": [
       "<Figure size 576x576 with 1 Axes>"
      ]
     },
     "metadata": {},
     "output_type": "display_data"
    }
   ],
   "source": [
    "# if n subs/ln is greateter than 20.000, then down to 20.000\n",
    "course_details['n_subs/ln(age)'] = course_details['n_subs/ln(age)'].apply(lambda x : 20000 if x >20000 else x )\n",
    "fig, ax = plt.subplots(1,1, figsize=(8,8))\n",
    "\n",
    "ax.set_title('n_subs/ln(age)')\n",
    "#ax[1].set_title('avg_r/ln(age)')\n",
    "\n",
    "course_details['n_subs/ln(age)'].sort_values().plot.hist(bins=80, ax=ax)\n",
    "#course_details['avg_r/ln(age)'].sort_values().plot.hist(bins=80, ax=ax[1])"
   ]
  },
  {
   "cell_type": "code",
   "execution_count": 68,
   "metadata": {},
   "outputs": [
    {
     "data": {
      "text/plain": [
       "0.15986285224472302"
      ]
     },
     "execution_count": 68,
     "metadata": {},
     "output_type": "execute_result"
    }
   ],
   "source": [
    "ser = course_details['n_subs/ln(age)'].apply(lambda x : x>1000)\n",
    "\n",
    "ser.mean()"
   ]
  },
  {
   "cell_type": "markdown",
   "metadata": {},
   "source": [
    "We have 16% of the courses that score higher than 1000 at this metric ( n_subs/ln(age) ). We **label them as successfull**"
   ]
  },
  {
   "cell_type": "code",
   "execution_count": 69,
   "metadata": {
    "collapsed": true
   },
   "outputs": [],
   "source": [
    "course_details['success'] = ser"
   ]
  },
  {
   "cell_type": "markdown",
   "metadata": {},
   "source": [
    "##### CourseSyllabi"
   ]
  },
  {
   "cell_type": "markdown",
   "metadata": {},
   "source": [
    "Let us plot the variety of content and its proportion in the dataset :  "
   ]
  },
  {
   "cell_type": "code",
   "execution_count": null,
   "metadata": {},
   "outputs": [],
   "source": [
    "course_syllabi['content_class'].value_counts().plot.pie(y='content_class', figsize=(7,7))"
   ]
  },
  {
   "cell_type": "markdown",
   "metadata": {},
   "source": [
    "**What are the biggest courses in term of number of elements ?**\n",
    "\n",
    "We can see there is a large gap "
   ]
  },
  {
   "cell_type": "code",
   "execution_count": null,
   "metadata": {
    "collapsed": true
   },
   "outputs": [],
   "source": [
    "s = course_syllabi['course_id'].value_counts()\n",
    "s1 = pd.Series(dict((v,k) for k,v in s.iteritems()))"
   ]
  },
  {
   "cell_type": "code",
   "execution_count": null,
   "metadata": {},
   "outputs": [],
   "source": [
    "s.value_counts().plot()"
   ]
  },
  {
   "cell_type": "code",
   "execution_count": null,
   "metadata": {},
   "outputs": [],
   "source": [
    "fig, ax = plt.subplots(1,2, sharey=True)\n",
    "course_syllabi['course_id'].value_counts().head(15).plot(ax=ax[0], kind='bar', figsize=(14,7))\n",
    "#ax[1].xaxis.label.set_visible(False)\n",
    "\n",
    "#course_syllabi['course_id'].value_counts().plot(ax=ax[1],kind='bar', figsize=(14,7))\n",
    "\n",
    "# todo : show full ditribution in second ax"
   ]
  },
  {
   "cell_type": "code",
   "execution_count": null,
   "metadata": {
    "collapsed": true
   },
   "outputs": [],
   "source": []
  },
  {
   "cell_type": "markdown",
   "metadata": {},
   "source": [
    "##### CourseReviews"
   ]
  },
  {
   "cell_type": "markdown",
   "metadata": {},
   "source": [
    "**Reviews Distribution :** We can see hereunder that **most reviews are positive** with 53% being 5 stars, 85% of reviews are 4 stars or higher :"
   ]
  },
  {
   "cell_type": "code",
   "execution_count": null,
   "metadata": {},
   "outputs": [],
   "source": [
    "fig, ax = plt.subplots()\n",
    "course_reviews['rating'].value_counts(1).sort_index().plot(ax=ax, kind='bar')"
   ]
  },
  {
   "cell_type": "markdown",
   "metadata": {},
   "source": [
    "We can compare ratings with text against ratings without : \n",
    "\n",
    "**Hypothesis** While mostly favorable reviews are given, in opposition ti bad reviews : a user is more willing to reviews if he has a good opinion about the course. But users who take time to write constructuve reviews tends to be less  appreciative of the course\n"
   ]
  },
  {
   "cell_type": "code",
   "execution_count": null,
   "metadata": {},
   "outputs": [],
   "source": [
    "fig, ax = plt.subplots(1,2, sharey=True)\n",
    "\n",
    "# set title\n",
    "ax[0].set_title('Without Text')\n",
    "ax[1].set_title('With Text')\n",
    "\n",
    "# set mean line\n",
    "ax[0].axhline(course_reviews[ course_reviews['text'].isna()]['rating'].mean())\n",
    "ax[1].axhline(course_reviews[~course_reviews['text'].isna()]['rating'].mean())\n",
    "\n",
    "# plot\n",
    "course_reviews[ course_reviews['text'].isna()]['rating'].value_counts(1).sort_index().plot(ax=ax[0], kind='barh', figsize=(14,7))\n",
    "course_reviews[~course_reviews['text'].isna()]['rating'].value_counts(1).sort_index().plot(ax=ax[1], kind='barh', figsize=(14,7))\n"
   ]
  },
  {
   "cell_type": "code",
   "execution_count": null,
   "metadata": {},
   "outputs": [],
   "source": [
    "# Error to stop exec\n",
    "error"
   ]
  },
  {
   "cell_type": "markdown",
   "metadata": {},
   "source": [
    "We can study sentiments in textual reviews. \n",
    "To do so,  we 'll be using the [Vader model](https://medium.com/analytics-vidhya/simplifying-social-media-sentiment-analysis-using-vader-in-python-f9e6ec6fc52f), which a pretrained NLP model from the [nltk package](https://www.nltk.org/_modules/nltk/sentiment/vader.html) ."
   ]
  },
  {
   "cell_type": "code",
   "execution_count": null,
   "metadata": {
    "collapsed": true
   },
   "outputs": [],
   "source": [
    "analyser = SentimentIntensityAnalyzer()\n",
    "course_reviews['positiv']= course_reviews['text'].apply(lambda x : x if x is np.nan else analyser.polarity_scores(x).get('pos'))\n",
    "course_reviews['neutral']= course_reviews['text'].apply(lambda x : x if x is np.nan else analyser.polarity_scores(x).get('neu'))\n",
    "course_reviews['negativ']= course_reviews['text'].apply(lambda x : x if x is np.nan else analyser.polarity_scores(x).get('neg'))\n",
    "course_reviews['compound']= course_reviews['text'].apply(lambda x : x if x is np.nan else analyser.polarity_scores(x).get('compound'))\n"
   ]
  },
  {
   "cell_type": "code",
   "execution_count": null,
   "metadata": {
    "collapsed": true
   },
   "outputs": [],
   "source": [
    "course_reviews['sentiment'] = course_reviews.apply(lambda row : np.nan if np.isnan(row['compound']) else ('Neutral' if row['neutral']>.9 else ('Positiv' if row['positiv']>row['negativ'] else 'Negativ')), axis =1)"
   ]
  },
  {
   "cell_type": "code",
   "execution_count": null,
   "metadata": {
    "collapsed": true
   },
   "outputs": [],
   "source": [
    "course_reviews['sentiment'].value_counts().plot.pie(figsize=(7,7))"
   ]
  },
  {
   "cell_type": "markdown",
   "metadata": {},
   "source": [
    "**Result**\n",
    "\n",
    "Looking at the ditribution of commented vs uncommented ratings, we see that both groups have routhly the same distribution and mean.\n",
    "\n",
    "The sentiment analysis showed that uncommented ratings are largely positive\n",
    "\n",
    "**The hypothesis stated above appear to be incorrect.**"
   ]
  }
 ],
 "metadata": {
  "kernelspec": {
   "display_name": "Python 3",
   "language": "python",
   "name": "python3"
  },
  "language_info": {
   "codemirror_mode": {
    "name": "ipython",
    "version": 3
   },
   "file_extension": ".py",
   "mimetype": "text/x-python",
   "name": "python",
   "nbconvert_exporter": "python",
   "pygments_lexer": "ipython3",
   "version": "3.6.3"
  }
 },
 "nbformat": 4,
 "nbformat_minor": 2
}
