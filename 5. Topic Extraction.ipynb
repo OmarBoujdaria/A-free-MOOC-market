{
 "cells": [
  {
   "cell_type": "code",
   "execution_count": 12,
   "metadata": {
    "collapsed": true
   },
   "outputs": [],
   "source": [
    "import numpy as np\n",
    "import pandas as pd\n",
    "\n",
    "import gensim\n",
    "from gensim.utils import simple_preprocess\n",
    "from gensim.parsing.preprocessing import STOPWORDS\n",
    "\n",
    "from nltk.stem import WordNetLemmatizer, SnowballStemmer\n",
    "from nltk.stem.porter import *\n",
    "\n",
    "import numpy as np\n",
    "np.random.seed(2018)"
   ]
  },
  {
   "cell_type": "markdown",
   "metadata": {},
   "source": [
    "First we will only work on Title"
   ]
  },
  {
   "cell_type": "code",
   "execution_count": 13,
   "metadata": {
    "collapsed": true
   },
   "outputs": [],
   "source": [
    "course_details = pd.read_pickle('Preproccessed Data/Explored Data/course_details.pkl')"
   ]
  },
  {
   "cell_type": "code",
   "execution_count": 14,
   "metadata": {
    "collapsed": true
   },
   "outputs": [],
   "source": [
    "course_syllabi = pd.read_pickle('Preproccessed Data/Explored Data/course_syllabi.pkl')"
   ]
  },
  {
   "cell_type": "code",
   "execution_count": 15,
   "metadata": {},
   "outputs": [],
   "source": [
    "course_reviews = pd.read_pickle('Preproccessed Data/Explored Data/course_reviews.pkl')"
   ]
  },
  {
   "cell_type": "markdown",
   "metadata": {},
   "source": []
  },
  {
   "cell_type": "code",
   "execution_count": 35,
   "metadata": {
    "scrolled": true
   },
   "outputs": [
    {
     "data": {
      "text/plain": [
       "id\n",
       "8082                          Ruby Programming for Beginners\n",
       "8203                         Basic and Advanced HTML Lessons\n",
       "8319                      Git Basics: In Theory and Practice\n",
       "8324                                Javascript for Beginners\n",
       "8325                 HTML Tutorial: HTML & CSS for Beginners\n",
       "8416       Beginners - How To Create iPhone And iPad Apps...\n",
       "8723             C Programming: iOS Development Starts Here!\n",
       "9463       Programming Java for Beginners - The Ultimate ...\n",
       "10321                              Learn to Program with C++\n",
       "10620      Practical Transformation Using XSLT and XPath ...\n",
       "10629         Introduction to Microsoft SQL Server Databases\n",
       "10681         Advanced Ruby Programming: 10 Steps to Mastery\n",
       "11064      Learn to make HTML 5, Facebook, Chrome Store g...\n",
       "11152         Learning C# .NET - Programming for Beginners. \n",
       "11153         Learn jQuery: An In-depth Course For Beginners\n",
       "11174                    Become a Web Developer from Scratch\n",
       "11197                  PHP Tutorial: PHP/MySQL for Beginners\n",
       "11305                     Getting Started with Ruby on Rails\n",
       "11475                       Become a Certified Web Developer\n",
       "12226                             Learn C++ Game Development\n",
       "12318                    Learn Python, it's CAKE (Beginners)\n",
       "12865                            Java Essentials for Android\n",
       "12975      Introduction to Java Programming for Online Le...\n",
       "13539      Make iPhone and iPad games in 1 hour without p...\n",
       "14038          Create Your Own iPad & Android Publications  \n",
       "14346               Learn C# Programming (In Ten Easy Steps)\n",
       "14571      Learn HTML5 At Your Own Pace. Ideal for Beginners\n",
       "14642                        Zen Cart E-Commerce Quick Start\n",
       "14828                                       CSS Fundamentals\n",
       "15285                                          HTML Workshop\n",
       "                                 ...                        \n",
       "2200694                           Professional Spring Boot 2\n",
       "2200816    Hands-On TypeScript 3 and Angular 7 for Web De...\n",
       "2200830                      Hands-On Cryptography with Java\n",
       "2200844           React Native: Tips, Tricks, and Techniques\n",
       "2200880    Modernize ASP.NET Web Apps with Azure App Service\n",
       "2200924    Hands-On Natural Language Processing with Pytorch\n",
       "2201958                                     Learn JavaScript\n",
       "2202220                              The Gitlab Crash Course\n",
       "2202988                      Deep Learning with Apache Spark\n",
       "2203096    Hands-On Web Application Development with Laravel\n",
       "2203108        Hands-On Amazon Redshift for Data Warehousing\n",
       "2203148           Hands-On Deep Learning for Computer Vision\n",
       "2203166         Build a Real-World App with ASP.NET Core MVC\n",
       "2203238                       Data Wrangling with Python 3.x\n",
       "2203358                     Hands-On Android Material Design\n",
       "2203448    Full Stack Web Development with Vue.js and Nod...\n",
       "2203490                           Beginning ASP.NET Core 3.0\n",
       "2203594                                         Learn jQuery\n",
       "2204406     The Ultimate Coding Course for Android and Ruby!\n",
       "2205598        Android 9.0 Pie: Essential Developer Training\n",
       "2206058    Let's learn Terraform-Toolset for infrastructu...\n",
       "2207048    Python for beginners (Lots of lectures are pub...\n",
       "2207958              Laravel + Vue: Create an advanced forum\n",
       "2211068    Applied Statistics and Data Preparation with P...\n",
       "2211082          Angular and Laravel Passport Authentication\n",
       "2211128    Data Visualizations using Python with Data Pre...\n",
       "2214658    WordPress Ecommerce: Build online stores with ...\n",
       "2218762                  MapReduce Architecture for Big Data\n",
       "2218844          Random Forest Algorithm in Machine Learning\n",
       "2219426    Let’s Build: Event Scheduling App with with St...\n",
       "Name: source_text, Length: 9333, dtype: object"
      ]
     },
     "execution_count": 35,
     "metadata": {},
     "output_type": "execute_result"
    }
   ],
   "source": [
    "# column for text to be processed, choose one line\n",
    "\n",
    "course_details['source_text'] = course_details['title']\n",
    "#course_details['source_text'] = course_details.apply(lambda row : row['title']+' '+''.join(row['objectives']), axis =1)\n",
    "#course_details['source_text'] = course_details.apply(lambda row : row['title']+' '+''.join(row['prerequisites']), axis =1)\n",
    "\n",
    "course_details['source_text']"
   ]
  },
  {
   "cell_type": "code",
   "execution_count": 36,
   "metadata": {
    "collapsed": true
   },
   "outputs": [],
   "source": [
    "def lemmatize_stemming(text):\n",
    "    stemmer = SnowballStemmer('english')\n",
    "    return stemmer.stem(WordNetLemmatizer().lemmatize(text, pos='v'))"
   ]
  },
  {
   "cell_type": "code",
   "execution_count": 46,
   "metadata": {
    "collapsed": true
   },
   "outputs": [],
   "source": [
    "Negative_keywords = [\n",
    "    'learning',\n",
    "    'learn',\n",
    "    'course',\n",
    "    'complete',\n",
    "    'create',\n",
    "    'developing',\n",
    "    \n",
    "    'development',\n",
    "    'programming'\n",
    "    \n",
    "    'coding',\n",
    "    'build',\n",
    "    'scratch',\n",
    "    \n",
    "    'getting',\n",
    "    'started,'\n",
    "    'easy',\n",
    "    'basic',\n",
    "    'basics',\n",
    "    'advanced',\n",
    "    'fundamentals',\n",
    "    'beginners',\n",
    "    \n",
    "    'tutorial',\n",
    "    'lessons',\n",
    "    'practical',\n",
    "    'depth',\n",
    "    'introduction',\n",
    "    'better'\n",
    "    \n",
    "]"
   ]
  },
  {
   "cell_type": "code",
   "execution_count": 47,
   "metadata": {
    "collapsed": true
   },
   "outputs": [],
   "source": [
    "def preprocess(text):\n",
    "    result = []\n",
    "    for token in gensim.utils.simple_preprocess(text):\n",
    "        if (token not in gensim.parsing.preprocessing.STOPWORDS) and (token not in Negative_keywords):\n",
    "            #result.append(lemmatize_stemming(token))\n",
    "            result.append(token)\n",
    "    return result"
   ]
  },
  {
   "cell_type": "code",
   "execution_count": null,
   "metadata": {
    "collapsed": true
   },
   "outputs": [],
   "source": []
  },
  {
   "cell_type": "code",
   "execution_count": 48,
   "metadata": {},
   "outputs": [
    {
     "data": {
      "text/plain": [
       "id\n",
       "8082                                   [ruby, programming]\n",
       "8203                                                [html]\n",
       "8319                               [git, theory, practice]\n",
       "8324                                          [javascript]\n",
       "8325                                     [html, html, css]\n",
       "8416                    [iphone, ipad, apps, zero, coding]\n",
       "8723                            [programming, ios, starts]\n",
       "9463                   [programming, java, ultimate, java]\n",
       "10321                                            [program]\n",
       "10620    [transformation, xslt, xpath, hour, free, prev...\n",
       "10629                  [microsoft, sql, server, databases]\n",
       "10681                  [ruby, programming, steps, mastery]\n",
       "11064               [html, facebook, chrome, store, games]\n",
       "11152                                   [net, programming]\n",
       "11153                                             [jquery]\n",
       "11174                                     [web, developer]\n",
       "11197                                    [php, php, mysql]\n",
       "11305                               [started, ruby, rails]\n",
       "11475                          [certified, web, developer]\n",
       "12226                                               [game]\n",
       "12318                                       [python, cake]\n",
       "12865                          [java, essentials, android]\n",
       "12975                [java, programming, online, learners]\n",
       "13539             [iphone, ipad, games, hour, programming]\n",
       "14038                        [ipad, android, publications]\n",
       "14346                           [programming, easy, steps]\n",
       "14571                                  [html, pace, ideal]\n",
       "14642                  [zen, cart, commerce, quick, start]\n",
       "14828                                                [css]\n",
       "15285                                     [html, workshop]\n",
       "                               ...                        \n",
       "23787                                         [javascript]\n",
       "23850                                   [mobile, websites]\n",
       "24251        [add, app, purchases, iphone, app, easy, way]\n",
       "24334                                           [css, css]\n",
       "24422                                    [program, pascal]\n",
       "25111                        [html, createjs, interactive]\n",
       "25615                    [login, registration, php, mysql]\n",
       "25924                           [selenium, ide, webdriver]\n",
       "26194                                 [games, programming]\n",
       "26656                        [profiting, qr, codes, twist]\n",
       "26845                              [html, web, developers]\n",
       "27449                      [programming, non, programmers]\n",
       "27662                            [wp, commerce, wordpress]\n",
       "27868                                 [test, driven, java]\n",
       "28295       [web, designing, html, css, essentials, hours]\n",
       "28373                                  [java, programming]\n",
       "28577                            [beginning, mobile, game]\n",
       "29563                                           [ios, app]\n",
       "30204               [flowcharting, pseudocode, programmer]\n",
       "30243          [mastering, html, programming, easier, way]\n",
       "30261                [kids, coding, html, css, javascript]\n",
       "30318         [javascript, programming, definitive, guide]\n",
       "30763            [python, gui, programming, qt, framework]\n",
       "30911            [html, apis, javascript, web, developers]\n",
       "31592                            [sql, server, essentials]\n",
       "32649    [php, mysql, easy, way, master, php, mysql, qu...\n",
       "33188          [ios, app, easy, iphone, xcode, reskinning]\n",
       "33527                                      [cpanel, crash]\n",
       "33619        [codename, write, native, mobile, apps, java]\n",
       "33950         [develop, ios, game, cocos, game, framework]\n",
       "Name: PreprocessLDA, Length: 100, dtype: object"
      ]
     },
     "execution_count": 48,
     "metadata": {},
     "output_type": "execute_result"
    }
   ],
   "source": [
    "course_details['PreprocessLDA'] = course_details['source_text'].apply(preprocess)\n",
    "course_details['PreprocessLDA'].head(100)"
   ]
  },
  {
   "cell_type": "code",
   "execution_count": 49,
   "metadata": {
    "collapsed": true
   },
   "outputs": [],
   "source": [
    "# Bag of words dict\n",
    "dictionary = gensim.corpora.Dictionary(course_details['PreprocessLDA'])"
   ]
  },
  {
   "cell_type": "code",
   "execution_count": 50,
   "metadata": {
    "collapsed": true
   },
   "outputs": [],
   "source": [
    "# Bag of words corpus\n",
    "course_details['bow_corpus'] = course_details['PreprocessLDA'].apply(lambda x : dictionary.doc2bow(x)) \n",
    "bowcorpus = course_details['bow_corpus'].values.tolist()"
   ]
  },
  {
   "cell_type": "markdown",
   "metadata": {},
   "source": [
    "###### tf idf\n"
   ]
  },
  {
   "cell_type": "code",
   "execution_count": 51,
   "metadata": {
    "collapsed": true
   },
   "outputs": [],
   "source": [
    "from gensim import corpora, models\n",
    "tfidf = models.TfidfModel(bowcorpus)\n",
    "corpus_tfidf = tfidf[bowcorpus]"
   ]
  },
  {
   "cell_type": "code",
   "execution_count": 52,
   "metadata": {},
   "outputs": [
    {
     "data": {
      "text/plain": [
       "<module 'gensim.models' from 'C:\\\\Users\\\\Omar-Bouj\\\\Anaconda3\\\\lib\\\\site-packages\\\\gensim\\\\models\\\\__init__.py'>"
      ]
     },
     "execution_count": 52,
     "metadata": {},
     "output_type": "execute_result"
    }
   ],
   "source": [
    "models"
   ]
  },
  {
   "cell_type": "markdown",
   "metadata": {},
   "source": [
    "### LDA with bagOfWords"
   ]
  },
  {
   "cell_type": "code",
   "execution_count": 53,
   "metadata": {
    "collapsed": true
   },
   "outputs": [],
   "source": [
    "lda_model = gensim.models.LdaMulticore(bowcorpus, num_topics=15, id2word=dictionary, passes=2, workers=2)"
   ]
  },
  {
   "cell_type": "code",
   "execution_count": 54,
   "metadata": {},
   "outputs": [
    {
     "name": "stdout",
     "output_type": "stream",
     "text": [
      "Topic: 0 \n",
      "Words: 0.025*\"ios\" + 0.023*\"swift\" + 0.018*\"java\" + 0.018*\"web\" + 0.017*\"master\" + 0.015*\"unity\" + 0.015*\"website\" + 0.015*\"apps\" + 0.014*\"android\" + 0.014*\"app\"\n",
      "Topic: 1 \n",
      "Words: 0.068*\"html\" + 0.053*\"css\" + 0.022*\"beginner\" + 0.022*\"responsive\" + 0.019*\"website\" + 0.017*\"web\" + 0.013*\"javascript\" + 0.012*\"php\" + 0.011*\"kotlin\" + 0.010*\"framework\"\n",
      "Topic: 2 \n",
      "Words: 0.034*\"game\" + 0.030*\"unity\" + 0.017*\"spring\" + 0.017*\"ios\" + 0.015*\"games\" + 0.014*\"android\" + 0.014*\"developers\" + 0.014*\"app\" + 0.014*\"building\" + 0.011*\"apps\"\n",
      "Topic: 3 \n",
      "Words: 0.040*\"bootstrap\" + 0.032*\"net\" + 0.031*\"es\" + 0.022*\"web\" + 0.021*\"asp\" + 0.018*\"core\" + 0.015*\"application\" + 0.012*\"visual\" + 0.012*\"react\" + 0.012*\"ecmascript\"\n",
      "Topic: 4 \n",
      "Words: 0.054*\"python\" + 0.030*\"programming\" + 0.029*\"android\" + 0.028*\"testing\" + 0.022*\"php\" + 0.018*\"object\" + 0.016*\"data\" + 0.015*\"oriented\" + 0.015*\"beginner\" + 0.013*\"java\"\n",
      "Topic: 5 \n",
      "Words: 0.082*\"java\" + 0.050*\"programming\" + 0.040*\"python\" + 0.021*\"application\" + 0.013*\"apps\" + 0.011*\"fast\" + 0.010*\"gui\" + 0.010*\"framework\" + 0.009*\"design\" + 0.009*\"docker\"\n",
      "Topic: 6 \n",
      "Words: 0.055*\"app\" + 0.039*\"data\" + 0.029*\"android\" + 0.020*\"apps\" + 0.018*\"ios\" + 0.017*\"programming\" + 0.015*\"mobile\" + 0.014*\"beginner\" + 0.014*\"react\" + 0.014*\"python\"\n",
      "Topic: 7 \n",
      "Words: 0.043*\"javascript\" + 0.039*\"js\" + 0.021*\"projects\" + 0.018*\"node\" + 0.017*\"data\" + 0.016*\"real\" + 0.015*\"apps\" + 0.014*\"deep\" + 0.014*\"sql\" + 0.013*\"database\"\n",
      "Topic: 8 \n",
      "Words: 0.068*\"python\" + 0.066*\"programming\" + 0.020*\"language\" + 0.015*\"developer\" + 0.015*\"coding\" + 0.014*\"guide\" + 0.013*\"web\" + 0.013*\"hands\" + 0.012*\"game\" + 0.012*\"master\"\n",
      "Topic: 9 \n",
      "Words: 0.044*\"javascript\" + 0.035*\"css\" + 0.027*\"html\" + 0.022*\"hands\" + 0.018*\"hour\" + 0.017*\"guide\" + 0.017*\"machine\" + 0.014*\"game\" + 0.014*\"website\" + 0.012*\"swift\"\n",
      "Topic: 10 \n",
      "Words: 0.038*\"wordpress\" + 0.033*\"data\" + 0.032*\"game\" + 0.028*\"algorithms\" + 0.028*\"python\" + 0.022*\"unity\" + 0.022*\"guide\" + 0.022*\"web\" + 0.020*\"structures\" + 0.017*\"apache\"\n",
      "Topic: 11 \n",
      "Words: 0.081*\"web\" + 0.029*\"python\" + 0.020*\"angular\" + 0.020*\"sql\" + 0.019*\"building\" + 0.016*\"developer\" + 0.013*\"server\" + 0.012*\"php\" + 0.012*\"hands\" + 0.012*\"started\"\n",
      "Topic: 12 \n",
      "Words: 0.025*\"step\" + 0.020*\"python\" + 0.018*\"git\" + 0.016*\"game\" + 0.015*\"guide\" + 0.015*\"php\" + 0.014*\"project\" + 0.013*\"unity\" + 0.013*\"django\" + 0.013*\"kubernetes\"\n",
      "Topic: 13 \n",
      "Words: 0.050*\"aws\" + 0.048*\"step\" + 0.031*\"javascript\" + 0.019*\"guide\" + 0.017*\"design\" + 0.016*\"bundle\" + 0.015*\"net\" + 0.015*\"hands\" + 0.014*\"lambda\" + 0.013*\"programming\"\n",
      "Topic: 14 \n",
      "Words: 0.034*\"js\" + 0.030*\"web\" + 0.019*\"app\" + 0.019*\"sql\" + 0.017*\"blockchain\" + 0.015*\"application\" + 0.015*\"unity\" + 0.015*\"node\" + 0.014*\"game\" + 0.012*\"applications\"\n"
     ]
    }
   ],
   "source": [
    "for idx, topic in lda_model.print_topics(-1):\n",
    "    print('Topic: {} \\nWords: {}'.format(idx, topic))"
   ]
  },
  {
   "cell_type": "code",
   "execution_count": 55,
   "metadata": {},
   "outputs": [
    {
     "name": "stdout",
     "output_type": "stream",
     "text": [
      "\n",
      "Score: 0.8444422483444214\t \n",
      "Topic: 0.025*\"ios\" + 0.023*\"swift\" + 0.018*\"java\" + 0.018*\"web\" + 0.017*\"master\" + 0.015*\"unity\" + 0.015*\"website\" + 0.015*\"apps\" + 0.014*\"android\" + 0.014*\"app\"\n",
      "\n",
      "Score: 0.011111308820545673\t \n",
      "Topic: 0.055*\"app\" + 0.039*\"data\" + 0.029*\"android\" + 0.020*\"apps\" + 0.018*\"ios\" + 0.017*\"programming\" + 0.015*\"mobile\" + 0.014*\"beginner\" + 0.014*\"react\" + 0.014*\"python\"\n",
      "\n",
      "Score: 0.011111282743513584\t \n",
      "Topic: 0.034*\"game\" + 0.030*\"unity\" + 0.017*\"spring\" + 0.017*\"ios\" + 0.015*\"games\" + 0.014*\"android\" + 0.014*\"developers\" + 0.014*\"app\" + 0.014*\"building\" + 0.011*\"apps\"\n",
      "\n",
      "Score: 0.011111272498965263\t \n",
      "Topic: 0.044*\"javascript\" + 0.035*\"css\" + 0.027*\"html\" + 0.022*\"hands\" + 0.018*\"hour\" + 0.017*\"guide\" + 0.017*\"machine\" + 0.014*\"game\" + 0.014*\"website\" + 0.012*\"swift\"\n",
      "\n",
      "Score: 0.011111272498965263\t \n",
      "Topic: 0.034*\"js\" + 0.030*\"web\" + 0.019*\"app\" + 0.019*\"sql\" + 0.017*\"blockchain\" + 0.015*\"application\" + 0.015*\"unity\" + 0.015*\"node\" + 0.014*\"game\" + 0.012*\"applications\"\n",
      "\n",
      "Score: 0.01111126784235239\t \n",
      "Topic: 0.038*\"wordpress\" + 0.033*\"data\" + 0.032*\"game\" + 0.028*\"algorithms\" + 0.028*\"python\" + 0.022*\"unity\" + 0.022*\"guide\" + 0.022*\"web\" + 0.020*\"structures\" + 0.017*\"apache\"\n",
      "\n",
      "Score: 0.01111126784235239\t \n",
      "Topic: 0.025*\"step\" + 0.020*\"python\" + 0.018*\"git\" + 0.016*\"game\" + 0.015*\"guide\" + 0.015*\"php\" + 0.014*\"project\" + 0.013*\"unity\" + 0.013*\"django\" + 0.013*\"kubernetes\"\n",
      "\n",
      "Score: 0.011111265979707241\t \n",
      "Topic: 0.054*\"python\" + 0.030*\"programming\" + 0.029*\"android\" + 0.028*\"testing\" + 0.022*\"php\" + 0.018*\"object\" + 0.016*\"data\" + 0.015*\"oriented\" + 0.015*\"beginner\" + 0.013*\"java\"\n",
      "\n",
      "Score: 0.011111265979707241\t \n",
      "Topic: 0.050*\"aws\" + 0.048*\"step\" + 0.031*\"javascript\" + 0.019*\"guide\" + 0.017*\"design\" + 0.016*\"bundle\" + 0.015*\"net\" + 0.015*\"hands\" + 0.014*\"lambda\" + 0.013*\"programming\"\n",
      "\n",
      "Score: 0.011111265048384666\t \n",
      "Topic: 0.043*\"javascript\" + 0.039*\"js\" + 0.021*\"projects\" + 0.018*\"node\" + 0.017*\"data\" + 0.016*\"real\" + 0.015*\"apps\" + 0.014*\"deep\" + 0.014*\"sql\" + 0.013*\"database\"\n",
      "\n",
      "Score: 0.011111262254416943\t \n",
      "Topic: 0.082*\"java\" + 0.050*\"programming\" + 0.040*\"python\" + 0.021*\"application\" + 0.013*\"apps\" + 0.011*\"fast\" + 0.010*\"gui\" + 0.010*\"framework\" + 0.009*\"design\" + 0.009*\"docker\"\n",
      "\n",
      "Score: 0.011111260391771793\t \n",
      "Topic: 0.068*\"html\" + 0.053*\"css\" + 0.022*\"beginner\" + 0.022*\"responsive\" + 0.019*\"website\" + 0.017*\"web\" + 0.013*\"javascript\" + 0.012*\"php\" + 0.011*\"kotlin\" + 0.010*\"framework\"\n",
      "\n",
      "Score: 0.011111260391771793\t \n",
      "Topic: 0.040*\"bootstrap\" + 0.032*\"net\" + 0.031*\"es\" + 0.022*\"web\" + 0.021*\"asp\" + 0.018*\"core\" + 0.015*\"application\" + 0.012*\"visual\" + 0.012*\"react\" + 0.012*\"ecmascript\"\n",
      "\n",
      "Score: 0.011111260391771793\t \n",
      "Topic: 0.068*\"python\" + 0.066*\"programming\" + 0.020*\"language\" + 0.015*\"developer\" + 0.015*\"coding\" + 0.014*\"guide\" + 0.013*\"web\" + 0.013*\"hands\" + 0.012*\"game\" + 0.012*\"master\"\n",
      "\n",
      "Score: 0.01111125759780407\t \n",
      "Topic: 0.081*\"web\" + 0.029*\"python\" + 0.020*\"angular\" + 0.020*\"sql\" + 0.019*\"building\" + 0.016*\"developer\" + 0.013*\"server\" + 0.012*\"php\" + 0.012*\"hands\" + 0.012*\"started\"\n"
     ]
    }
   ],
   "source": [
    "for index, score in sorted(lda_model[bowcorpus[8082]], key=lambda tup: -1*tup[1]):\n",
    "    print(\"\\nScore: {}\\t \\nTopic: {}\".format(score, lda_model.print_topic(index, 10)))"
   ]
  },
  {
   "cell_type": "markdown",
   "metadata": {},
   "source": [
    "### LDA with TF IDF"
   ]
  },
  {
   "cell_type": "code",
   "execution_count": 56,
   "metadata": {
    "collapsed": true
   },
   "outputs": [],
   "source": [
    "lda_model_tfidf = gensim.models.LdaMulticore(corpus_tfidf, num_topics=10, id2word=dictionary, passes=2, workers=4)"
   ]
  },
  {
   "cell_type": "code",
   "execution_count": 57,
   "metadata": {},
   "outputs": [
    {
     "name": "stdout",
     "output_type": "stream",
     "text": [
      "Topic: 0 \n",
      "Words: 0.030*\"html\" + 0.029*\"javascript\" + 0.017*\"css\" + 0.017*\"programming\" + 0.016*\"java\" + 0.015*\"python\" + 0.015*\"step\" + 0.015*\"projects\" + 0.012*\"php\" + 0.010*\"web\"\n",
      "Topic: 1 \n",
      "Words: 0.017*\"android\" + 0.016*\"ios\" + 0.014*\"swift\" + 0.013*\"python\" + 0.010*\"apps\" + 0.010*\"programming\" + 0.009*\"game\" + 0.009*\"laravel\" + 0.008*\"building\" + 0.008*\"web\"\n",
      "Topic: 2 \n",
      "Words: 0.013*\"js\" + 0.013*\"node\" + 0.012*\"java\" + 0.011*\"spring\" + 0.010*\"beginning\" + 0.009*\"javascript\" + 0.009*\"algorithms\" + 0.008*\"structures\" + 0.008*\"web\" + 0.007*\"mongodb\"\n",
      "Topic: 3 \n",
      "Words: 0.034*\"programming\" + 0.013*\"app\" + 0.013*\"guide\" + 0.013*\"game\" + 0.012*\"android\" + 0.012*\"mastering\" + 0.011*\"jquery\" + 0.011*\"python\" + 0.011*\"unity\" + 0.010*\"mobile\"\n",
      "Topic: 4 \n",
      "Words: 0.024*\"unity\" + 0.016*\"game\" + 0.012*\"games\" + 0.009*\"js\" + 0.009*\"coding\" + 0.007*\"python\" + 0.007*\"beginner\" + 0.007*\"javascript\" + 0.007*\"web\" + 0.006*\"zero\"\n",
      "Topic: 5 \n",
      "Words: 0.012*\"guide\" + 0.011*\"web\" + 0.011*\"python\" + 0.010*\"typescript\" + 0.010*\"css\" + 0.009*\"developer\" + 0.008*\"ios\" + 0.008*\"website\" + 0.008*\"angularjs\" + 0.008*\"apps\"\n",
      "Topic: 6 \n",
      "Words: 0.017*\"data\" + 0.015*\"bootstrap\" + 0.011*\"python\" + 0.010*\"bootcamp\" + 0.010*\"website\" + 0.009*\"modern\" + 0.008*\"wordpress\" + 0.008*\"responsive\" + 0.008*\"coding\" + 0.008*\"php\"\n",
      "Topic: 7 \n",
      "Words: 0.021*\"python\" + 0.018*\"net\" + 0.015*\"web\" + 0.014*\"developer\" + 0.012*\"app\" + 0.011*\"asp\" + 0.011*\"core\" + 0.011*\"ios\" + 0.011*\"programming\" + 0.009*\"angular\"\n",
      "Topic: 8 \n",
      "Words: 0.015*\"web\" + 0.011*\"css\" + 0.010*\"application\" + 0.008*\"java\" + 0.008*\"game\" + 0.008*\"framework\" + 0.007*\"aws\" + 0.007*\"building\" + 0.007*\"spring\" + 0.007*\"php\"\n",
      "Topic: 9 \n",
      "Words: 0.016*\"java\" + 0.015*\"programming\" + 0.014*\"object\" + 0.014*\"oriented\" + 0.011*\"javascript\" + 0.011*\"language\" + 0.009*\"es\" + 0.009*\"python\" + 0.009*\"game\" + 0.009*\"step\"\n"
     ]
    }
   ],
   "source": [
    "for idx, topic in lda_model_tfidf.print_topics(-1):\n",
    "    print('Topic: {} \\nWords: {}'.format(idx, topic))"
   ]
  },
  {
   "cell_type": "code",
   "execution_count": 58,
   "metadata": {},
   "outputs": [
    {
     "name": "stdout",
     "output_type": "stream",
     "text": [
      "\n",
      "Score: 0.8444422483444214\t \n",
      "Topic: 0.025*\"ios\" + 0.023*\"swift\" + 0.018*\"java\" + 0.018*\"web\" + 0.017*\"master\" + 0.015*\"unity\" + 0.015*\"website\" + 0.015*\"apps\" + 0.014*\"android\" + 0.014*\"app\"\n",
      "\n",
      "Score: 0.011111298575997353\t \n",
      "Topic: 0.055*\"app\" + 0.039*\"data\" + 0.029*\"android\" + 0.020*\"apps\" + 0.018*\"ios\" + 0.017*\"programming\" + 0.015*\"mobile\" + 0.014*\"beginner\" + 0.014*\"react\" + 0.014*\"python\"\n",
      "\n",
      "Score: 0.011111282743513584\t \n",
      "Topic: 0.034*\"game\" + 0.030*\"unity\" + 0.017*\"spring\" + 0.017*\"ios\" + 0.015*\"games\" + 0.014*\"android\" + 0.014*\"developers\" + 0.014*\"app\" + 0.014*\"building\" + 0.011*\"apps\"\n",
      "\n",
      "Score: 0.011111272498965263\t \n",
      "Topic: 0.044*\"javascript\" + 0.035*\"css\" + 0.027*\"html\" + 0.022*\"hands\" + 0.018*\"hour\" + 0.017*\"guide\" + 0.017*\"machine\" + 0.014*\"game\" + 0.014*\"website\" + 0.012*\"swift\"\n",
      "\n",
      "Score: 0.011111272498965263\t \n",
      "Topic: 0.034*\"js\" + 0.030*\"web\" + 0.019*\"app\" + 0.019*\"sql\" + 0.017*\"blockchain\" + 0.015*\"application\" + 0.015*\"unity\" + 0.015*\"node\" + 0.014*\"game\" + 0.012*\"applications\"\n",
      "\n",
      "Score: 0.01111126784235239\t \n",
      "Topic: 0.038*\"wordpress\" + 0.033*\"data\" + 0.032*\"game\" + 0.028*\"algorithms\" + 0.028*\"python\" + 0.022*\"unity\" + 0.022*\"guide\" + 0.022*\"web\" + 0.020*\"structures\" + 0.017*\"apache\"\n",
      "\n",
      "Score: 0.01111126784235239\t \n",
      "Topic: 0.025*\"step\" + 0.020*\"python\" + 0.018*\"git\" + 0.016*\"game\" + 0.015*\"guide\" + 0.015*\"php\" + 0.014*\"project\" + 0.013*\"unity\" + 0.013*\"django\" + 0.013*\"kubernetes\"\n",
      "\n",
      "Score: 0.011111265979707241\t \n",
      "Topic: 0.054*\"python\" + 0.030*\"programming\" + 0.029*\"android\" + 0.028*\"testing\" + 0.022*\"php\" + 0.018*\"object\" + 0.016*\"data\" + 0.015*\"oriented\" + 0.015*\"beginner\" + 0.013*\"java\"\n",
      "\n",
      "Score: 0.011111265979707241\t \n",
      "Topic: 0.050*\"aws\" + 0.048*\"step\" + 0.031*\"javascript\" + 0.019*\"guide\" + 0.017*\"design\" + 0.016*\"bundle\" + 0.015*\"net\" + 0.015*\"hands\" + 0.014*\"lambda\" + 0.013*\"programming\"\n",
      "\n",
      "Score: 0.011111265048384666\t \n",
      "Topic: 0.043*\"javascript\" + 0.039*\"js\" + 0.021*\"projects\" + 0.018*\"node\" + 0.017*\"data\" + 0.016*\"real\" + 0.015*\"apps\" + 0.014*\"deep\" + 0.014*\"sql\" + 0.013*\"database\"\n",
      "\n",
      "Score: 0.011111262254416943\t \n",
      "Topic: 0.082*\"java\" + 0.050*\"programming\" + 0.040*\"python\" + 0.021*\"application\" + 0.013*\"apps\" + 0.011*\"fast\" + 0.010*\"gui\" + 0.010*\"framework\" + 0.009*\"design\" + 0.009*\"docker\"\n",
      "\n",
      "Score: 0.011111260391771793\t \n",
      "Topic: 0.068*\"html\" + 0.053*\"css\" + 0.022*\"beginner\" + 0.022*\"responsive\" + 0.019*\"website\" + 0.017*\"web\" + 0.013*\"javascript\" + 0.012*\"php\" + 0.011*\"kotlin\" + 0.010*\"framework\"\n",
      "\n",
      "Score: 0.011111260391771793\t \n",
      "Topic: 0.040*\"bootstrap\" + 0.032*\"net\" + 0.031*\"es\" + 0.022*\"web\" + 0.021*\"asp\" + 0.018*\"core\" + 0.015*\"application\" + 0.012*\"visual\" + 0.012*\"react\" + 0.012*\"ecmascript\"\n",
      "\n",
      "Score: 0.011111260391771793\t \n",
      "Topic: 0.068*\"python\" + 0.066*\"programming\" + 0.020*\"language\" + 0.015*\"developer\" + 0.015*\"coding\" + 0.014*\"guide\" + 0.013*\"web\" + 0.013*\"hands\" + 0.012*\"game\" + 0.012*\"master\"\n",
      "\n",
      "Score: 0.01111125759780407\t \n",
      "Topic: 0.081*\"web\" + 0.029*\"python\" + 0.020*\"angular\" + 0.020*\"sql\" + 0.019*\"building\" + 0.016*\"developer\" + 0.013*\"server\" + 0.012*\"php\" + 0.012*\"hands\" + 0.012*\"started\"\n"
     ]
    }
   ],
   "source": [
    "for index, score in sorted(lda_model[bowcorpus[8082]], key=lambda tup: -1*tup[1]):\n",
    "    print(\"\\nScore: {}\\t \\nTopic: {}\".format(score, lda_model.print_topic(index, 10)))"
   ]
  },
  {
   "cell_type": "code",
   "execution_count": null,
   "metadata": {
    "collapsed": true
   },
   "outputs": [],
   "source": []
  },
  {
   "cell_type": "code",
   "execution_count": null,
   "metadata": {
    "collapsed": true
   },
   "outputs": [],
   "source": []
  },
  {
   "cell_type": "code",
   "execution_count": null,
   "metadata": {
    "collapsed": true
   },
   "outputs": [],
   "source": []
  },
  {
   "cell_type": "code",
   "execution_count": null,
   "metadata": {
    "collapsed": true
   },
   "outputs": [],
   "source": []
  },
  {
   "cell_type": "code",
   "execution_count": null,
   "metadata": {
    "collapsed": true
   },
   "outputs": [],
   "source": []
  },
  {
   "cell_type": "markdown",
   "metadata": {},
   "source": [
    "If no improvement in Topic modelling, Topic will be choosen manually and assigned automatically"
   ]
  },
  {
   "cell_type": "code",
   "execution_count": null,
   "metadata": {
    "collapsed": true
   },
   "outputs": [],
   "source": []
  },
  {
   "cell_type": "code",
   "execution_count": null,
   "metadata": {
    "collapsed": true
   },
   "outputs": [],
   "source": [
    "Languages = \"\"\"\n",
    "Assembly\n",
    "Bash\n",
    "Shell\n",
    "PowerShell\n",
    "C\n",
    "C++\n",
    "C#\n",
    "Clojure\n",
    "Dart\n",
    "Elixir\n",
    "Erlang\n",
    "F#\n",
    "Go\n",
    "HTML\n",
    "CSS\n",
    "Java\n",
    "JavaScript\n",
    "Kotlin\n",
    "ObjectiveC\n",
    "PHP\n",
    "Python\n",
    "R\n",
    "Ruby\n",
    "Rust\n",
    "Scala\n",
    "SQL\n",
    "Swift\n",
    "TypeScript\n",
    "VBA\n",
    "WebAssembly\n",
    "Git\n",
    "\"\"\""
   ]
  },
  {
   "cell_type": "code",
   "execution_count": null,
   "metadata": {
    "collapsed": true
   },
   "outputs": [],
   "source": [
    "DBMS = \"\"\"\n",
    "Cassandra\n",
    "Couchbase\n",
    "DynamoDB\n",
    "Elasticsearch\n",
    "Firebase\n",
    "MariaDB\n",
    "MongoDB\n",
    "Microsoft SQL Server\n",
    "MySQL\n",
    "Oracle\n",
    "PostgreSQL\n",
    "Redis\n",
    "SQLite\n",
    "\"\"\""
   ]
  },
  {
   "cell_type": "code",
   "execution_count": null,
   "metadata": {
    "collapsed": true
   },
   "outputs": [],
   "source": [
    "Web = \"\"\"\n",
    "Angular/Angular.js\n",
    "ASP.NET\n",
    "Django\n",
    "Drupal\n",
    "Express\n",
    "Flask\n",
    "jQuery\n",
    "Laravel\n",
    "React.js\n",
    "Ruby on Rails\n",
    "Spring\n",
    "Vue.js\n",
    "\"\"\""
   ]
  },
  {
   "cell_type": "code",
   "execution_count": null,
   "metadata": {
    "collapsed": true
   },
   "outputs": [],
   "source": [
    "Roles = \"\"\"\n",
    "Academic researcher\n",
    "Data or business analyst\n",
    "Data scientist or machine learning specialist\n",
    "Database administrator\n",
    "Designer\n",
    "Developer, backend\n",
    "Developer, desktop or enterprise applications\n",
    "Developer, embedded applications or devices\n",
    "Developer, frontend\n",
    "Developer, fullstack\n",
    "Developer, game or graphics\n",
    "Developer, mobile\n",
    "Developer, QA or test\n",
    "DevOps specialist\n",
    "Educator\n",
    "Engineer, data\n",
    "Engineer, site reliability\n",
    "Engineering manager\n",
    "Marketing or sales professional\n",
    "Product manager\n",
    "Scientist\n",
    "Senior Executive (CSuite,VP, etc.)\n",
    "Student\n",
    "System administrator\n",
    "\"\"\""
   ]
  }
 ],
 "metadata": {
  "kernelspec": {
   "display_name": "Python 3",
   "language": "python",
   "name": "python3"
  },
  "language_info": {
   "codemirror_mode": {
    "name": "ipython",
    "version": 3
   },
   "file_extension": ".py",
   "mimetype": "text/x-python",
   "name": "python",
   "nbconvert_exporter": "python",
   "pygments_lexer": "ipython3",
   "version": "3.6.3"
  }
 },
 "nbformat": 4,
 "nbformat_minor": 2
}
