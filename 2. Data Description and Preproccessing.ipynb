{
 "cells": [
  {
   "cell_type": "code",
   "execution_count": 1,
   "metadata": {
    "collapsed": true
   },
   "outputs": [],
   "source": [
    "import numpy as np\n",
    "import pandas as pd\n",
    "\n",
    "import seaborn as sns\n",
    "import matplotlib.pyplot as plt\n",
    "\n",
    "import pickle as pkl\n",
    "\n",
    "pd.set_option('display.max_columns', 500)\n",
    "%matplotlib inline"
   ]
  },
  {
   "cell_type": "markdown",
   "metadata": {},
   "source": [
    "### Available Data :"
   ]
  },
  {
   "cell_type": "markdown",
   "metadata": {},
   "source": [
    "The data is presented in 3 main dataframes :\n",
    "- Course Details : representing each course\n",
    "- Course Syllabi : representing course components\n",
    "- Course Reviews : storing reviews"
   ]
  },
  {
   "cell_type": "markdown",
   "metadata": {},
   "source": [
    "#### Reading Data : "
   ]
  },
  {
   "cell_type": "code",
   "execution_count": 2,
   "metadata": {
    "collapsed": true
   },
   "outputs": [],
   "source": [
    "with open('Data/Raw Data/course_details_df.pkl', 'rb') as f:\n",
    "    course_details = pkl.load(f)"
   ]
  },
  {
   "cell_type": "code",
   "execution_count": 3,
   "metadata": {
    "collapsed": true
   },
   "outputs": [],
   "source": [
    "with open('Data/Raw Data/course_syllabi_df.pkl', 'rb') as f:\n",
    "    course_syllabi = pkl.load(f)"
   ]
  },
  {
   "cell_type": "code",
   "execution_count": 4,
   "metadata": {
    "collapsed": true
   },
   "outputs": [],
   "source": [
    "with open('Data/Raw Data/course_reviews_df.pkl', 'rb') as f:\n",
    "    course_reviews = pkl.load(f)"
   ]
  },
  {
   "cell_type": "markdown",
   "metadata": {},
   "source": [
    "## Data Preprocessing"
   ]
  },
  {
   "cell_type": "markdown",
   "metadata": {},
   "source": [
    "##### CourseDetails preprocessing"
   ]
  },
  {
   "cell_type": "code",
   "execution_count": 5,
   "metadata": {},
   "outputs": [
    {
     "data": {
      "text/html": [
       "<div>\n",
       "<style scoped>\n",
       "    .dataframe tbody tr th:only-of-type {\n",
       "        vertical-align: middle;\n",
       "    }\n",
       "\n",
       "    .dataframe tbody tr th {\n",
       "        vertical-align: top;\n",
       "    }\n",
       "\n",
       "    .dataframe thead th {\n",
       "        text-align: right;\n",
       "    }\n",
       "</style>\n",
       "<table border=\"1\" class=\"dataframe\">\n",
       "  <thead>\n",
       "    <tr style=\"text-align: right;\">\n",
       "      <th></th>\n",
       "      <th>avg_rating</th>\n",
       "      <th>avg_rating_recent</th>\n",
       "      <th>content_info</th>\n",
       "      <th>created</th>\n",
       "      <th>is_paid</th>\n",
       "      <th>last_update_date</th>\n",
       "      <th>num_published_lectures</th>\n",
       "      <th>num_published_practice_tests</th>\n",
       "      <th>num_published_quizzes</th>\n",
       "      <th>num_reviews</th>\n",
       "      <th>num_reviews_recent</th>\n",
       "      <th>num_subscribers</th>\n",
       "      <th>objectives</th>\n",
       "      <th>prerequisites</th>\n",
       "      <th>price</th>\n",
       "      <th>published_time</th>\n",
       "      <th>quality_status</th>\n",
       "      <th>rating_distribution</th>\n",
       "      <th>status_label</th>\n",
       "      <th>target_audiences</th>\n",
       "      <th>title</th>\n",
       "      <th>url</th>\n",
       "      <th>course_type</th>\n",
       "      <th>content_length</th>\n",
       "      <th>publication_gap</th>\n",
       "    </tr>\n",
       "    <tr>\n",
       "      <th>id</th>\n",
       "      <th></th>\n",
       "      <th></th>\n",
       "      <th></th>\n",
       "      <th></th>\n",
       "      <th></th>\n",
       "      <th></th>\n",
       "      <th></th>\n",
       "      <th></th>\n",
       "      <th></th>\n",
       "      <th></th>\n",
       "      <th></th>\n",
       "      <th></th>\n",
       "      <th></th>\n",
       "      <th></th>\n",
       "      <th></th>\n",
       "      <th></th>\n",
       "      <th></th>\n",
       "      <th></th>\n",
       "      <th></th>\n",
       "      <th></th>\n",
       "      <th></th>\n",
       "      <th></th>\n",
       "      <th></th>\n",
       "      <th></th>\n",
       "      <th></th>\n",
       "    </tr>\n",
       "  </thead>\n",
       "  <tbody>\n",
       "    <tr>\n",
       "      <th>8082</th>\n",
       "      <td>4.38095</td>\n",
       "      <td>4.34115</td>\n",
       "      <td>6 hours</td>\n",
       "      <td>2011-06-14 16:09:14</td>\n",
       "      <td>True</td>\n",
       "      <td>2015-10-15</td>\n",
       "      <td>56</td>\n",
       "      <td>0</td>\n",
       "      <td>5</td>\n",
       "      <td>620</td>\n",
       "      <td>18</td>\n",
       "      <td>28367</td>\n",
       "      <td>[Hours of video lectures detailing the ten ste...</td>\n",
       "      <td>[]</td>\n",
       "      <td>$74.99</td>\n",
       "      <td>2011-07-08 21:32:55</td>\n",
       "      <td>approved</td>\n",
       "      <td>[{'count': 6, 'rating': 1}, {'count': 19, 'rat...</td>\n",
       "      <td>Live</td>\n",
       "      <td>[]</td>\n",
       "      <td>Ruby Programming for Beginners</td>\n",
       "      <td>/learn-ruby-programming-in-ten-easy-steps/</td>\n",
       "      <td>course</td>\n",
       "      <td>6.0</td>\n",
       "      <td>0.066369</td>\n",
       "    </tr>\n",
       "    <tr>\n",
       "      <th>8203</th>\n",
       "      <td>3.45000</td>\n",
       "      <td>3.73183</td>\n",
       "      <td>1 hour</td>\n",
       "      <td>2011-06-20 19:59:32</td>\n",
       "      <td>True</td>\n",
       "      <td>2017-07-10</td>\n",
       "      <td>15</td>\n",
       "      <td>0</td>\n",
       "      <td>1</td>\n",
       "      <td>12</td>\n",
       "      <td>10</td>\n",
       "      <td>1550</td>\n",
       "      <td>[In this course, you will learn how to build a...</td>\n",
       "      <td>[PC or MAC with a browser installed]</td>\n",
       "      <td>$99.99</td>\n",
       "      <td>2011-06-20 17:48:46</td>\n",
       "      <td>approved</td>\n",
       "      <td>[{'rating': 1, 'count': 2}, {'rating': 2, 'cou...</td>\n",
       "      <td>Live</td>\n",
       "      <td>[This course is intended for those who have ba...</td>\n",
       "      <td>Basic and Advanced HTML Lessons</td>\n",
       "      <td>/learn-html-in-24-hours/</td>\n",
       "      <td>course</td>\n",
       "      <td>1.0</td>\n",
       "      <td>-0.000249</td>\n",
       "    </tr>\n",
       "    <tr>\n",
       "      <th>8319</th>\n",
       "      <td>3.60000</td>\n",
       "      <td>3.79901</td>\n",
       "      <td>7.5 hours</td>\n",
       "      <td>2011-06-28 04:48:38</td>\n",
       "      <td>True</td>\n",
       "      <td>NaT</td>\n",
       "      <td>31</td>\n",
       "      <td>0</td>\n",
       "      <td>0</td>\n",
       "      <td>12</td>\n",
       "      <td>10</td>\n",
       "      <td>290</td>\n",
       "      <td>[The normal Git workflow, How to collaborate w...</td>\n",
       "      <td>[]</td>\n",
       "      <td>$19.99</td>\n",
       "      <td>2011-07-29 20:24:56</td>\n",
       "      <td>approved</td>\n",
       "      <td>[{'rating': 1, 'count': 2}, {'rating': 2, 'cou...</td>\n",
       "      <td>Live</td>\n",
       "      <td>[]</td>\n",
       "      <td>Git Basics: In Theory and Practice</td>\n",
       "      <td>/git-in-theory-and-in-practice/</td>\n",
       "      <td>course</td>\n",
       "      <td>7.5</td>\n",
       "      <td>0.086713</td>\n",
       "    </tr>\n",
       "  </tbody>\n",
       "</table>\n",
       "</div>"
      ],
      "text/plain": [
       "      avg_rating  avg_rating_recent content_info             created  is_paid  \\\n",
       "id                                                                              \n",
       "8082     4.38095            4.34115      6 hours 2011-06-14 16:09:14     True   \n",
       "8203     3.45000            3.73183       1 hour 2011-06-20 19:59:32     True   \n",
       "8319     3.60000            3.79901    7.5 hours 2011-06-28 04:48:38     True   \n",
       "\n",
       "     last_update_date  num_published_lectures  num_published_practice_tests  \\\n",
       "id                                                                            \n",
       "8082       2015-10-15                      56                             0   \n",
       "8203       2017-07-10                      15                             0   \n",
       "8319              NaT                      31                             0   \n",
       "\n",
       "      num_published_quizzes  num_reviews  num_reviews_recent  num_subscribers  \\\n",
       "id                                                                              \n",
       "8082                      5          620                  18            28367   \n",
       "8203                      1           12                  10             1550   \n",
       "8319                      0           12                  10              290   \n",
       "\n",
       "                                             objectives  \\\n",
       "id                                                        \n",
       "8082  [Hours of video lectures detailing the ten ste...   \n",
       "8203  [In this course, you will learn how to build a...   \n",
       "8319  [The normal Git workflow, How to collaborate w...   \n",
       "\n",
       "                             prerequisites   price      published_time  \\\n",
       "id                                                                       \n",
       "8082                                    []  $74.99 2011-07-08 21:32:55   \n",
       "8203  [PC or MAC with a browser installed]  $99.99 2011-06-20 17:48:46   \n",
       "8319                                    []  $19.99 2011-07-29 20:24:56   \n",
       "\n",
       "     quality_status                                rating_distribution  \\\n",
       "id                                                                       \n",
       "8082       approved  [{'count': 6, 'rating': 1}, {'count': 19, 'rat...   \n",
       "8203       approved  [{'rating': 1, 'count': 2}, {'rating': 2, 'cou...   \n",
       "8319       approved  [{'rating': 1, 'count': 2}, {'rating': 2, 'cou...   \n",
       "\n",
       "     status_label                                   target_audiences  \\\n",
       "id                                                                     \n",
       "8082         Live                                                 []   \n",
       "8203         Live  [This course is intended for those who have ba...   \n",
       "8319         Live                                                 []   \n",
       "\n",
       "                                   title  \\\n",
       "id                                         \n",
       "8082      Ruby Programming for Beginners   \n",
       "8203     Basic and Advanced HTML Lessons   \n",
       "8319  Git Basics: In Theory and Practice   \n",
       "\n",
       "                                             url course_type  content_length  \\\n",
       "id                                                                             \n",
       "8082  /learn-ruby-programming-in-ten-easy-steps/      course             6.0   \n",
       "8203                    /learn-html-in-24-hours/      course             1.0   \n",
       "8319             /git-in-theory-and-in-practice/      course             7.5   \n",
       "\n",
       "      publication_gap  \n",
       "id                     \n",
       "8082         0.066369  \n",
       "8203        -0.000249  \n",
       "8319         0.086713  "
      ]
     },
     "execution_count": 5,
     "metadata": {},
     "output_type": "execute_result"
    }
   ],
   "source": [
    "course_details.head(3)"
   ]
  },
  {
   "cell_type": "markdown",
   "metadata": {},
   "source": [
    "##### Remove the column course type, redundant : all rows have value 'course' :"
   ]
  },
  {
   "cell_type": "code",
   "execution_count": 6,
   "metadata": {},
   "outputs": [
    {
     "data": {
      "text/plain": [
       "course    9718\n",
       "Name: course_type, dtype: int64"
      ]
     },
     "execution_count": 6,
     "metadata": {},
     "output_type": "execute_result"
    }
   ],
   "source": [
    "course_details['course_type'].value_counts()"
   ]
  },
  {
   "cell_type": "code",
   "execution_count": 7,
   "metadata": {
    "collapsed": true
   },
   "outputs": [],
   "source": [
    "course_details.drop('course_type', axis=1, inplace=True)"
   ]
  },
  {
   "cell_type": "markdown",
   "metadata": {},
   "source": [
    "###### Deleting the only in review course as it has no subscribers and no reviews, and deleting the columns 'quality_status' and 'status label' as all other courses have qualitystatus 'approved'  and statuslabel 'Live':"
   ]
  },
  {
   "cell_type": "code",
   "execution_count": 8,
   "metadata": {},
   "outputs": [
    {
     "data": {
      "text/html": [
       "<div>\n",
       "<style scoped>\n",
       "    .dataframe tbody tr th:only-of-type {\n",
       "        vertical-align: middle;\n",
       "    }\n",
       "\n",
       "    .dataframe tbody tr th {\n",
       "        vertical-align: top;\n",
       "    }\n",
       "\n",
       "    .dataframe thead th {\n",
       "        text-align: right;\n",
       "    }\n",
       "</style>\n",
       "<table border=\"1\" class=\"dataframe\">\n",
       "  <thead>\n",
       "    <tr style=\"text-align: right;\">\n",
       "      <th></th>\n",
       "      <th>avg_rating</th>\n",
       "      <th>avg_rating_recent</th>\n",
       "      <th>content_info</th>\n",
       "      <th>created</th>\n",
       "      <th>is_paid</th>\n",
       "      <th>last_update_date</th>\n",
       "      <th>num_published_lectures</th>\n",
       "      <th>num_published_practice_tests</th>\n",
       "      <th>num_published_quizzes</th>\n",
       "      <th>num_reviews</th>\n",
       "      <th>num_reviews_recent</th>\n",
       "      <th>num_subscribers</th>\n",
       "      <th>objectives</th>\n",
       "      <th>prerequisites</th>\n",
       "      <th>price</th>\n",
       "      <th>published_time</th>\n",
       "      <th>quality_status</th>\n",
       "      <th>rating_distribution</th>\n",
       "      <th>status_label</th>\n",
       "      <th>target_audiences</th>\n",
       "      <th>title</th>\n",
       "      <th>url</th>\n",
       "      <th>content_length</th>\n",
       "      <th>publication_gap</th>\n",
       "    </tr>\n",
       "    <tr>\n",
       "      <th>id</th>\n",
       "      <th></th>\n",
       "      <th></th>\n",
       "      <th></th>\n",
       "      <th></th>\n",
       "      <th></th>\n",
       "      <th></th>\n",
       "      <th></th>\n",
       "      <th></th>\n",
       "      <th></th>\n",
       "      <th></th>\n",
       "      <th></th>\n",
       "      <th></th>\n",
       "      <th></th>\n",
       "      <th></th>\n",
       "      <th></th>\n",
       "      <th></th>\n",
       "      <th></th>\n",
       "      <th></th>\n",
       "      <th></th>\n",
       "      <th></th>\n",
       "      <th></th>\n",
       "      <th></th>\n",
       "      <th></th>\n",
       "      <th></th>\n",
       "    </tr>\n",
       "  </thead>\n",
       "  <tbody>\n",
       "    <tr>\n",
       "      <th>1965490</th>\n",
       "      <td>0.0</td>\n",
       "      <td>0.0</td>\n",
       "      <td>5 hours</td>\n",
       "      <td>2018-10-14 07:14:01</td>\n",
       "      <td>True</td>\n",
       "      <td>2019-01-10</td>\n",
       "      <td>17</td>\n",
       "      <td>0</td>\n",
       "      <td>0</td>\n",
       "      <td>0</td>\n",
       "      <td>0</td>\n",
       "      <td>0</td>\n",
       "      <td>[design and develop highly modular, flexible, ...</td>\n",
       "      <td>[object oriented programming and design, basic...</td>\n",
       "      <td>$199.99</td>\n",
       "      <td>2018-12-01 00:37:41</td>\n",
       "      <td>in_review</td>\n",
       "      <td>[{'rating': 1, 'count': 0}, {'rating': 2, 'cou...</td>\n",
       "      <td>In review</td>\n",
       "      <td>[software developers, software architects, IT ...</td>\n",
       "      <td>Java Modularity Mastercourse in Enterprise Sof...</td>\n",
       "      <td>/java-modularity-in-enterprise-software-design/</td>\n",
       "      <td>5.0</td>\n",
       "      <td>0.130753</td>\n",
       "    </tr>\n",
       "  </tbody>\n",
       "</table>\n",
       "</div>"
      ],
      "text/plain": [
       "         avg_rating  avg_rating_recent content_info             created  \\\n",
       "id                                                                        \n",
       "1965490         0.0                0.0      5 hours 2018-10-14 07:14:01   \n",
       "\n",
       "         is_paid last_update_date  num_published_lectures  \\\n",
       "id                                                          \n",
       "1965490     True       2019-01-10                      17   \n",
       "\n",
       "         num_published_practice_tests  num_published_quizzes  num_reviews  \\\n",
       "id                                                                          \n",
       "1965490                             0                      0            0   \n",
       "\n",
       "         num_reviews_recent  num_subscribers  \\\n",
       "id                                             \n",
       "1965490                   0                0   \n",
       "\n",
       "                                                objectives  \\\n",
       "id                                                           \n",
       "1965490  [design and develop highly modular, flexible, ...   \n",
       "\n",
       "                                             prerequisites    price  \\\n",
       "id                                                                    \n",
       "1965490  [object oriented programming and design, basic...  $199.99   \n",
       "\n",
       "             published_time quality_status  \\\n",
       "id                                           \n",
       "1965490 2018-12-01 00:37:41      in_review   \n",
       "\n",
       "                                       rating_distribution status_label  \\\n",
       "id                                                                        \n",
       "1965490  [{'rating': 1, 'count': 0}, {'rating': 2, 'cou...    In review   \n",
       "\n",
       "                                          target_audiences  \\\n",
       "id                                                           \n",
       "1965490  [software developers, software architects, IT ...   \n",
       "\n",
       "                                                     title  \\\n",
       "id                                                           \n",
       "1965490  Java Modularity Mastercourse in Enterprise Sof...   \n",
       "\n",
       "                                                     url  content_length  \\\n",
       "id                                                                         \n",
       "1965490  /java-modularity-in-enterprise-software-design/             5.0   \n",
       "\n",
       "         publication_gap  \n",
       "id                        \n",
       "1965490         0.130753  "
      ]
     },
     "execution_count": 8,
     "metadata": {},
     "output_type": "execute_result"
    }
   ],
   "source": [
    "course_details[course_details['quality_status']=='in_review']"
   ]
  },
  {
   "cell_type": "code",
   "execution_count": 9,
   "metadata": {
    "collapsed": true
   },
   "outputs": [],
   "source": [
    "# delete the row\n",
    "course_details = course_details[course_details['quality_status']!='in_review']\n",
    "\n",
    "# delete the columns\n",
    "course_details.drop(['quality_status','status_label'], axis = 1, inplace = True)"
   ]
  },
  {
   "cell_type": "markdown",
   "metadata": {},
   "source": [
    "###### Discarding the 'content_info' column , as the same information is available in the column 'course_length' :"
   ]
  },
  {
   "cell_type": "code",
   "execution_count": 10,
   "metadata": {},
   "outputs": [
    {
     "data": {
      "text/plain": [
       "True    9717\n",
       "Name: content_info, dtype: int64"
      ]
     },
     "execution_count": 10,
     "metadata": {},
     "output_type": "execute_result"
    }
   ],
   "source": [
    "CI_is_timedelta = course_details['content_info'].apply(lambda row : ('hour' in row) or ('min' in row))\n",
    "\n",
    "#Indeed, they are all timedeltas\n",
    "CI_is_timedelta.value_counts(dropna=False)"
   ]
  },
  {
   "cell_type": "code",
   "execution_count": 11,
   "metadata": {
    "collapsed": true
   },
   "outputs": [],
   "source": [
    "course_details.drop('content_info', axis=1, inplace=True)"
   ]
  },
  {
   "cell_type": "markdown",
   "metadata": {},
   "source": [
    "**CourseDetails**"
   ]
  },
  {
   "cell_type": "code",
   "execution_count": 12,
   "metadata": {},
   "outputs": [
    {
     "data": {
      "text/html": [
       "<div>\n",
       "<style scoped>\n",
       "    .dataframe tbody tr th:only-of-type {\n",
       "        vertical-align: middle;\n",
       "    }\n",
       "\n",
       "    .dataframe tbody tr th {\n",
       "        vertical-align: top;\n",
       "    }\n",
       "\n",
       "    .dataframe thead th {\n",
       "        text-align: right;\n",
       "    }\n",
       "</style>\n",
       "<table border=\"1\" class=\"dataframe\">\n",
       "  <thead>\n",
       "    <tr style=\"text-align: right;\">\n",
       "      <th></th>\n",
       "      <th>avg_rating</th>\n",
       "      <th>avg_rating_recent</th>\n",
       "      <th>created</th>\n",
       "      <th>is_paid</th>\n",
       "      <th>last_update_date</th>\n",
       "      <th>num_published_lectures</th>\n",
       "      <th>num_published_practice_tests</th>\n",
       "      <th>num_published_quizzes</th>\n",
       "      <th>num_reviews</th>\n",
       "      <th>num_reviews_recent</th>\n",
       "      <th>num_subscribers</th>\n",
       "      <th>objectives</th>\n",
       "      <th>prerequisites</th>\n",
       "      <th>price</th>\n",
       "      <th>published_time</th>\n",
       "      <th>rating_distribution</th>\n",
       "      <th>target_audiences</th>\n",
       "      <th>title</th>\n",
       "      <th>url</th>\n",
       "      <th>content_length</th>\n",
       "      <th>publication_gap</th>\n",
       "    </tr>\n",
       "    <tr>\n",
       "      <th>id</th>\n",
       "      <th></th>\n",
       "      <th></th>\n",
       "      <th></th>\n",
       "      <th></th>\n",
       "      <th></th>\n",
       "      <th></th>\n",
       "      <th></th>\n",
       "      <th></th>\n",
       "      <th></th>\n",
       "      <th></th>\n",
       "      <th></th>\n",
       "      <th></th>\n",
       "      <th></th>\n",
       "      <th></th>\n",
       "      <th></th>\n",
       "      <th></th>\n",
       "      <th></th>\n",
       "      <th></th>\n",
       "      <th></th>\n",
       "      <th></th>\n",
       "      <th></th>\n",
       "    </tr>\n",
       "  </thead>\n",
       "  <tbody>\n",
       "    <tr>\n",
       "      <th>8082</th>\n",
       "      <td>4.38095</td>\n",
       "      <td>4.34115</td>\n",
       "      <td>2011-06-14 16:09:14</td>\n",
       "      <td>True</td>\n",
       "      <td>2015-10-15</td>\n",
       "      <td>56</td>\n",
       "      <td>0</td>\n",
       "      <td>5</td>\n",
       "      <td>620</td>\n",
       "      <td>18</td>\n",
       "      <td>28367</td>\n",
       "      <td>[Hours of video lectures detailing the ten ste...</td>\n",
       "      <td>[]</td>\n",
       "      <td>$74.99</td>\n",
       "      <td>2011-07-08 21:32:55</td>\n",
       "      <td>[{'count': 6, 'rating': 1}, {'count': 19, 'rat...</td>\n",
       "      <td>[]</td>\n",
       "      <td>Ruby Programming for Beginners</td>\n",
       "      <td>/learn-ruby-programming-in-ten-easy-steps/</td>\n",
       "      <td>6.0</td>\n",
       "      <td>0.066369</td>\n",
       "    </tr>\n",
       "    <tr>\n",
       "      <th>8203</th>\n",
       "      <td>3.45000</td>\n",
       "      <td>3.73183</td>\n",
       "      <td>2011-06-20 19:59:32</td>\n",
       "      <td>True</td>\n",
       "      <td>2017-07-10</td>\n",
       "      <td>15</td>\n",
       "      <td>0</td>\n",
       "      <td>1</td>\n",
       "      <td>12</td>\n",
       "      <td>10</td>\n",
       "      <td>1550</td>\n",
       "      <td>[In this course, you will learn how to build a...</td>\n",
       "      <td>[PC or MAC with a browser installed]</td>\n",
       "      <td>$99.99</td>\n",
       "      <td>2011-06-20 17:48:46</td>\n",
       "      <td>[{'rating': 1, 'count': 2}, {'rating': 2, 'cou...</td>\n",
       "      <td>[This course is intended for those who have ba...</td>\n",
       "      <td>Basic and Advanced HTML Lessons</td>\n",
       "      <td>/learn-html-in-24-hours/</td>\n",
       "      <td>1.0</td>\n",
       "      <td>-0.000249</td>\n",
       "    </tr>\n",
       "    <tr>\n",
       "      <th>8319</th>\n",
       "      <td>3.60000</td>\n",
       "      <td>3.79901</td>\n",
       "      <td>2011-06-28 04:48:38</td>\n",
       "      <td>True</td>\n",
       "      <td>NaT</td>\n",
       "      <td>31</td>\n",
       "      <td>0</td>\n",
       "      <td>0</td>\n",
       "      <td>12</td>\n",
       "      <td>10</td>\n",
       "      <td>290</td>\n",
       "      <td>[The normal Git workflow, How to collaborate w...</td>\n",
       "      <td>[]</td>\n",
       "      <td>$19.99</td>\n",
       "      <td>2011-07-29 20:24:56</td>\n",
       "      <td>[{'rating': 1, 'count': 2}, {'rating': 2, 'cou...</td>\n",
       "      <td>[]</td>\n",
       "      <td>Git Basics: In Theory and Practice</td>\n",
       "      <td>/git-in-theory-and-in-practice/</td>\n",
       "      <td>7.5</td>\n",
       "      <td>0.086713</td>\n",
       "    </tr>\n",
       "  </tbody>\n",
       "</table>\n",
       "</div>"
      ],
      "text/plain": [
       "      avg_rating  avg_rating_recent             created  is_paid  \\\n",
       "id                                                                 \n",
       "8082     4.38095            4.34115 2011-06-14 16:09:14     True   \n",
       "8203     3.45000            3.73183 2011-06-20 19:59:32     True   \n",
       "8319     3.60000            3.79901 2011-06-28 04:48:38     True   \n",
       "\n",
       "     last_update_date  num_published_lectures  num_published_practice_tests  \\\n",
       "id                                                                            \n",
       "8082       2015-10-15                      56                             0   \n",
       "8203       2017-07-10                      15                             0   \n",
       "8319              NaT                      31                             0   \n",
       "\n",
       "      num_published_quizzes  num_reviews  num_reviews_recent  num_subscribers  \\\n",
       "id                                                                              \n",
       "8082                      5          620                  18            28367   \n",
       "8203                      1           12                  10             1550   \n",
       "8319                      0           12                  10              290   \n",
       "\n",
       "                                             objectives  \\\n",
       "id                                                        \n",
       "8082  [Hours of video lectures detailing the ten ste...   \n",
       "8203  [In this course, you will learn how to build a...   \n",
       "8319  [The normal Git workflow, How to collaborate w...   \n",
       "\n",
       "                             prerequisites   price      published_time  \\\n",
       "id                                                                       \n",
       "8082                                    []  $74.99 2011-07-08 21:32:55   \n",
       "8203  [PC or MAC with a browser installed]  $99.99 2011-06-20 17:48:46   \n",
       "8319                                    []  $19.99 2011-07-29 20:24:56   \n",
       "\n",
       "                                    rating_distribution  \\\n",
       "id                                                        \n",
       "8082  [{'count': 6, 'rating': 1}, {'count': 19, 'rat...   \n",
       "8203  [{'rating': 1, 'count': 2}, {'rating': 2, 'cou...   \n",
       "8319  [{'rating': 1, 'count': 2}, {'rating': 2, 'cou...   \n",
       "\n",
       "                                       target_audiences  \\\n",
       "id                                                        \n",
       "8082                                                 []   \n",
       "8203  [This course is intended for those who have ba...   \n",
       "8319                                                 []   \n",
       "\n",
       "                                   title  \\\n",
       "id                                         \n",
       "8082      Ruby Programming for Beginners   \n",
       "8203     Basic and Advanced HTML Lessons   \n",
       "8319  Git Basics: In Theory and Practice   \n",
       "\n",
       "                                             url  content_length  \\\n",
       "id                                                                 \n",
       "8082  /learn-ruby-programming-in-ten-easy-steps/             6.0   \n",
       "8203                    /learn-html-in-24-hours/             1.0   \n",
       "8319             /git-in-theory-and-in-practice/             7.5   \n",
       "\n",
       "      publication_gap  \n",
       "id                     \n",
       "8082         0.066369  \n",
       "8203        -0.000249  \n",
       "8319         0.086713  "
      ]
     },
     "execution_count": 12,
     "metadata": {},
     "output_type": "execute_result"
    }
   ],
   "source": [
    "course_details.head(3)"
   ]
  },
  {
   "cell_type": "code",
   "execution_count": 13,
   "metadata": {},
   "outputs": [
    {
     "data": {
      "text/plain": [
       "(9717, 21)"
      ]
     },
     "execution_count": 13,
     "metadata": {},
     "output_type": "execute_result"
    }
   ],
   "source": [
    "course_details.shape"
   ]
  },
  {
   "cell_type": "markdown",
   "metadata": {},
   "source": [
    "**CourseDetails** dataframe contains the list of the courses explored in this study, each row representing one distinct course.  and all courses in the dataset are IC-CS courses:\n",
    "\n",
    "The dataframe has 21 columns for 9717 records.\n",
    "\n",
    "- **avg_rating** : Average rating ( from 1 to 5)\n",
    "- **avg_rating_recent** : Average rating obtained on a recent set of ratings (? : over the last 100 ratings ? over the last year ?)\n",
    "- **created**: Date and time of creation of the course \n",
    "- **is_paid** : Boolean, True if the course has a price, ie not for free \n",
    "- **last_update_date** : Last modification to the course\n",
    "- **num_published_lectures** : Number of lectures (?: what exactly is a lecture)\n",
    "- **num_published_practice_test** : Number of published practice tests\n",
    "- **num_published_quizzes** : Number of puclished quizzes\n",
    "- **num_reviews** : Number of total reviews\n",
    "- **num_reviews_recent** : Number of recent reviews\n",
    "- **num_subscribers** : Number of overall subscribers\n",
    "- **objectives** : List of sentences describing the goal of the course\n",
    "- **prerequisites** : List of knowledge or material needed to take the course\n",
    "- **price** : String, the price in dollars, or 'Free' if the course is not paid\n",
    "- **published_time** : First date the course was published \n",
    "- **rating_distribution** : Dict of each rating and its count (1 to 5)\n",
    "- **target_audiences** : List of sentences describing the audience it was made for and what they can find in this course\n",
    "- **title** : String, Title of the course\n",
    "- **url** : String, url of the course at Udemy website\n",
    "- **content_length** : Duration of the course in hours\n",
    "- **publication_gap** : The time between course creation and course publication, course publication means going online"
   ]
  },
  {
   "cell_type": "code",
   "execution_count": 14,
   "metadata": {
    "collapsed": true
   },
   "outputs": [],
   "source": [
    "# write to preprocessed data folder\n",
    "course_details.to_pickle('Data/Preproccessed Data/course_details.pkl')"
   ]
  },
  {
   "cell_type": "markdown",
   "metadata": {},
   "source": [
    "##### CourseSyllabi preprocessing"
   ]
  },
  {
   "cell_type": "markdown",
   "metadata": {},
   "source": [
    "**Courses** are a **collection of chapters**, and **chapters** are **collection of quizzes, lectures, and practices**."
   ]
  },
  {
   "cell_type": "code",
   "execution_count": 15,
   "metadata": {
    "scrolled": true
   },
   "outputs": [
    {
     "data": {
      "text/html": [
       "<div>\n",
       "<style scoped>\n",
       "    .dataframe tbody tr th:only-of-type {\n",
       "        vertical-align: middle;\n",
       "    }\n",
       "\n",
       "    .dataframe tbody tr th {\n",
       "        vertical-align: top;\n",
       "    }\n",
       "\n",
       "    .dataframe thead th {\n",
       "        text-align: right;\n",
       "    }\n",
       "</style>\n",
       "<table border=\"1\" class=\"dataframe\">\n",
       "  <thead>\n",
       "    <tr style=\"text-align: right;\">\n",
       "      <th></th>\n",
       "      <th>course_id</th>\n",
       "      <th>chapter_title</th>\n",
       "      <th>chapter_description</th>\n",
       "      <th>chapter_created</th>\n",
       "      <th>content_class</th>\n",
       "      <th>title</th>\n",
       "      <th>description</th>\n",
       "      <th>created_content</th>\n",
       "      <th>is_published</th>\n",
       "      <th>content_summary</th>\n",
       "      <th>url</th>\n",
       "      <th>created_course</th>\n",
       "      <th>published_time</th>\n",
       "      <th>age_from_creation</th>\n",
       "      <th>age_from_publication</th>\n",
       "    </tr>\n",
       "  </thead>\n",
       "  <tbody>\n",
       "    <tr>\n",
       "      <th>0</th>\n",
       "      <td>8082</td>\n",
       "      <td>NaN</td>\n",
       "      <td>NaN</td>\n",
       "      <td>NaT</td>\n",
       "      <td>course</td>\n",
       "      <td>Ruby Programming for Beginners</td>\n",
       "      <td>NaN</td>\n",
       "      <td>2011-06-14 16:09:14</td>\n",
       "      <td>NaN</td>\n",
       "      <td>NaN</td>\n",
       "      <td>/learn-ruby-programming-in-ten-easy-steps/</td>\n",
       "      <td>2011-06-14 16:09:14</td>\n",
       "      <td>2011-07-08 21:32:55</td>\n",
       "      <td>0.000000</td>\n",
       "      <td>-0.066369</td>\n",
       "    </tr>\n",
       "    <tr>\n",
       "      <th>1</th>\n",
       "      <td>8082</td>\n",
       "      <td>NaN</td>\n",
       "      <td>NaN</td>\n",
       "      <td>NaT</td>\n",
       "      <td>chapter</td>\n",
       "      <td>Introduction</td>\n",
       "      <td>NaN</td>\n",
       "      <td>2011-06-17 21:36:49</td>\n",
       "      <td>True</td>\n",
       "      <td>NaN</td>\n",
       "      <td>NaN</td>\n",
       "      <td>2011-06-14 16:09:14</td>\n",
       "      <td>2011-07-08 21:32:55</td>\n",
       "      <td>0.008842</td>\n",
       "      <td>-0.057527</td>\n",
       "    </tr>\n",
       "    <tr>\n",
       "      <th>2</th>\n",
       "      <td>8082</td>\n",
       "      <td>Introduction</td>\n",
       "      <td>NaN</td>\n",
       "      <td>2011-06-17 21:36:49</td>\n",
       "      <td>lecture</td>\n",
       "      <td>Ruby Programming for Beginners - Intro</td>\n",
       "      <td>NaN</td>\n",
       "      <td>2012-02-17 17:57:19</td>\n",
       "      <td>True</td>\n",
       "      <td>01:55</td>\n",
       "      <td>/learn-ruby-programming-in-ten-easy-steps/lear...</td>\n",
       "      <td>2011-06-14 16:09:14</td>\n",
       "      <td>2011-07-08 21:32:55</td>\n",
       "      <td>0.679658</td>\n",
       "      <td>0.613288</td>\n",
       "    </tr>\n",
       "  </tbody>\n",
       "</table>\n",
       "</div>"
      ],
      "text/plain": [
       "   course_id chapter_title chapter_description     chapter_created  \\\n",
       "0       8082           NaN                 NaN                 NaT   \n",
       "1       8082           NaN                 NaN                 NaT   \n",
       "2       8082  Introduction                 NaN 2011-06-17 21:36:49   \n",
       "\n",
       "  content_class                                   title description  \\\n",
       "0        course          Ruby Programming for Beginners         NaN   \n",
       "1       chapter                            Introduction         NaN   \n",
       "2       lecture  Ruby Programming for Beginners - Intro         NaN   \n",
       "\n",
       "      created_content is_published content_summary  \\\n",
       "0 2011-06-14 16:09:14          NaN             NaN   \n",
       "1 2011-06-17 21:36:49         True             NaN   \n",
       "2 2012-02-17 17:57:19         True           01:55   \n",
       "\n",
       "                                                 url      created_course  \\\n",
       "0         /learn-ruby-programming-in-ten-easy-steps/ 2011-06-14 16:09:14   \n",
       "1                                                NaN 2011-06-14 16:09:14   \n",
       "2  /learn-ruby-programming-in-ten-easy-steps/lear... 2011-06-14 16:09:14   \n",
       "\n",
       "       published_time  age_from_creation  age_from_publication  \n",
       "0 2011-07-08 21:32:55           0.000000             -0.066369  \n",
       "1 2011-07-08 21:32:55           0.008842             -0.057527  \n",
       "2 2011-07-08 21:32:55           0.679658              0.613288  "
      ]
     },
     "execution_count": 15,
     "metadata": {},
     "output_type": "execute_result"
    }
   ],
   "source": [
    "course_syllabi = course_syllabi.apply(lambda col : col.apply(lambda row : np.nan if row =='' or row is None else row))\n",
    "\n",
    "course_syllabi.head(3)"
   ]
  },
  {
   "cell_type": "markdown",
   "metadata": {},
   "source": [
    "We now investigate the presence of null values."
   ]
  },
  {
   "cell_type": "code",
   "execution_count": 16,
   "metadata": {},
   "outputs": [
    {
     "data": {
      "text/plain": [
       "<matplotlib.axes._subplots.AxesSubplot at 0x2688335f4e0>"
      ]
     },
     "execution_count": 16,
     "metadata": {},
     "output_type": "execute_result"
    },
    {
     "data": {
      "image/png": "[encoded data removed]",
      "text/plain": [
       "<Figure size 504x504 with 1 Axes>"
      ]
     },
     "metadata": {},
     "output_type": "display_data"
    }
   ],
   "source": [
    "df = pd.concat([course_syllabi.isna().sum(), course_syllabi.shape[0]-course_syllabi.isna().sum()], axis=1)\n",
    "df.rename(columns={0:'NA', 1:'Actual Values'},inplace=True)\n",
    "df.plot.barh(stacked=True, figsize=(7,7))"
   ]
  },
  {
   "cell_type": "markdown",
   "metadata": {},
   "source": [
    "We can see that that most scarse columns are the descriptive ones."
   ]
  },
  {
   "cell_type": "markdown",
   "metadata": {},
   "source": [
    "**The 2 columns 'created_course' and 'published_time' are attributes concerning the course and are redundant for parts of the same course. We discard the columns from course_Syllabi dataframe as they are already in course_details**"
   ]
  },
  {
   "cell_type": "code",
   "execution_count": 17,
   "metadata": {},
   "outputs": [
    {
     "data": {
      "text/plain": [
       "9714"
      ]
     },
     "execution_count": 17,
     "metadata": {},
     "output_type": "execute_result"
    }
   ],
   "source": [
    "course_syllabi['created_course'].value_counts().shape[0]"
   ]
  },
  {
   "cell_type": "code",
   "execution_count": 18,
   "metadata": {},
   "outputs": [
    {
     "data": {
      "text/plain": [
       "9716"
      ]
     },
     "execution_count": 18,
     "metadata": {},
     "output_type": "execute_result"
    }
   ],
   "source": [
    "course_syllabi['published_time'].value_counts().shape[0]"
   ]
  },
  {
   "cell_type": "code",
   "execution_count": 19,
   "metadata": {},
   "outputs": [
    {
     "data": {
      "text/plain": [
       "(9714,)"
      ]
     },
     "execution_count": 19,
     "metadata": {},
     "output_type": "execute_result"
    }
   ],
   "source": [
    "course_syllabi[['course_id','created_course']].groupby('course_id').first()['created_course'].value_counts().shape"
   ]
  },
  {
   "cell_type": "code",
   "execution_count": 20,
   "metadata": {},
   "outputs": [
    {
     "data": {
      "text/plain": [
       "(9716,)"
      ]
     },
     "execution_count": 20,
     "metadata": {},
     "output_type": "execute_result"
    }
   ],
   "source": [
    "course_syllabi[['course_id','published_time']].groupby('course_id').first()['published_time'].value_counts().shape"
   ]
  },
  {
   "cell_type": "code",
   "execution_count": 21,
   "metadata": {
    "collapsed": true
   },
   "outputs": [],
   "source": [
    "#droping the columns\n",
    "course_syllabi.drop(['created_course','published_time'], axis=1, inplace=True)"
   ]
  },
  {
   "cell_type": "markdown",
   "metadata": {},
   "source": [
    "**CourseSyllabi**"
   ]
  },
  {
   "cell_type": "markdown",
   "metadata": {},
   "source": [
    "Let us plot the variety of content and its proportion in the dataset :  "
   ]
  },
  {
   "cell_type": "code",
   "execution_count": 22,
   "metadata": {},
   "outputs": [
    {
     "data": {
      "text/plain": [
       "<matplotlib.axes._subplots.AxesSubplot at 0x268dafbf2b0>"
      ]
     },
     "execution_count": 22,
     "metadata": {},
     "output_type": "execute_result"
    },
    {
     "data": {
      "image/png": "[encoded data removed]",
      "text/plain": [
       "<Figure size 504x504 with 1 Axes>"
      ]
     },
     "metadata": {},
     "output_type": "display_data"
    }
   ],
   "source": [
    "course_syllabi['content_class'].value_counts().plot.pie(y='content_class', figsize=(7,7))"
   ]
  },
  {
   "cell_type": "code",
   "execution_count": 23,
   "metadata": {},
   "outputs": [
    {
     "data": {
      "text/html": [
       "<div>\n",
       "<style scoped>\n",
       "    .dataframe tbody tr th:only-of-type {\n",
       "        vertical-align: middle;\n",
       "    }\n",
       "\n",
       "    .dataframe tbody tr th {\n",
       "        vertical-align: top;\n",
       "    }\n",
       "\n",
       "    .dataframe thead th {\n",
       "        text-align: right;\n",
       "    }\n",
       "</style>\n",
       "<table border=\"1\" class=\"dataframe\">\n",
       "  <thead>\n",
       "    <tr style=\"text-align: right;\">\n",
       "      <th></th>\n",
       "      <th>course_id</th>\n",
       "      <th>chapter_title</th>\n",
       "      <th>chapter_description</th>\n",
       "      <th>chapter_created</th>\n",
       "      <th>content_class</th>\n",
       "      <th>title</th>\n",
       "      <th>description</th>\n",
       "      <th>created_content</th>\n",
       "      <th>is_published</th>\n",
       "      <th>content_summary</th>\n",
       "      <th>url</th>\n",
       "      <th>age_from_creation</th>\n",
       "      <th>age_from_publication</th>\n",
       "    </tr>\n",
       "  </thead>\n",
       "  <tbody>\n",
       "    <tr>\n",
       "      <th>0</th>\n",
       "      <td>8082</td>\n",
       "      <td>NaN</td>\n",
       "      <td>NaN</td>\n",
       "      <td>NaT</td>\n",
       "      <td>course</td>\n",
       "      <td>Ruby Programming for Beginners</td>\n",
       "      <td>NaN</td>\n",
       "      <td>2011-06-14 16:09:14</td>\n",
       "      <td>NaN</td>\n",
       "      <td>NaN</td>\n",
       "      <td>/learn-ruby-programming-in-ten-easy-steps/</td>\n",
       "      <td>0.000000</td>\n",
       "      <td>-0.066369</td>\n",
       "    </tr>\n",
       "    <tr>\n",
       "      <th>1</th>\n",
       "      <td>8082</td>\n",
       "      <td>NaN</td>\n",
       "      <td>NaN</td>\n",
       "      <td>NaT</td>\n",
       "      <td>chapter</td>\n",
       "      <td>Introduction</td>\n",
       "      <td>NaN</td>\n",
       "      <td>2011-06-17 21:36:49</td>\n",
       "      <td>True</td>\n",
       "      <td>NaN</td>\n",
       "      <td>NaN</td>\n",
       "      <td>0.008842</td>\n",
       "      <td>-0.057527</td>\n",
       "    </tr>\n",
       "    <tr>\n",
       "      <th>2</th>\n",
       "      <td>8082</td>\n",
       "      <td>Introduction</td>\n",
       "      <td>NaN</td>\n",
       "      <td>2011-06-17 21:36:49</td>\n",
       "      <td>lecture</td>\n",
       "      <td>Ruby Programming for Beginners - Intro</td>\n",
       "      <td>NaN</td>\n",
       "      <td>2012-02-17 17:57:19</td>\n",
       "      <td>True</td>\n",
       "      <td>01:55</td>\n",
       "      <td>/learn-ruby-programming-in-ten-easy-steps/lear...</td>\n",
       "      <td>0.679658</td>\n",
       "      <td>0.613288</td>\n",
       "    </tr>\n",
       "    <tr>\n",
       "      <th>3</th>\n",
       "      <td>8082</td>\n",
       "      <td>Introduction</td>\n",
       "      <td>NaN</td>\n",
       "      <td>2011-06-17 21:36:49</td>\n",
       "      <td>lecture</td>\n",
       "      <td>Welcome To Ruby Programming In Ten Easy Steps</td>\n",
       "      <td>&lt;p style=\"\"&gt; \\t Welcome to the course! This is...</td>\n",
       "      <td>2014-04-18 17:44:49</td>\n",
       "      <td>True</td>\n",
       "      <td>07:40</td>\n",
       "      <td>/learn-ruby-programming-in-ten-easy-steps/lear...</td>\n",
       "      <td>2.846757</td>\n",
       "      <td>2.780388</td>\n",
       "    </tr>\n",
       "    <tr>\n",
       "      <th>4</th>\n",
       "      <td>8082</td>\n",
       "      <td>Introduction</td>\n",
       "      <td>NaN</td>\n",
       "      <td>2011-06-17 21:36:49</td>\n",
       "      <td>lecture</td>\n",
       "      <td>The Little Book Of Ruby</td>\n",
       "      <td>&lt;p&gt; \\t&lt;strong style=\"\"&gt;The Little Book Of Ruby...</td>\n",
       "      <td>2015-07-12 11:13:02</td>\n",
       "      <td>True</td>\n",
       "      <td>101 pages</td>\n",
       "      <td>/learn-ruby-programming-in-ten-easy-steps/lear...</td>\n",
       "      <td>4.078889</td>\n",
       "      <td>4.012519</td>\n",
       "    </tr>\n",
       "  </tbody>\n",
       "</table>\n",
       "</div>"
      ],
      "text/plain": [
       "   course_id chapter_title chapter_description     chapter_created  \\\n",
       "0       8082           NaN                 NaN                 NaT   \n",
       "1       8082           NaN                 NaN                 NaT   \n",
       "2       8082  Introduction                 NaN 2011-06-17 21:36:49   \n",
       "3       8082  Introduction                 NaN 2011-06-17 21:36:49   \n",
       "4       8082  Introduction                 NaN 2011-06-17 21:36:49   \n",
       "\n",
       "  content_class                                          title  \\\n",
       "0        course                 Ruby Programming for Beginners   \n",
       "1       chapter                                   Introduction   \n",
       "2       lecture         Ruby Programming for Beginners - Intro   \n",
       "3       lecture  Welcome To Ruby Programming In Ten Easy Steps   \n",
       "4       lecture                        The Little Book Of Ruby   \n",
       "\n",
       "                                         description     created_content  \\\n",
       "0                                                NaN 2011-06-14 16:09:14   \n",
       "1                                                NaN 2011-06-17 21:36:49   \n",
       "2                                                NaN 2012-02-17 17:57:19   \n",
       "3  <p style=\"\"> \\t Welcome to the course! This is... 2014-04-18 17:44:49   \n",
       "4  <p> \\t<strong style=\"\">The Little Book Of Ruby... 2015-07-12 11:13:02   \n",
       "\n",
       "  is_published content_summary  \\\n",
       "0          NaN             NaN   \n",
       "1         True             NaN   \n",
       "2         True           01:55   \n",
       "3         True           07:40   \n",
       "4         True       101 pages   \n",
       "\n",
       "                                                 url  age_from_creation  \\\n",
       "0         /learn-ruby-programming-in-ten-easy-steps/           0.000000   \n",
       "1                                                NaN           0.008842   \n",
       "2  /learn-ruby-programming-in-ten-easy-steps/lear...           0.679658   \n",
       "3  /learn-ruby-programming-in-ten-easy-steps/lear...           2.846757   \n",
       "4  /learn-ruby-programming-in-ten-easy-steps/lear...           4.078889   \n",
       "\n",
       "   age_from_publication  \n",
       "0             -0.066369  \n",
       "1             -0.057527  \n",
       "2              0.613288  \n",
       "3              2.780388  \n",
       "4              4.012519  "
      ]
     },
     "execution_count": 23,
     "metadata": {},
     "output_type": "execute_result"
    }
   ],
   "source": [
    "course_syllabi.head()"
   ]
  },
  {
   "cell_type": "markdown",
   "metadata": {},
   "source": [
    "Each row from the syllabi represent a part of a course (a video, a quizz, a practice or can be course title or chapter title) from any course, the dataframe has 15 columns for 604.683 rows.\n",
    "\n",
    "- **course_id** : the course this video is related to\n",
    "- **chapter_tiltle** : chapter where the content is included, if the line represent a chapter or a course, this field is NaN\n",
    "- **chapter_description** : chapter description, mostly empty\n",
    "- **chapter_created** : time of creation of chapter, NaN if the line representsa chapter or a course.\n",
    "- **content_class** : if the row is a lecture, a quizz, a pratice, a chapter,or a course\n",
    "- **title** : Title of the part of the course\n",
    "- **description** : description, courses have **no** description, others are mostly empty\n",
    "- **created_content** : time of creation\n",
    "- **is_published** : is published, either True, or Nan\n",
    "- **content_summary** : duration if video, size if file, or  pages if document\n",
    "- **url** : url of the course part \n",
    "- **age_from_creation** :\n",
    "- **age_from publication** :"
   ]
  },
  {
   "cell_type": "code",
   "execution_count": 24,
   "metadata": {
    "collapsed": true
   },
   "outputs": [],
   "source": [
    "# write to preprocessed data folder\n",
    "course_syllabi.to_pickle('Data/Preproccessed Data/course_syllabi.pkl')"
   ]
  },
  {
   "cell_type": "markdown",
   "metadata": {},
   "source": [
    "##### Course_reviews preprocessing"
   ]
  },
  {
   "cell_type": "code",
   "execution_count": 25,
   "metadata": {},
   "outputs": [
    {
     "data": {
      "text/html": [
       "<div>\n",
       "<style scoped>\n",
       "    .dataframe tbody tr th:only-of-type {\n",
       "        vertical-align: middle;\n",
       "    }\n",
       "\n",
       "    .dataframe tbody tr th {\n",
       "        vertical-align: top;\n",
       "    }\n",
       "\n",
       "    .dataframe thead th {\n",
       "        text-align: right;\n",
       "    }\n",
       "</style>\n",
       "<table border=\"1\" class=\"dataframe\">\n",
       "  <thead>\n",
       "    <tr style=\"text-align: right;\">\n",
       "      <th></th>\n",
       "      <th>course_id</th>\n",
       "      <th>created_date</th>\n",
       "      <th>rating</th>\n",
       "      <th>text</th>\n",
       "    </tr>\n",
       "  </thead>\n",
       "  <tbody>\n",
       "    <tr>\n",
       "      <th>0</th>\n",
       "      <td>8082</td>\n",
       "      <td>2019-04-20T16:54:16Z</td>\n",
       "      <td>4.5</td>\n",
       "      <td></td>\n",
       "    </tr>\n",
       "    <tr>\n",
       "      <th>1</th>\n",
       "      <td>8082</td>\n",
       "      <td>2019-04-19T06:00:18Z</td>\n",
       "      <td>5.0</td>\n",
       "      <td></td>\n",
       "    </tr>\n",
       "    <tr>\n",
       "      <th>2</th>\n",
       "      <td>8082</td>\n",
       "      <td>2019-04-01T18:15:31Z</td>\n",
       "      <td>5.0</td>\n",
       "      <td></td>\n",
       "    </tr>\n",
       "    <tr>\n",
       "      <th>3</th>\n",
       "      <td>8082</td>\n",
       "      <td>2019-03-28T15:04:02Z</td>\n",
       "      <td>3.5</td>\n",
       "      <td>Editing my review as I go through the lessons....</td>\n",
       "    </tr>\n",
       "    <tr>\n",
       "      <th>4</th>\n",
       "      <td>8082</td>\n",
       "      <td>2019-02-21T14:34:18Z</td>\n",
       "      <td>5.0</td>\n",
       "      <td></td>\n",
       "    </tr>\n",
       "  </tbody>\n",
       "</table>\n",
       "</div>"
      ],
      "text/plain": [
       "   course_id          created_date  rating  \\\n",
       "0       8082  2019-04-20T16:54:16Z     4.5   \n",
       "1       8082  2019-04-19T06:00:18Z     5.0   \n",
       "2       8082  2019-04-01T18:15:31Z     5.0   \n",
       "3       8082  2019-03-28T15:04:02Z     3.5   \n",
       "4       8082  2019-02-21T14:34:18Z     5.0   \n",
       "\n",
       "                                                text  \n",
       "0                                                     \n",
       "1                                                     \n",
       "2                                                     \n",
       "3  Editing my review as I go through the lessons....  \n",
       "4                                                     "
      ]
     },
     "execution_count": 25,
     "metadata": {},
     "output_type": "execute_result"
    }
   ],
   "source": [
    "course_reviews.head()"
   ]
  },
  {
   "cell_type": "code",
   "execution_count": 26,
   "metadata": {},
   "outputs": [
    {
     "data": {
      "text/plain": [
       "course_id         int64\n",
       "created_date     object\n",
       "rating          float64\n",
       "text             object\n",
       "dtype: object"
      ]
     },
     "execution_count": 26,
     "metadata": {},
     "output_type": "execute_result"
    }
   ],
   "source": [
    "course_reviews.dtypes"
   ]
  },
  {
   "cell_type": "code",
   "execution_count": 27,
   "metadata": {},
   "outputs": [
    {
     "data": {
      "text/plain": [
       "(2762845, 4)"
      ]
     },
     "execution_count": 27,
     "metadata": {},
     "output_type": "execute_result"
    }
   ],
   "source": [
    "course_reviews.shape"
   ]
  },
  {
   "cell_type": "code",
   "execution_count": 28,
   "metadata": {
    "collapsed": true,
    "scrolled": false
   },
   "outputs": [],
   "source": [
    "# setting date col to datetime format\n",
    "course_reviews['created_date']= pd.to_datetime(course_reviews['created_date'])\n",
    "\n",
    "# a few ratings are 3.3, 4.9, we round all to closest 0.5\n",
    "course_reviews['rating'] = course_reviews['rating'].apply(lambda x : round(x*2)/2)\n",
    "\n",
    "# add proper nan instead of empty string\n",
    "course_reviews['text'] = course_reviews['text'].apply(lambda x : np.nan if x=='' else x)"
   ]
  },
  {
   "cell_type": "markdown",
   "metadata": {},
   "source": [
    "**Course Reviews**"
   ]
  },
  {
   "cell_type": "code",
   "execution_count": 29,
   "metadata": {},
   "outputs": [
    {
     "data": {
      "text/html": [
       "<div>\n",
       "<style scoped>\n",
       "    .dataframe tbody tr th:only-of-type {\n",
       "        vertical-align: middle;\n",
       "    }\n",
       "\n",
       "    .dataframe tbody tr th {\n",
       "        vertical-align: top;\n",
       "    }\n",
       "\n",
       "    .dataframe thead th {\n",
       "        text-align: right;\n",
       "    }\n",
       "</style>\n",
       "<table border=\"1\" class=\"dataframe\">\n",
       "  <thead>\n",
       "    <tr style=\"text-align: right;\">\n",
       "      <th></th>\n",
       "      <th>course_id</th>\n",
       "      <th>created_date</th>\n",
       "      <th>rating</th>\n",
       "      <th>text</th>\n",
       "    </tr>\n",
       "  </thead>\n",
       "  <tbody>\n",
       "    <tr>\n",
       "      <th>0</th>\n",
       "      <td>8082</td>\n",
       "      <td>2019-04-20 16:54:16</td>\n",
       "      <td>4.5</td>\n",
       "      <td>NaN</td>\n",
       "    </tr>\n",
       "    <tr>\n",
       "      <th>1</th>\n",
       "      <td>8082</td>\n",
       "      <td>2019-04-19 06:00:18</td>\n",
       "      <td>5.0</td>\n",
       "      <td>NaN</td>\n",
       "    </tr>\n",
       "    <tr>\n",
       "      <th>2</th>\n",
       "      <td>8082</td>\n",
       "      <td>2019-04-01 18:15:31</td>\n",
       "      <td>5.0</td>\n",
       "      <td>NaN</td>\n",
       "    </tr>\n",
       "    <tr>\n",
       "      <th>3</th>\n",
       "      <td>8082</td>\n",
       "      <td>2019-03-28 15:04:02</td>\n",
       "      <td>3.5</td>\n",
       "      <td>Editing my review as I go through the lessons....</td>\n",
       "    </tr>\n",
       "    <tr>\n",
       "      <th>4</th>\n",
       "      <td>8082</td>\n",
       "      <td>2019-02-21 14:34:18</td>\n",
       "      <td>5.0</td>\n",
       "      <td>NaN</td>\n",
       "    </tr>\n",
       "  </tbody>\n",
       "</table>\n",
       "</div>"
      ],
      "text/plain": [
       "   course_id        created_date  rating  \\\n",
       "0       8082 2019-04-20 16:54:16     4.5   \n",
       "1       8082 2019-04-19 06:00:18     5.0   \n",
       "2       8082 2019-04-01 18:15:31     5.0   \n",
       "3       8082 2019-03-28 15:04:02     3.5   \n",
       "4       8082 2019-02-21 14:34:18     5.0   \n",
       "\n",
       "                                                text  \n",
       "0                                                NaN  \n",
       "1                                                NaN  \n",
       "2                                                NaN  \n",
       "3  Editing my review as I go through the lessons....  \n",
       "4                                                NaN  "
      ]
     },
     "execution_count": 29,
     "metadata": {},
     "output_type": "execute_result"
    }
   ],
   "source": [
    "course_reviews.head()"
   ]
  },
  {
   "cell_type": "code",
   "execution_count": 30,
   "metadata": {
    "scrolled": true
   },
   "outputs": [
    {
     "data": {
      "text/html": [
       "<div>\n",
       "<style scoped>\n",
       "    .dataframe tbody tr th:only-of-type {\n",
       "        vertical-align: middle;\n",
       "    }\n",
       "\n",
       "    .dataframe tbody tr th {\n",
       "        vertical-align: top;\n",
       "    }\n",
       "\n",
       "    .dataframe thead th {\n",
       "        text-align: right;\n",
       "    }\n",
       "</style>\n",
       "<table border=\"1\" class=\"dataframe\">\n",
       "  <thead>\n",
       "    <tr style=\"text-align: right;\">\n",
       "      <th></th>\n",
       "      <th>rating</th>\n",
       "      <th>avg_rating</th>\n",
       "    </tr>\n",
       "  </thead>\n",
       "  <tbody>\n",
       "    <tr>\n",
       "      <th>8082</th>\n",
       "      <td>4.346400</td>\n",
       "      <td>4.38095</td>\n",
       "    </tr>\n",
       "    <tr>\n",
       "      <th>8203</th>\n",
       "      <td>3.458333</td>\n",
       "      <td>3.45000</td>\n",
       "    </tr>\n",
       "    <tr>\n",
       "      <th>8319</th>\n",
       "      <td>3.333333</td>\n",
       "      <td>3.60000</td>\n",
       "    </tr>\n",
       "    <tr>\n",
       "      <th>8324</th>\n",
       "      <td>4.202811</td>\n",
       "      <td>3.95000</td>\n",
       "    </tr>\n",
       "    <tr>\n",
       "      <th>8325</th>\n",
       "      <td>4.432292</td>\n",
       "      <td>4.65000</td>\n",
       "    </tr>\n",
       "  </tbody>\n",
       "</table>\n",
       "</div>"
      ],
      "text/plain": [
       "        rating  avg_rating\n",
       "8082  4.346400     4.38095\n",
       "8203  3.458333     3.45000\n",
       "8319  3.333333     3.60000\n",
       "8324  4.202811     3.95000\n",
       "8325  4.432292     4.65000"
      ]
     },
     "execution_count": 30,
     "metadata": {},
     "output_type": "execute_result"
    }
   ],
   "source": [
    "pd.concat([course_reviews.groupby(by='course_id').mean(),course_details['avg_rating']], axis=1).head()"
   ]
  },
  {
   "cell_type": "markdown",
   "metadata": {},
   "source": [
    "**Note :**  the values are slightly different from the first dataframe 'course_Details' , which is probably due to rounding the ratings :"
   ]
  },
  {
   "cell_type": "code",
   "execution_count": 31,
   "metadata": {
    "collapsed": true
   },
   "outputs": [],
   "source": [
    "# write to preprocessed data folder\n",
    "course_reviews.to_pickle('Data/Preproccessed Data/course_reviews.pkl')"
   ]
  },
  {
   "cell_type": "code",
   "execution_count": null,
   "metadata": {
    "collapsed": true
   },
   "outputs": [],
   "source": []
  }
 ],
 "metadata": {
  "kernelspec": {
   "display_name": "Python 3",
   "language": "python",
   "name": "python3"
  },
  "language_info": {
   "codemirror_mode": {
    "name": "ipython",
    "version": 3
   },
   "file_extension": ".py",
   "mimetype": "text/x-python",
   "name": "python",
   "nbconvert_exporter": "python",
   "pygments_lexer": "ipython3",
   "version": "3.6.3"
  }
 },
 "nbformat": 4,
 "nbformat_minor": 2
}
