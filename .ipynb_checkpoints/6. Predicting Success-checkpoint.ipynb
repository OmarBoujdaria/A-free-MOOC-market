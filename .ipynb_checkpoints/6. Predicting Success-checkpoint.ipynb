{
 "cells": [
  {
   "cell_type": "code",
   "execution_count": 1,
   "metadata": {
    "collapsed": true
   },
   "outputs": [],
   "source": [
    "import pandas as pd\n",
    "import numpy as np\n",
    "import sklearn\n",
    "\n",
    "pd.set_option('display.max_columns', 500)"
   ]
  },
  {
   "cell_type": "markdown",
   "metadata": {},
   "source": [
    "###### Loading the data from the ExploredData folder"
   ]
  },
  {
   "cell_type": "code",
   "execution_count": 2,
   "metadata": {},
   "outputs": [
    {
     "data": {
      "text/html": [
       "<div>\n",
       "<style scoped>\n",
       "    .dataframe tbody tr th:only-of-type {\n",
       "        vertical-align: middle;\n",
       "    }\n",
       "\n",
       "    .dataframe tbody tr th {\n",
       "        vertical-align: top;\n",
       "    }\n",
       "\n",
       "    .dataframe thead th {\n",
       "        text-align: right;\n",
       "    }\n",
       "</style>\n",
       "<table border=\"1\" class=\"dataframe\">\n",
       "  <thead>\n",
       "    <tr style=\"text-align: right;\">\n",
       "      <th></th>\n",
       "      <th>avg_rating</th>\n",
       "      <th>avg_rating_recent</th>\n",
       "      <th>created</th>\n",
       "      <th>last_update_date</th>\n",
       "      <th>num_published_lectures</th>\n",
       "      <th>num_published_practice_tests</th>\n",
       "      <th>num_published_quizzes</th>\n",
       "      <th>num_reviews</th>\n",
       "      <th>num_reviews_recent</th>\n",
       "      <th>num_subscribers</th>\n",
       "      <th>objectives</th>\n",
       "      <th>prerequisites</th>\n",
       "      <th>price</th>\n",
       "      <th>published_time</th>\n",
       "      <th>rating_distribution</th>\n",
       "      <th>target_audiences</th>\n",
       "      <th>title</th>\n",
       "      <th>url</th>\n",
       "      <th>content_length</th>\n",
       "      <th>publication_gap</th>\n",
       "      <th>age in days</th>\n",
       "      <th>n_subs/(age)</th>\n",
       "      <th>Rank4 by n_subs/(age)</th>\n",
       "      <th>Rank aggreg</th>\n",
       "      <th>success</th>\n",
       "      <th>nbr of course element</th>\n",
       "      <th>update_date_list</th>\n",
       "      <th>update_delta_list</th>\n",
       "      <th>Avg update delay</th>\n",
       "      <th>Avg update delay (days)</th>\n",
       "      <th>size_in_seconds</th>\n",
       "      <th>Average Size of Update</th>\n",
       "      <th>source_text</th>\n",
       "      <th>Preprocess</th>\n",
       "      <th>bow_corpus</th>\n",
       "      <th>General Topic</th>\n",
       "      <th>Refined Topic</th>\n",
       "    </tr>\n",
       "    <tr>\n",
       "      <th>id</th>\n",
       "      <th></th>\n",
       "      <th></th>\n",
       "      <th></th>\n",
       "      <th></th>\n",
       "      <th></th>\n",
       "      <th></th>\n",
       "      <th></th>\n",
       "      <th></th>\n",
       "      <th></th>\n",
       "      <th></th>\n",
       "      <th></th>\n",
       "      <th></th>\n",
       "      <th></th>\n",
       "      <th></th>\n",
       "      <th></th>\n",
       "      <th></th>\n",
       "      <th></th>\n",
       "      <th></th>\n",
       "      <th></th>\n",
       "      <th></th>\n",
       "      <th></th>\n",
       "      <th></th>\n",
       "      <th></th>\n",
       "      <th></th>\n",
       "      <th></th>\n",
       "      <th></th>\n",
       "      <th></th>\n",
       "      <th></th>\n",
       "      <th></th>\n",
       "      <th></th>\n",
       "      <th></th>\n",
       "      <th></th>\n",
       "      <th></th>\n",
       "      <th></th>\n",
       "      <th></th>\n",
       "      <th></th>\n",
       "      <th></th>\n",
       "    </tr>\n",
       "  </thead>\n",
       "  <tbody>\n",
       "    <tr>\n",
       "      <th>8082</th>\n",
       "      <td>4.38095</td>\n",
       "      <td>4.34115</td>\n",
       "      <td>2011-06-14 16:09:14</td>\n",
       "      <td>2015-10-15</td>\n",
       "      <td>56</td>\n",
       "      <td>0</td>\n",
       "      <td>5</td>\n",
       "      <td>620</td>\n",
       "      <td>18</td>\n",
       "      <td>28367</td>\n",
       "      <td>[Hours of video lectures detailing the ten ste...</td>\n",
       "      <td>[]</td>\n",
       "      <td>$74.99</td>\n",
       "      <td>2011-07-08 21:32:55</td>\n",
       "      <td>[{'count': 6, 'rating': 1}, {'count': 19, 'rat...</td>\n",
       "      <td>[]</td>\n",
       "      <td>Ruby Programming for Beginners</td>\n",
       "      <td>/learn-ruby-programming-in-ten-easy-steps/</td>\n",
       "      <td>6.0</td>\n",
       "      <td>0.066369</td>\n",
       "      <td>94.033333</td>\n",
       "      <td>301.669621</td>\n",
       "      <td>1247.0</td>\n",
       "      <td>2657.0</td>\n",
       "      <td>True</td>\n",
       "      <td>75</td>\n",
       "      <td>[2011-06-14 16:09:14, 2011-06-15 18:01:06, 201...</td>\n",
       "      <td>[93112.0, 98832.0, 12570.0, 62973.0, 252178.0,...</td>\n",
       "      <td>1.297656e+05</td>\n",
       "      <td>1.501916</td>\n",
       "      <td>13465.0</td>\n",
       "      <td>179.533333</td>\n",
       "      <td>Ruby Programming for Beginners Hours of video ...</td>\n",
       "      <td>[rubi, program, detail, awesom, rubyist, ebook...</td>\n",
       "      <td>[(0, 1), (1, 1), (2, 1), (3, 2), (4, 1), (5, 1...</td>\n",
       "      <td>Programming Language</td>\n",
       "      <td>rubi</td>\n",
       "    </tr>\n",
       "    <tr>\n",
       "      <th>8203</th>\n",
       "      <td>3.45000</td>\n",
       "      <td>3.73183</td>\n",
       "      <td>2011-06-20 19:59:32</td>\n",
       "      <td>2017-07-10</td>\n",
       "      <td>15</td>\n",
       "      <td>0</td>\n",
       "      <td>1</td>\n",
       "      <td>12</td>\n",
       "      <td>10</td>\n",
       "      <td>1550</td>\n",
       "      <td>[In this course, you will learn how to build a...</td>\n",
       "      <td>[PC or MAC with a browser installed]</td>\n",
       "      <td>$99.99</td>\n",
       "      <td>2011-06-20 17:48:46</td>\n",
       "      <td>[{'rating': 1, 'count': 2}, {'rating': 2, 'cou...</td>\n",
       "      <td>[This course is intended for those who have ba...</td>\n",
       "      <td>Basic and Advanced HTML Lessons</td>\n",
       "      <td>/learn-html-in-24-hours/</td>\n",
       "      <td>1.0</td>\n",
       "      <td>-0.000249</td>\n",
       "      <td>94.633333</td>\n",
       "      <td>16.379007</td>\n",
       "      <td>5274.0</td>\n",
       "      <td>7068.0</td>\n",
       "      <td>False</td>\n",
       "      <td>20</td>\n",
       "      <td>[]</td>\n",
       "      <td>[]</td>\n",
       "      <td>0.000000e+00</td>\n",
       "      <td>0.000000</td>\n",
       "      <td>2438.0</td>\n",
       "      <td>121.900000</td>\n",
       "      <td>Basic and Advanced HTML Lessons In this course...</td>\n",
       "      <td>[html, webpag, css, techniqu, websit]</td>\n",
       "      <td>[(24, 1), (25, 1), (26, 1), (27, 1), (28, 1)]</td>\n",
       "      <td>Web and Design</td>\n",
       "      <td>html</td>\n",
       "    </tr>\n",
       "    <tr>\n",
       "      <th>8319</th>\n",
       "      <td>3.60000</td>\n",
       "      <td>3.79901</td>\n",
       "      <td>2011-06-28 04:48:38</td>\n",
       "      <td>NaT</td>\n",
       "      <td>31</td>\n",
       "      <td>0</td>\n",
       "      <td>0</td>\n",
       "      <td>12</td>\n",
       "      <td>10</td>\n",
       "      <td>290</td>\n",
       "      <td>[The normal Git workflow, How to collaborate w...</td>\n",
       "      <td>[]</td>\n",
       "      <td>$19.99</td>\n",
       "      <td>2011-07-29 20:24:56</td>\n",
       "      <td>[{'rating': 1, 'count': 2}, {'rating': 2, 'cou...</td>\n",
       "      <td>[]</td>\n",
       "      <td>Git Basics: In Theory and Practice</td>\n",
       "      <td>/git-in-theory-and-in-practice/</td>\n",
       "      <td>7.5</td>\n",
       "      <td>0.086713</td>\n",
       "      <td>93.333333</td>\n",
       "      <td>3.107143</td>\n",
       "      <td>7371.0</td>\n",
       "      <td>8060.0</td>\n",
       "      <td>False</td>\n",
       "      <td>36</td>\n",
       "      <td>[2011-06-28 04:48:38, 2011-06-28 04:51:27, 201...</td>\n",
       "      <td>[21378.0, 31035.0, 91462.0, 1635165.0, 99133.0...</td>\n",
       "      <td>2.741634e+05</td>\n",
       "      <td>3.173188</td>\n",
       "      <td>10423.0</td>\n",
       "      <td>289.527778</td>\n",
       "      <td>Git Basics: In Theory and Practice The normal ...</td>\n",
       "      <td>[git, normal, git, workflow, collabor, team, m...</td>\n",
       "      <td>[(29, 1), (30, 1), (31, 4), (32, 1), (33, 1), ...</td>\n",
       "      <td>Programming Language</td>\n",
       "      <td>git</td>\n",
       "    </tr>\n",
       "    <tr>\n",
       "      <th>8324</th>\n",
       "      <td>3.95000</td>\n",
       "      <td>3.90651</td>\n",
       "      <td>2011-06-28 08:26:18</td>\n",
       "      <td>2018-07-06</td>\n",
       "      <td>48</td>\n",
       "      <td>0</td>\n",
       "      <td>6</td>\n",
       "      <td>243</td>\n",
       "      <td>10</td>\n",
       "      <td>3799</td>\n",
       "      <td>[Extensive, informative and interesting video ...</td>\n",
       "      <td>[Some basic knowledge of HTML is required for ...</td>\n",
       "      <td>$19.99</td>\n",
       "      <td>2011-07-09 05:43:31</td>\n",
       "      <td>[{'rating': 1, 'count': 8}, {'rating': 2, 'cou...</td>\n",
       "      <td>[Web Designers looking to improve their skill ...</td>\n",
       "      <td>Javascript for Beginners</td>\n",
       "      <td>/beginning-javascript/</td>\n",
       "      <td>3.0</td>\n",
       "      <td>0.029827</td>\n",
       "      <td>94.000000</td>\n",
       "      <td>40.414894</td>\n",
       "      <td>4009.0</td>\n",
       "      <td>5551.0</td>\n",
       "      <td>False</td>\n",
       "      <td>67</td>\n",
       "      <td>[2011-06-28 08:26:18, 2011-07-02 06:06:23, 201...</td>\n",
       "      <td>[337205.0, 133874.0, 11666.0, 46113.0, 42550.0...</td>\n",
       "      <td>1.132569e+05</td>\n",
       "      <td>1.310843</td>\n",
       "      <td>9399.0</td>\n",
       "      <td>140.283582</td>\n",
       "      <td>Javascript for Beginners Extensive, informativ...</td>\n",
       "      <td>[javascript, extens, inform, interest, demonst...</td>\n",
       "      <td>[(38, 1), (39, 1), (40, 1), (41, 1), (42, 2), ...</td>\n",
       "      <td>Web and Design</td>\n",
       "      <td>javascript</td>\n",
       "    </tr>\n",
       "    <tr>\n",
       "      <th>8325</th>\n",
       "      <td>4.65000</td>\n",
       "      <td>4.57516</td>\n",
       "      <td>2011-06-28 08:27:39</td>\n",
       "      <td>2018-07-06</td>\n",
       "      <td>82</td>\n",
       "      <td>0</td>\n",
       "      <td>5</td>\n",
       "      <td>284</td>\n",
       "      <td>10</td>\n",
       "      <td>12508</td>\n",
       "      <td>[The HTML Document Structure For HTML 4.01, XH...</td>\n",
       "      <td>[PC, Mac or Linux PC, Text Editor (Free!), Web...</td>\n",
       "      <td>$19.99</td>\n",
       "      <td>2011-09-09 15:28:59</td>\n",
       "      <td>[{'count': 5, 'rating': 1}, {'count': 8, 'rati...</td>\n",
       "      <td>[People who want to better manage their web si...</td>\n",
       "      <td>HTML Tutorial: HTML &amp; CSS for Beginners</td>\n",
       "      <td>/learn-html5/</td>\n",
       "      <td>4.0</td>\n",
       "      <td>0.200802</td>\n",
       "      <td>91.933333</td>\n",
       "      <td>136.055112</td>\n",
       "      <td>2212.0</td>\n",
       "      <td>2483.0</td>\n",
       "      <td>False</td>\n",
       "      <td>99</td>\n",
       "      <td>[2011-06-28 08:27:39, 2011-08-05 23:37:27, 201...</td>\n",
       "      <td>[3337788.0, 171769.0, 639755.0, 1867545.0, 129...</td>\n",
       "      <td>1.229227e+06</td>\n",
       "      <td>14.227160</td>\n",
       "      <td>14225.0</td>\n",
       "      <td>143.686869</td>\n",
       "      <td>HTML Tutorial: HTML &amp; CSS for Beginners The HT...</td>\n",
       "      <td>[html, html, &amp;, css, html, document, structur,...</td>\n",
       "      <td>[(0, 1), (24, 3), (25, 7), (55, 1), (56, 1), (...</td>\n",
       "      <td>Web and Design</td>\n",
       "      <td>html</td>\n",
       "    </tr>\n",
       "  </tbody>\n",
       "</table>\n",
       "</div>"
      ],
      "text/plain": [
       "      avg_rating  avg_rating_recent             created last_update_date  \\\n",
       "id                                                                         \n",
       "8082     4.38095            4.34115 2011-06-14 16:09:14       2015-10-15   \n",
       "8203     3.45000            3.73183 2011-06-20 19:59:32       2017-07-10   \n",
       "8319     3.60000            3.79901 2011-06-28 04:48:38              NaT   \n",
       "8324     3.95000            3.90651 2011-06-28 08:26:18       2018-07-06   \n",
       "8325     4.65000            4.57516 2011-06-28 08:27:39       2018-07-06   \n",
       "\n",
       "      num_published_lectures  num_published_practice_tests  \\\n",
       "id                                                           \n",
       "8082                      56                             0   \n",
       "8203                      15                             0   \n",
       "8319                      31                             0   \n",
       "8324                      48                             0   \n",
       "8325                      82                             0   \n",
       "\n",
       "      num_published_quizzes  num_reviews  num_reviews_recent  num_subscribers  \\\n",
       "id                                                                              \n",
       "8082                      5          620                  18            28367   \n",
       "8203                      1           12                  10             1550   \n",
       "8319                      0           12                  10              290   \n",
       "8324                      6          243                  10             3799   \n",
       "8325                      5          284                  10            12508   \n",
       "\n",
       "                                             objectives  \\\n",
       "id                                                        \n",
       "8082  [Hours of video lectures detailing the ten ste...   \n",
       "8203  [In this course, you will learn how to build a...   \n",
       "8319  [The normal Git workflow, How to collaborate w...   \n",
       "8324  [Extensive, informative and interesting video ...   \n",
       "8325  [The HTML Document Structure For HTML 4.01, XH...   \n",
       "\n",
       "                                          prerequisites   price  \\\n",
       "id                                                                \n",
       "8082                                                 []  $74.99   \n",
       "8203               [PC or MAC with a browser installed]  $99.99   \n",
       "8319                                                 []  $19.99   \n",
       "8324  [Some basic knowledge of HTML is required for ...  $19.99   \n",
       "8325  [PC, Mac or Linux PC, Text Editor (Free!), Web...  $19.99   \n",
       "\n",
       "          published_time                                rating_distribution  \\\n",
       "id                                                                            \n",
       "8082 2011-07-08 21:32:55  [{'count': 6, 'rating': 1}, {'count': 19, 'rat...   \n",
       "8203 2011-06-20 17:48:46  [{'rating': 1, 'count': 2}, {'rating': 2, 'cou...   \n",
       "8319 2011-07-29 20:24:56  [{'rating': 1, 'count': 2}, {'rating': 2, 'cou...   \n",
       "8324 2011-07-09 05:43:31  [{'rating': 1, 'count': 8}, {'rating': 2, 'cou...   \n",
       "8325 2011-09-09 15:28:59  [{'count': 5, 'rating': 1}, {'count': 8, 'rati...   \n",
       "\n",
       "                                       target_audiences  \\\n",
       "id                                                        \n",
       "8082                                                 []   \n",
       "8203  [This course is intended for those who have ba...   \n",
       "8319                                                 []   \n",
       "8324  [Web Designers looking to improve their skill ...   \n",
       "8325  [People who want to better manage their web si...   \n",
       "\n",
       "                                        title  \\\n",
       "id                                              \n",
       "8082           Ruby Programming for Beginners   \n",
       "8203          Basic and Advanced HTML Lessons   \n",
       "8319       Git Basics: In Theory and Practice   \n",
       "8324                 Javascript for Beginners   \n",
       "8325  HTML Tutorial: HTML & CSS for Beginners   \n",
       "\n",
       "                                             url  content_length  \\\n",
       "id                                                                 \n",
       "8082  /learn-ruby-programming-in-ten-easy-steps/             6.0   \n",
       "8203                    /learn-html-in-24-hours/             1.0   \n",
       "8319             /git-in-theory-and-in-practice/             7.5   \n",
       "8324                      /beginning-javascript/             3.0   \n",
       "8325                               /learn-html5/             4.0   \n",
       "\n",
       "      publication_gap  age in days  n_subs/(age)  Rank4 by n_subs/(age)  \\\n",
       "id                                                                        \n",
       "8082         0.066369    94.033333    301.669621                 1247.0   \n",
       "8203        -0.000249    94.633333     16.379007                 5274.0   \n",
       "8319         0.086713    93.333333      3.107143                 7371.0   \n",
       "8324         0.029827    94.000000     40.414894                 4009.0   \n",
       "8325         0.200802    91.933333    136.055112                 2212.0   \n",
       "\n",
       "      Rank aggreg  success  nbr of course element  \\\n",
       "id                                                  \n",
       "8082       2657.0     True                     75   \n",
       "8203       7068.0    False                     20   \n",
       "8319       8060.0    False                     36   \n",
       "8324       5551.0    False                     67   \n",
       "8325       2483.0    False                     99   \n",
       "\n",
       "                                       update_date_list  \\\n",
       "id                                                        \n",
       "8082  [2011-06-14 16:09:14, 2011-06-15 18:01:06, 201...   \n",
       "8203                                                 []   \n",
       "8319  [2011-06-28 04:48:38, 2011-06-28 04:51:27, 201...   \n",
       "8324  [2011-06-28 08:26:18, 2011-07-02 06:06:23, 201...   \n",
       "8325  [2011-06-28 08:27:39, 2011-08-05 23:37:27, 201...   \n",
       "\n",
       "                                      update_delta_list  Avg update delay  \\\n",
       "id                                                                          \n",
       "8082  [93112.0, 98832.0, 12570.0, 62973.0, 252178.0,...      1.297656e+05   \n",
       "8203                                                 []      0.000000e+00   \n",
       "8319  [21378.0, 31035.0, 91462.0, 1635165.0, 99133.0...      2.741634e+05   \n",
       "8324  [337205.0, 133874.0, 11666.0, 46113.0, 42550.0...      1.132569e+05   \n",
       "8325  [3337788.0, 171769.0, 639755.0, 1867545.0, 129...      1.229227e+06   \n",
       "\n",
       "      Avg update delay (days)  size_in_seconds  Average Size of Update  \\\n",
       "id                                                                       \n",
       "8082                 1.501916          13465.0              179.533333   \n",
       "8203                 0.000000           2438.0              121.900000   \n",
       "8319                 3.173188          10423.0              289.527778   \n",
       "8324                 1.310843           9399.0              140.283582   \n",
       "8325                14.227160          14225.0              143.686869   \n",
       "\n",
       "                                            source_text  \\\n",
       "id                                                        \n",
       "8082  Ruby Programming for Beginners Hours of video ...   \n",
       "8203  Basic and Advanced HTML Lessons In this course...   \n",
       "8319  Git Basics: In Theory and Practice The normal ...   \n",
       "8324  Javascript for Beginners Extensive, informativ...   \n",
       "8325  HTML Tutorial: HTML & CSS for Beginners The HT...   \n",
       "\n",
       "                                             Preprocess  \\\n",
       "id                                                        \n",
       "8082  [rubi, program, detail, awesom, rubyist, ebook...   \n",
       "8203              [html, webpag, css, techniqu, websit]   \n",
       "8319  [git, normal, git, workflow, collabor, team, m...   \n",
       "8324  [javascript, extens, inform, interest, demonst...   \n",
       "8325  [html, html, &, css, html, document, structur,...   \n",
       "\n",
       "                                             bow_corpus         General Topic  \\\n",
       "id                                                                              \n",
       "8082  [(0, 1), (1, 1), (2, 1), (3, 2), (4, 1), (5, 1...  Programming Language   \n",
       "8203      [(24, 1), (25, 1), (26, 1), (27, 1), (28, 1)]        Web and Design   \n",
       "8319  [(29, 1), (30, 1), (31, 4), (32, 1), (33, 1), ...  Programming Language   \n",
       "8324  [(38, 1), (39, 1), (40, 1), (41, 1), (42, 2), ...        Web and Design   \n",
       "8325  [(0, 1), (24, 3), (25, 7), (55, 1), (56, 1), (...        Web and Design   \n",
       "\n",
       "     Refined Topic  \n",
       "id                  \n",
       "8082          rubi  \n",
       "8203          html  \n",
       "8319           git  \n",
       "8324    javascript  \n",
       "8325          html  "
      ]
     },
     "execution_count": 2,
     "metadata": {},
     "output_type": "execute_result"
    }
   ],
   "source": [
    "course_details = pd.read_pickle('../Data/TopicAnnotated Data/course_details.pkl')\n",
    "course_details.head()"
   ]
  },
  {
   "cell_type": "markdown",
   "metadata": {},
   "source": [
    "### Features"
   ]
  },
  {
   "cell_type": "markdown",
   "metadata": {},
   "source": [
    "We ommit 'Refined topic' from the independant variables, for the sake of interpretability, as its presence does not affect the prediction score a lot."
   ]
  },
  {
   "cell_type": "code",
   "execution_count": 3,
   "metadata": {},
   "outputs": [
    {
     "data": {
      "text/html": [
       "<div>\n",
       "<style scoped>\n",
       "    .dataframe tbody tr th:only-of-type {\n",
       "        vertical-align: middle;\n",
       "    }\n",
       "\n",
       "    .dataframe tbody tr th {\n",
       "        vertical-align: top;\n",
       "    }\n",
       "\n",
       "    .dataframe thead th {\n",
       "        text-align: right;\n",
       "    }\n",
       "</style>\n",
       "<table border=\"1\" class=\"dataframe\">\n",
       "  <thead>\n",
       "    <tr style=\"text-align: right;\">\n",
       "      <th></th>\n",
       "      <th>num_published_lectures</th>\n",
       "      <th>num_published_test</th>\n",
       "      <th>num_published_quizzes</th>\n",
       "      <th>nbr of course element</th>\n",
       "      <th>size_in_seconds</th>\n",
       "      <th>Avg update delay (days)</th>\n",
       "      <th>Average Size of Update</th>\n",
       "      <th>General Topic</th>\n",
       "      <th>success</th>\n",
       "    </tr>\n",
       "    <tr>\n",
       "      <th>id</th>\n",
       "      <th></th>\n",
       "      <th></th>\n",
       "      <th></th>\n",
       "      <th></th>\n",
       "      <th></th>\n",
       "      <th></th>\n",
       "      <th></th>\n",
       "      <th></th>\n",
       "      <th></th>\n",
       "    </tr>\n",
       "  </thead>\n",
       "  <tbody>\n",
       "    <tr>\n",
       "      <th>8082</th>\n",
       "      <td>56</td>\n",
       "      <td>0</td>\n",
       "      <td>5</td>\n",
       "      <td>75</td>\n",
       "      <td>13465.0</td>\n",
       "      <td>1.501916</td>\n",
       "      <td>179.533333</td>\n",
       "      <td>Programming Language</td>\n",
       "      <td>True</td>\n",
       "    </tr>\n",
       "    <tr>\n",
       "      <th>8203</th>\n",
       "      <td>15</td>\n",
       "      <td>0</td>\n",
       "      <td>1</td>\n",
       "      <td>20</td>\n",
       "      <td>2438.0</td>\n",
       "      <td>0.000000</td>\n",
       "      <td>121.900000</td>\n",
       "      <td>Web and Design</td>\n",
       "      <td>False</td>\n",
       "    </tr>\n",
       "    <tr>\n",
       "      <th>8319</th>\n",
       "      <td>31</td>\n",
       "      <td>0</td>\n",
       "      <td>0</td>\n",
       "      <td>36</td>\n",
       "      <td>10423.0</td>\n",
       "      <td>3.173188</td>\n",
       "      <td>289.527778</td>\n",
       "      <td>Programming Language</td>\n",
       "      <td>False</td>\n",
       "    </tr>\n",
       "    <tr>\n",
       "      <th>8324</th>\n",
       "      <td>48</td>\n",
       "      <td>0</td>\n",
       "      <td>6</td>\n",
       "      <td>67</td>\n",
       "      <td>9399.0</td>\n",
       "      <td>1.310843</td>\n",
       "      <td>140.283582</td>\n",
       "      <td>Web and Design</td>\n",
       "      <td>False</td>\n",
       "    </tr>\n",
       "    <tr>\n",
       "      <th>8325</th>\n",
       "      <td>82</td>\n",
       "      <td>0</td>\n",
       "      <td>5</td>\n",
       "      <td>99</td>\n",
       "      <td>14225.0</td>\n",
       "      <td>14.227160</td>\n",
       "      <td>143.686869</td>\n",
       "      <td>Web and Design</td>\n",
       "      <td>False</td>\n",
       "    </tr>\n",
       "  </tbody>\n",
       "</table>\n",
       "</div>"
      ],
      "text/plain": [
       "      num_published_lectures  num_published_test  num_published_quizzes  \\\n",
       "id                                                                        \n",
       "8082                      56                   0                      5   \n",
       "8203                      15                   0                      1   \n",
       "8319                      31                   0                      0   \n",
       "8324                      48                   0                      6   \n",
       "8325                      82                   0                      5   \n",
       "\n",
       "      nbr of course element  size_in_seconds  Avg update delay (days)  \\\n",
       "id                                                                      \n",
       "8082                     75          13465.0                 1.501916   \n",
       "8203                     20           2438.0                 0.000000   \n",
       "8319                     36          10423.0                 3.173188   \n",
       "8324                     67           9399.0                 1.310843   \n",
       "8325                     99          14225.0                14.227160   \n",
       "\n",
       "      Average Size of Update         General Topic  success  \n",
       "id                                                           \n",
       "8082              179.533333  Programming Language     True  \n",
       "8203              121.900000        Web and Design    False  \n",
       "8319              289.527778  Programming Language    False  \n",
       "8324              140.283582        Web and Design    False  \n",
       "8325              143.686869        Web and Design    False  "
      ]
     },
     "execution_count": 3,
     "metadata": {},
     "output_type": "execute_result"
    }
   ],
   "source": [
    "features = course_details[['num_published_lectures',\n",
    "                           'num_published_practice_tests',\n",
    "                           'num_published_quizzes',\n",
    "                           'nbr of course element',\n",
    "                           'size_in_seconds',\n",
    "                           'Avg update delay (days)',\n",
    "                           'Average Size of Update',\n",
    "                           'General Topic',\n",
    "#                           'Refined Topic',\n",
    "                           'success']].rename({'num_published_practice_tests':'num_published_test'},axis=1)\n",
    "\n",
    "features.head()"
   ]
  },
  {
   "cell_type": "code",
   "execution_count": 4,
   "metadata": {},
   "outputs": [
    {
     "data": {
      "text/plain": [
       "Programming Language    4379\n",
       "Web and Design          3371\n",
       "DB system               1144\n",
       "Name: General Topic, dtype: int64"
      ]
     },
     "execution_count": 4,
     "metadata": {},
     "output_type": "execute_result"
    }
   ],
   "source": [
    "features['General Topic'].value_counts()"
   ]
  },
  {
   "cell_type": "code",
   "execution_count": 5,
   "metadata": {
    "scrolled": true
   },
   "outputs": [
    {
     "data": {
      "text/plain": [
       "1    8894\n",
       "dtype: int64"
      ]
     },
     "execution_count": 5,
     "metadata": {},
     "output_type": "execute_result"
    }
   ],
   "source": [
    "test = pd.get_dummies(features.drop('success',axis=1))\n",
    "\n",
    "(test['General Topic_DB system']+test['General Topic_Programming Language']+test['General Topic_Web and Design']).value_counts()"
   ]
  },
  {
   "cell_type": "code",
   "execution_count": 6,
   "metadata": {},
   "outputs": [],
   "source": [
    "X = pd.get_dummies(features.drop('success',axis=1)).drop('General Topic_DB system', axis=1).values\n",
    "Y = features['success'].astype(int).values"
   ]
  },
  {
   "cell_type": "code",
   "execution_count": 7,
   "metadata": {},
   "outputs": [],
   "source": [
    "from sklearn.model_selection import train_test_split, cross_val_score\n",
    "\n",
    "\n",
    "x_train, x_test, y_train, y_test = train_test_split(X, Y, test_size=0.25, random_state=0)"
   ]
  },
  {
   "cell_type": "markdown",
   "metadata": {
    "collapsed": true
   },
   "source": [
    "- Logistic Regression :"
   ]
  },
  {
   "cell_type": "code",
   "execution_count": 8,
   "metadata": {},
   "outputs": [
    {
     "data": {
      "text/plain": [
       "LogisticRegression(C=1.0, class_weight=None, dual=False, fit_intercept=True,\n",
       "          intercept_scaling=1, max_iter=1000000, multi_class='ovr',\n",
       "          n_jobs=1, penalty='l2', random_state=None, solver='liblinear',\n",
       "          tol=1e-07, verbose=0, warm_start=False)"
      ]
     },
     "execution_count": 8,
     "metadata": {},
     "output_type": "execute_result"
    }
   ],
   "source": [
    "from sklearn.linear_model import LogisticRegression\n",
    "logisticRegr = LogisticRegression(tol=1e-7, max_iter=1000000)\n",
    "\n",
    "logisticRegr.fit(x_train, y_train)"
   ]
  },
  {
   "cell_type": "code",
   "execution_count": 9,
   "metadata": {},
   "outputs": [
    {
     "data": {
      "text/plain": [
       "0.8142985611510791"
      ]
     },
     "execution_count": 9,
     "metadata": {},
     "output_type": "execute_result"
    }
   ],
   "source": [
    "lr_clf_score = logisticRegr.score(x_test, y_test)\n",
    "lr_clf_score "
   ]
  },
  {
   "cell_type": "code",
   "execution_count": 10,
   "metadata": {},
   "outputs": [
    {
     "data": {
      "text/plain": [
       "[0.01388408950355175,\n",
       " 0.06832685758387896,\n",
       " 0.03444004980324062,\n",
       " -0.0074828734493198115,\n",
       " -1.6459445442260405e-06,\n",
       " 0.00038437280328228787,\n",
       " 1.823803846890234e-05,\n",
       " 0.21892475798984376,\n",
       " 0.42172304503413394]"
      ]
     },
     "execution_count": 10,
     "metadata": {},
     "output_type": "execute_result"
    }
   ],
   "source": [
    "# weights\n",
    "logisticRegr.coef_.tolist()[0]"
   ]
  },
  {
   "cell_type": "code",
   "execution_count": 11,
   "metadata": {},
   "outputs": [
    {
     "data": {
      "text/plain": [
       "num_published_lectures                0.013884\n",
       "num_published_test                    0.068327\n",
       "num_published_quizzes                 0.034440\n",
       "nbr of course element                -0.007483\n",
       "size_in_seconds                      -0.000002\n",
       "Avg update delay (days)               0.000384\n",
       "Average Size of Update                0.000018\n",
       "General Topic_Programming Language    0.218925\n",
       "General Topic_Web and Design          0.421723\n",
       "dtype: float64"
      ]
     },
     "execution_count": 11,
     "metadata": {},
     "output_type": "execute_result"
    }
   ],
   "source": [
    "pd.Series(index=pd.get_dummies(features.drop('success',axis=1)).drop('General Topic_DB system', axis=1).columns,data=logisticRegr.coef_[0])"
   ]
  },
  {
   "cell_type": "markdown",
   "metadata": {},
   "source": [
    "#### Trying Other classifiers"
   ]
  },
  {
   "cell_type": "markdown",
   "metadata": {},
   "source": [
    "- Decision Tree"
   ]
  },
  {
   "cell_type": "code",
   "execution_count": 12,
   "metadata": {},
   "outputs": [
    {
     "data": {
      "text/plain": [
       "DecisionTreeClassifier(class_weight=None, criterion='gini', max_depth=None,\n",
       "            max_features=None, max_leaf_nodes=None,\n",
       "            min_impurity_decrease=0.0, min_impurity_split=None,\n",
       "            min_samples_leaf=1, min_samples_split=2,\n",
       "            min_weight_fraction_leaf=0.0, presort=False, random_state=None,\n",
       "            splitter='best')"
      ]
     },
     "execution_count": 12,
     "metadata": {},
     "output_type": "execute_result"
    }
   ],
   "source": [
    "from sklearn.tree import DecisionTreeClassifier\n",
    "DecisionTreeClf = DecisionTreeClassifier()\n",
    "\n",
    "DecisionTreeClf.fit(x_train,y_train)"
   ]
  },
  {
   "cell_type": "code",
   "execution_count": 13,
   "metadata": {},
   "outputs": [
    {
     "data": {
      "text/plain": [
       "0.7108812949640287"
      ]
     },
     "execution_count": 13,
     "metadata": {},
     "output_type": "execute_result"
    }
   ],
   "source": [
    "dt_clf_score = DecisionTreeClf.score(x_test, y_test)\n",
    "dt_clf_score"
   ]
  },
  {
   "cell_type": "code",
   "execution_count": 14,
   "metadata": {},
   "outputs": [
    {
     "data": {
      "text/plain": [
       "array([0.70432827, 0.68184373, 0.70207982, 0.71107364, 0.71766029])"
      ]
     },
     "execution_count": 14,
     "metadata": {},
     "output_type": "execute_result"
    }
   ],
   "source": [
    "score = cross_val_score(DecisionTreeClf, X,Y, cv=5)\n",
    "score"
   ]
  },
  {
   "cell_type": "markdown",
   "metadata": {},
   "source": [
    "- KNN"
   ]
  },
  {
   "cell_type": "code",
   "execution_count": 15,
   "metadata": {},
   "outputs": [
    {
     "data": {
      "text/plain": [
       "KNeighborsClassifier(algorithm='auto', leaf_size=30, metric='minkowski',\n",
       "           metric_params=None, n_jobs=1, n_neighbors=5, p=2,\n",
       "           weights='uniform')"
      ]
     },
     "execution_count": 15,
     "metadata": {},
     "output_type": "execute_result"
    }
   ],
   "source": [
    "from sklearn.neighbors import KNeighborsClassifier\n",
    "KNeighborsClf = KNeighborsClassifier()\n",
    "\n",
    "KNeighborsClf.fit(x_train,y_train)"
   ]
  },
  {
   "cell_type": "code",
   "execution_count": 16,
   "metadata": {},
   "outputs": [
    {
     "data": {
      "text/plain": [
       "0.7913669064748201"
      ]
     },
     "execution_count": 16,
     "metadata": {},
     "output_type": "execute_result"
    }
   ],
   "source": [
    "knn_clf_score = KNeighborsClf.score(x_test, y_test)\n",
    "knn_clf_score"
   ]
  },
  {
   "cell_type": "markdown",
   "metadata": {},
   "source": [
    "- Random Forrest"
   ]
  },
  {
   "cell_type": "code",
   "execution_count": 17,
   "metadata": {
    "scrolled": true
   },
   "outputs": [
    {
     "data": {
      "text/plain": [
       "RandomForestClassifier(bootstrap=True, class_weight=None, criterion='gini',\n",
       "            max_depth=None, max_features='auto', max_leaf_nodes=None,\n",
       "            min_impurity_decrease=0.0, min_impurity_split=None,\n",
       "            min_samples_leaf=1, min_samples_split=2,\n",
       "            min_weight_fraction_leaf=0.0, n_estimators=10, n_jobs=1,\n",
       "            oob_score=False, random_state=None, verbose=0,\n",
       "            warm_start=False)"
      ]
     },
     "execution_count": 17,
     "metadata": {},
     "output_type": "execute_result"
    }
   ],
   "source": [
    "from sklearn.ensemble import RandomForestClassifier\n",
    "RandomForestClf = RandomForestClassifier()\n",
    "\n",
    "RandomForestClf.fit(x_train,y_train)"
   ]
  },
  {
   "cell_type": "code",
   "execution_count": 18,
   "metadata": {},
   "outputs": [
    {
     "data": {
      "text/plain": [
       "0.8026079136690647"
      ]
     },
     "execution_count": 18,
     "metadata": {},
     "output_type": "execute_result"
    }
   ],
   "source": [
    "rf_clf_score = RandomForestClf.score(x_test, y_test)\n",
    "rf_clf_score"
   ]
  }
 ],
 "metadata": {
  "kernelspec": {
   "display_name": "Python 3",
   "language": "python",
   "name": "python3"
  },
  "language_info": {
   "codemirror_mode": {
    "name": "ipython",
    "version": 3
   },
   "file_extension": ".py",
   "mimetype": "text/x-python",
   "name": "python",
   "nbconvert_exporter": "python",
   "pygments_lexer": "ipython3",
   "version": "3.6.3"
  }
 },
 "nbformat": 4,
 "nbformat_minor": 2
}
