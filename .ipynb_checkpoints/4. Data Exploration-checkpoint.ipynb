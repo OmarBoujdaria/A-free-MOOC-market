{
 "cells": [
  {
   "cell_type": "code",
   "execution_count": 1,
   "metadata": {
    "collapsed": true
   },
   "outputs": [],
   "source": [
    "import pickle as pkl\n",
    "\n",
    "import numpy as np\n",
    "import pandas as pd\n",
    "import math\n",
    "\n",
    "import seaborn as sns\n",
    "import matplotlib.pyplot as plt\n",
    "\n",
    "from datetime import datetime, timedelta\n",
    "\n",
    "pd.set_option('display.max_columns', 500)\n",
    "\n",
    "%matplotlib inline"
   ]
  },
  {
   "cell_type": "markdown",
   "metadata": {},
   "source": [
    " #### Reading preprocessed data"
   ]
  },
  {
   "cell_type": "code",
   "execution_count": 2,
   "metadata": {
    "collapsed": true
   },
   "outputs": [],
   "source": [
    "course_details = pd.read_pickle('../Data/Preproccessed Data/course_details.pkl')"
   ]
  },
  {
   "cell_type": "code",
   "execution_count": 3,
   "metadata": {
    "collapsed": true
   },
   "outputs": [],
   "source": [
    "course_syllabi = pd.read_pickle('../Data/Preproccessed Data/course_syllabi.pkl')"
   ]
  },
  {
   "cell_type": "code",
   "execution_count": 4,
   "metadata": {
    "collapsed": true
   },
   "outputs": [],
   "source": [
    "course_reviews = pd.read_pickle('../Data/Preproccessed Data/course_reviews.pkl')"
   ]
  },
  {
   "cell_type": "markdown",
   "metadata": {},
   "source": [
    "### Difference in  means between paid and free courses :\n",
    "\n",
    "- investigating the difference in success between paid and free course :\n"
   ]
  },
  {
   "cell_type": "markdown",
   "metadata": {},
   "source": [
    "(only 384/9718, ~4% are free, we should have different criterions of success for paid and free courses )"
   ]
  },
  {
   "cell_type": "code",
   "execution_count": 5,
   "metadata": {},
   "outputs": [
    {
     "data": {
      "text/plain": [
       "True     9333\n",
       "False     384\n",
       "Name: is_paid, dtype: int64"
      ]
     },
     "execution_count": 5,
     "metadata": {},
     "output_type": "execute_result"
    }
   ],
   "source": [
    "course_details['is_paid'].value_counts()"
   ]
  },
  {
   "cell_type": "markdown",
   "metadata": {},
   "source": [
    "We add histogram and boxplot to inspect for tail, maybe there is ONE course that has a lot more subscirbers than the group."
   ]
  },
  {
   "cell_type": "code",
   "execution_count": 6,
   "metadata": {},
   "outputs": [
    {
     "data": {
      "text/plain": [
       "<matplotlib.axes._subplots.AxesSubplot at 0x15460081ba8>"
      ]
     },
     "execution_count": 6,
     "metadata": {},
     "output_type": "execute_result"
    },
    {
     "data": {
      "image/png": "[encoded data removed]",
      "text/plain": [
       "<Figure size 720x252 with 2 Axes>"
      ]
     },
     "metadata": {},
     "output_type": "display_data"
    }
   ],
   "source": [
    "fig, ax = plt.subplots(2,1, sharex=True, figsize=(10,3.5))\n",
    "\n",
    "# set title\n",
    "ax[0].set_title('Free')\n",
    "ax[1].set_title('Paid')\n",
    "\n",
    "\n",
    "#plot\n",
    "\n",
    "free = course_details[~course_details['is_paid']].sort_values('num_subscribers',ascending=False)\n",
    "paid = course_details[ course_details['is_paid']].sort_values('num_subscribers',ascending=False)\n",
    "\n",
    "free['num_subscribers'].plot.box(ax=ax[0],vert=False)\n",
    "paid['num_subscribers'].plot.box(ax=ax[1],vert=False)"
   ]
  },
  {
   "cell_type": "markdown",
   "metadata": {},
   "source": [
    "We observe that both distributions of number ofsubscribers for free and paid courses are very skewed. We drop one outlier from free and 2 ouliters from paid"
   ]
  },
  {
   "cell_type": "code",
   "execution_count": 7,
   "metadata": {
    "collapsed": true
   },
   "outputs": [],
   "source": [
    "#  outliers : one for free courses, 2 for paid courses\n",
    "outliers_id = pd.concat([free.iloc[[0],:], paid.iloc[:2,:]]).index.tolist()"
   ]
  },
  {
   "cell_type": "code",
   "execution_count": 8,
   "metadata": {
    "collapsed": true
   },
   "outputs": [],
   "source": [
    "# we dont drop the outliers\n",
    "#course_details.drop(outliers_id,inplace=True)"
   ]
  },
  {
   "cell_type": "code",
   "execution_count": 9,
   "metadata": {},
   "outputs": [
    {
     "data": {
      "text/html": [
       "<div>\n",
       "<style scoped>\n",
       "    .dataframe tbody tr th:only-of-type {\n",
       "        vertical-align: middle;\n",
       "    }\n",
       "\n",
       "    .dataframe tbody tr th {\n",
       "        vertical-align: top;\n",
       "    }\n",
       "\n",
       "    .dataframe thead th {\n",
       "        text-align: right;\n",
       "    }\n",
       "</style>\n",
       "<table border=\"1\" class=\"dataframe\">\n",
       "  <thead>\n",
       "    <tr style=\"text-align: right;\">\n",
       "      <th></th>\n",
       "      <th>Free courses</th>\n",
       "      <th>Paid courses</th>\n",
       "      <th>All courses</th>\n",
       "    </tr>\n",
       "  </thead>\n",
       "  <tbody>\n",
       "    <tr>\n",
       "      <th>avg_rating</th>\n",
       "      <td>4.192206</td>\n",
       "      <td>3.658196</td>\n",
       "      <td>3.679299</td>\n",
       "    </tr>\n",
       "    <tr>\n",
       "      <th>avg_rating_recent</th>\n",
       "      <td>4.210535</td>\n",
       "      <td>3.656025</td>\n",
       "      <td>3.677938</td>\n",
       "    </tr>\n",
       "    <tr>\n",
       "      <th>is_paid</th>\n",
       "      <td>0.000000</td>\n",
       "      <td>1.000000</td>\n",
       "      <td>0.960482</td>\n",
       "    </tr>\n",
       "    <tr>\n",
       "      <th>num_published_lectures</th>\n",
       "      <td>30.984375</td>\n",
       "      <td>52.843459</td>\n",
       "      <td>51.979623</td>\n",
       "    </tr>\n",
       "    <tr>\n",
       "      <th>num_published_practice_tests</th>\n",
       "      <td>0.000000</td>\n",
       "      <td>0.012536</td>\n",
       "      <td>0.012041</td>\n",
       "    </tr>\n",
       "    <tr>\n",
       "      <th>num_published_quizzes</th>\n",
       "      <td>1.002604</td>\n",
       "      <td>1.242044</td>\n",
       "      <td>1.232582</td>\n",
       "    </tr>\n",
       "    <tr>\n",
       "      <th>num_reviews</th>\n",
       "      <td>1535.666667</td>\n",
       "      <td>305.072538</td>\n",
       "      <td>353.703612</td>\n",
       "    </tr>\n",
       "    <tr>\n",
       "      <th>num_reviews_recent</th>\n",
       "      <td>163.828125</td>\n",
       "      <td>46.936462</td>\n",
       "      <td>51.555830</td>\n",
       "    </tr>\n",
       "    <tr>\n",
       "      <th>num_subscribers</th>\n",
       "      <td>32066.526042</td>\n",
       "      <td>3584.828565</td>\n",
       "      <td>4710.378821</td>\n",
       "    </tr>\n",
       "    <tr>\n",
       "      <th>content_length</th>\n",
       "      <td>3.449826</td>\n",
       "      <td>6.269931</td>\n",
       "      <td>6.158485</td>\n",
       "    </tr>\n",
       "    <tr>\n",
       "      <th>publication_gap</th>\n",
       "      <td>0.118411</td>\n",
       "      <td>0.109326</td>\n",
       "      <td>0.109685</td>\n",
       "    </tr>\n",
       "  </tbody>\n",
       "</table>\n",
       "</div>"
      ],
      "text/plain": [
       "                              Free courses  Paid courses  All courses\n",
       "avg_rating                        4.192206      3.658196     3.679299\n",
       "avg_rating_recent                 4.210535      3.656025     3.677938\n",
       "is_paid                           0.000000      1.000000     0.960482\n",
       "num_published_lectures           30.984375     52.843459    51.979623\n",
       "num_published_practice_tests      0.000000      0.012536     0.012041\n",
       "num_published_quizzes             1.002604      1.242044     1.232582\n",
       "num_reviews                    1535.666667    305.072538   353.703612\n",
       "num_reviews_recent              163.828125     46.936462    51.555830\n",
       "num_subscribers               32066.526042   3584.828565  4710.378821\n",
       "content_length                    3.449826      6.269931     6.158485\n",
       "publication_gap                   0.118411      0.109326     0.109685"
      ]
     },
     "execution_count": 9,
     "metadata": {},
     "output_type": "execute_result"
    }
   ],
   "source": [
    "all_courses  = course_details.mean().rename('All courses')\n",
    "paid_courses = course_details[course_details['is_paid']].mean().rename('Paid courses')\n",
    "free_courses = course_details[~course_details['is_paid']].mean().rename('Free courses')\n",
    "\n",
    "pd.concat([free_courses, paid_courses,all_courses], axis=1)"
   ]
  },
  {
   "cell_type": "markdown",
   "metadata": {},
   "source": [
    "First, we see the predominance of the paid courses as they represent 96% of this dataset. With this big proportion being paid, we can see the means of the paid group are very close to the means of the full dataset.\n",
    "\n",
    "We observe that for success factors, free courses are dominating : in terms of total subrscibers, the free courses hit 9 times more subscriber and 5 times more reviews than the paid ones on average.\n",
    "\n",
    "Conversely, free courses also seems to be less diligent in their content : the content length is doubled for paid courses, with 6h15 of lectures on averages for paid courses against 3h30 for free courses. The number of lectures is also higher for paid courses (+70%) .\n",
    "\n"
   ]
  },
  {
   "cell_type": "code",
   "execution_count": 10,
   "metadata": {
    "collapsed": true
   },
   "outputs": [],
   "source": [
    "# storing free courses before drop\n",
    "course_details_free = course_details[~course_details['is_paid']]"
   ]
  },
  {
   "cell_type": "code",
   "execution_count": 11,
   "metadata": {
    "collapsed": true
   },
   "outputs": [],
   "source": [
    "# dropping free courses and is_paid column\n",
    "\n",
    "course_details = course_details[course_details['is_paid']]\n",
    "course_details.drop('is_paid', axis=1, inplace=True)"
   ]
  },
  {
   "cell_type": "markdown",
   "metadata": {},
   "source": [
    "# ** Now we only work with paid courses **"
   ]
  },
  {
   "cell_type": "markdown",
   "metadata": {},
   "source": [
    "### 1. Ranking the courses"
   ]
  },
  {
   "cell_type": "markdown",
   "metadata": {},
   "source": [
    "In this section,  we try to rank the courses using meaningfull scales."
   ]
  },
  {
   "cell_type": "markdown",
   "metadata": {},
   "source": [
    "###### Rank1"
   ]
  },
  {
   "cell_type": "code",
   "execution_count": 12,
   "metadata": {
    "collapsed": true
   },
   "outputs": [],
   "source": [
    "# rank by ratings\n",
    "course_details['Rank1 by avg_rating'] = course_details['avg_rating'].rank(method='min',ascending=False)"
   ]
  },
  {
   "cell_type": "markdown",
   "metadata": {},
   "source": [
    "#### Rank2"
   ]
  },
  {
   "cell_type": "code",
   "execution_count": 13,
   "metadata": {
    "collapsed": true
   },
   "outputs": [],
   "source": [
    "# rank by num subscribers\n",
    "course_details['Rank2 by num_subs'] = course_details['num_subscribers'].rank(method='min',ascending=False)"
   ]
  },
  {
   "cell_type": "markdown",
   "metadata": {},
   "source": [
    "#### Rank 3 and 4"
   ]
  },
  {
   "cell_type": "code",
   "execution_count": 14,
   "metadata": {
    "collapsed": true,
    "scrolled": true
   },
   "outputs": [],
   "source": [
    "# Creating the column 'age in months'\n",
    "\n",
    "# change today to when the dataset was scrapped : it was february 2019\n",
    "course_details['age in days'] = (datetime(2019,2,28) - course_details['published_time']).apply(lambda x : ((x.days)/30)+1)"
   ]
  },
  {
   "cell_type": "code",
   "execution_count": 15,
   "metadata": {
    "collapsed": true
   },
   "outputs": [],
   "source": [
    "course_details['avg_r/(age)'] = course_details.apply(lambda row : row['avg_rating']/(row['age in days']), axis=1)\n",
    "\n",
    "course_details['Rank3 by avg_r/(age)'] = course_details['avg_r/(age)'].rank(method='min', ascending=False)"
   ]
  },
  {
   "cell_type": "code",
   "execution_count": 16,
   "metadata": {
    "collapsed": true
   },
   "outputs": [],
   "source": [
    "course_details['n_subs/(age)'] = course_details.apply(lambda row : row['num_subscribers']/(row['age in days']), axis=1)\n",
    "\n",
    "course_details['Rank4 by n_subs/(age)'] = course_details['n_subs/(age)'].rank(method='min',ascending=False)"
   ]
  },
  {
   "cell_type": "markdown",
   "metadata": {},
   "source": [
    "#### Rank 5 and 6"
   ]
  },
  {
   "cell_type": "code",
   "execution_count": 17,
   "metadata": {
    "collapsed": true
   },
   "outputs": [],
   "source": [
    "c1 = 2 \n",
    "c2 = 5 "
   ]
  },
  {
   "cell_type": "code",
   "execution_count": 18,
   "metadata": {
    "collapsed": true
   },
   "outputs": [],
   "source": [
    "# rank by average rating divided by ln(course age in days)\n",
    "course_details['avg_r/ln(age)'] = course_details.apply(lambda row : row['avg_rating']/np.log(c1*row['age in days']), axis=1)"
   ]
  },
  {
   "cell_type": "code",
   "execution_count": 19,
   "metadata": {
    "collapsed": true
   },
   "outputs": [],
   "source": [
    "course_details['Rank5 by avg_r/ln(age)'] = course_details['avg_r/ln(age)'].rank(method='min',ascending=False)\n",
    "\n",
    "#course_details.drop('avg_r/ln(age)',axis=1,inplace=True)\n",
    "\n",
    "course_details['n_subs/ln(age)'] = course_details.apply(lambda row : row['num_subscribers']/np.log(c2*row['age in days']), axis=1)\n",
    "\n",
    "course_details['Rank6 by n_subs/ln(age)'] = course_details['n_subs/ln(age)'].rank(method='min',ascending=False)\n",
    "\n",
    "#course_details.drop('n_subs/ln(age)',axis=1,inplace=True)"
   ]
  },
  {
   "cell_type": "markdown",
   "metadata": {},
   "source": [
    "\n",
    "#### Comparing the ranks"
   ]
  },
  {
   "cell_type": "markdown",
   "metadata": {},
   "source": [
    "**One way to combine the 4 rankings, is to minimize the distance to all 4 ranks :  ==> By Mean of rankings**"
   ]
  },
  {
   "cell_type": "markdown",
   "metadata": {},
   "source": [
    "We want our output rank to be such that each course rank is at minimal total distance of its input ranks, in this case they are 4, and to be a valid rank\n"
   ]
  },
  {
   "cell_type": "code",
   "execution_count": 20,
   "metadata": {},
   "outputs": [
    {
     "data": {
      "text/html": [
       "<div>\n",
       "<style scoped>\n",
       "    .dataframe tbody tr th:only-of-type {\n",
       "        vertical-align: middle;\n",
       "    }\n",
       "\n",
       "    .dataframe tbody tr th {\n",
       "        vertical-align: top;\n",
       "    }\n",
       "\n",
       "    .dataframe thead th {\n",
       "        text-align: right;\n",
       "    }\n",
       "</style>\n",
       "<table border=\"1\" class=\"dataframe\">\n",
       "  <thead>\n",
       "    <tr style=\"text-align: right;\">\n",
       "      <th></th>\n",
       "      <th>avg_rating</th>\n",
       "      <th>avg_rating_recent</th>\n",
       "      <th>created</th>\n",
       "      <th>last_update_date</th>\n",
       "      <th>num_published_lectures</th>\n",
       "      <th>num_published_practice_tests</th>\n",
       "      <th>num_published_quizzes</th>\n",
       "      <th>num_reviews</th>\n",
       "      <th>num_reviews_recent</th>\n",
       "      <th>num_subscribers</th>\n",
       "      <th>objectives</th>\n",
       "      <th>prerequisites</th>\n",
       "      <th>price</th>\n",
       "      <th>published_time</th>\n",
       "      <th>rating_distribution</th>\n",
       "      <th>target_audiences</th>\n",
       "      <th>title</th>\n",
       "      <th>url</th>\n",
       "      <th>content_length</th>\n",
       "      <th>publication_gap</th>\n",
       "      <th>Rank1 by avg_rating</th>\n",
       "      <th>Rank2 by num_subs</th>\n",
       "      <th>age in days</th>\n",
       "      <th>avg_r/(age)</th>\n",
       "      <th>Rank3 by avg_r/(age)</th>\n",
       "      <th>n_subs/(age)</th>\n",
       "      <th>Rank4 by n_subs/(age)</th>\n",
       "      <th>avg_r/ln(age)</th>\n",
       "      <th>Rank5 by avg_r/ln(age)</th>\n",
       "      <th>n_subs/ln(age)</th>\n",
       "      <th>Rank6 by n_subs/ln(age)</th>\n",
       "    </tr>\n",
       "    <tr>\n",
       "      <th>id</th>\n",
       "      <th></th>\n",
       "      <th></th>\n",
       "      <th></th>\n",
       "      <th></th>\n",
       "      <th></th>\n",
       "      <th></th>\n",
       "      <th></th>\n",
       "      <th></th>\n",
       "      <th></th>\n",
       "      <th></th>\n",
       "      <th></th>\n",
       "      <th></th>\n",
       "      <th></th>\n",
       "      <th></th>\n",
       "      <th></th>\n",
       "      <th></th>\n",
       "      <th></th>\n",
       "      <th></th>\n",
       "      <th></th>\n",
       "      <th></th>\n",
       "      <th></th>\n",
       "      <th></th>\n",
       "      <th></th>\n",
       "      <th></th>\n",
       "      <th></th>\n",
       "      <th></th>\n",
       "      <th></th>\n",
       "      <th></th>\n",
       "      <th></th>\n",
       "      <th></th>\n",
       "      <th></th>\n",
       "    </tr>\n",
       "  </thead>\n",
       "  <tbody>\n",
       "    <tr>\n",
       "      <th>8082</th>\n",
       "      <td>4.38095</td>\n",
       "      <td>4.34115</td>\n",
       "      <td>2011-06-14 16:09:14</td>\n",
       "      <td>2015-10-15</td>\n",
       "      <td>56</td>\n",
       "      <td>0</td>\n",
       "      <td>5</td>\n",
       "      <td>620</td>\n",
       "      <td>18</td>\n",
       "      <td>28367</td>\n",
       "      <td>[Hours of video lectures detailing the ten ste...</td>\n",
       "      <td>[]</td>\n",
       "      <td>$74.99</td>\n",
       "      <td>2011-07-08 21:32:55</td>\n",
       "      <td>[{'count': 6, 'rating': 1}, {'count': 19, 'rat...</td>\n",
       "      <td>[]</td>\n",
       "      <td>Ruby Programming for Beginners</td>\n",
       "      <td>/learn-ruby-programming-in-ten-easy-steps/</td>\n",
       "      <td>6.0</td>\n",
       "      <td>0.066369</td>\n",
       "      <td>2554.0</td>\n",
       "      <td>203.0</td>\n",
       "      <td>94.033333</td>\n",
       "      <td>0.046589</td>\n",
       "      <td>8406.0</td>\n",
       "      <td>301.669621</td>\n",
       "      <td>1247.0</td>\n",
       "      <td>0.836571</td>\n",
       "      <td>7294.0</td>\n",
       "      <td>4610.206045</td>\n",
       "      <td>282.0</td>\n",
       "    </tr>\n",
       "    <tr>\n",
       "      <th>8203</th>\n",
       "      <td>3.45000</td>\n",
       "      <td>3.73183</td>\n",
       "      <td>2011-06-20 19:59:32</td>\n",
       "      <td>2017-07-10</td>\n",
       "      <td>15</td>\n",
       "      <td>0</td>\n",
       "      <td>1</td>\n",
       "      <td>12</td>\n",
       "      <td>10</td>\n",
       "      <td>1550</td>\n",
       "      <td>[In this course, you will learn how to build a...</td>\n",
       "      <td>[PC or MAC with a browser installed]</td>\n",
       "      <td>$99.99</td>\n",
       "      <td>2011-06-20 17:48:46</td>\n",
       "      <td>[{'rating': 1, 'count': 2}, {'rating': 2, 'cou...</td>\n",
       "      <td>[This course is intended for those who have ba...</td>\n",
       "      <td>Basic and Advanced HTML Lessons</td>\n",
       "      <td>/learn-html-in-24-hours/</td>\n",
       "      <td>1.0</td>\n",
       "      <td>-0.000249</td>\n",
       "      <td>7245.0</td>\n",
       "      <td>3124.0</td>\n",
       "      <td>94.633333</td>\n",
       "      <td>0.036456</td>\n",
       "      <td>8464.0</td>\n",
       "      <td>16.379007</td>\n",
       "      <td>5274.0</td>\n",
       "      <td>0.658001</td>\n",
       "      <td>8186.0</td>\n",
       "      <td>251.645939</td>\n",
       "      <td>3597.0</td>\n",
       "    </tr>\n",
       "    <tr>\n",
       "      <th>8319</th>\n",
       "      <td>3.60000</td>\n",
       "      <td>3.79901</td>\n",
       "      <td>2011-06-28 04:48:38</td>\n",
       "      <td>NaT</td>\n",
       "      <td>31</td>\n",
       "      <td>0</td>\n",
       "      <td>0</td>\n",
       "      <td>12</td>\n",
       "      <td>10</td>\n",
       "      <td>290</td>\n",
       "      <td>[The normal Git workflow, How to collaborate w...</td>\n",
       "      <td>[]</td>\n",
       "      <td>$19.99</td>\n",
       "      <td>2011-07-29 20:24:56</td>\n",
       "      <td>[{'rating': 1, 'count': 2}, {'rating': 2, 'cou...</td>\n",
       "      <td>[]</td>\n",
       "      <td>Git Basics: In Theory and Practice</td>\n",
       "      <td>/git-in-theory-and-in-practice/</td>\n",
       "      <td>7.5</td>\n",
       "      <td>0.086713</td>\n",
       "      <td>6814.0</td>\n",
       "      <td>5516.0</td>\n",
       "      <td>93.333333</td>\n",
       "      <td>0.038571</td>\n",
       "      <td>8457.0</td>\n",
       "      <td>3.107143</td>\n",
       "      <td>7371.0</td>\n",
       "      <td>0.688425</td>\n",
       "      <td>8116.0</td>\n",
       "      <td>47.188115</td>\n",
       "      <td>5878.0</td>\n",
       "    </tr>\n",
       "    <tr>\n",
       "      <th>8324</th>\n",
       "      <td>3.95000</td>\n",
       "      <td>3.90651</td>\n",
       "      <td>2011-06-28 08:26:18</td>\n",
       "      <td>2018-07-06</td>\n",
       "      <td>48</td>\n",
       "      <td>0</td>\n",
       "      <td>6</td>\n",
       "      <td>243</td>\n",
       "      <td>10</td>\n",
       "      <td>3799</td>\n",
       "      <td>[Extensive, informative and interesting video ...</td>\n",
       "      <td>[Some basic knowledge of HTML is required for ...</td>\n",
       "      <td>$19.99</td>\n",
       "      <td>2011-07-09 05:43:31</td>\n",
       "      <td>[{'rating': 1, 'count': 8}, {'rating': 2, 'cou...</td>\n",
       "      <td>[Web Designers looking to improve their skill ...</td>\n",
       "      <td>Javascript for Beginners</td>\n",
       "      <td>/beginning-javascript/</td>\n",
       "      <td>3.0</td>\n",
       "      <td>0.029827</td>\n",
       "      <td>5434.0</td>\n",
       "      <td>1719.0</td>\n",
       "      <td>94.000000</td>\n",
       "      <td>0.042021</td>\n",
       "      <td>8438.0</td>\n",
       "      <td>40.414894</td>\n",
       "      <td>4009.0</td>\n",
       "      <td>0.754329</td>\n",
       "      <td>7878.0</td>\n",
       "      <td>617.449219</td>\n",
       "      <td>2169.0</td>\n",
       "    </tr>\n",
       "    <tr>\n",
       "      <th>8325</th>\n",
       "      <td>4.65000</td>\n",
       "      <td>4.57516</td>\n",
       "      <td>2011-06-28 08:27:39</td>\n",
       "      <td>2018-07-06</td>\n",
       "      <td>82</td>\n",
       "      <td>0</td>\n",
       "      <td>5</td>\n",
       "      <td>284</td>\n",
       "      <td>10</td>\n",
       "      <td>12508</td>\n",
       "      <td>[The HTML Document Structure For HTML 4.01, XH...</td>\n",
       "      <td>[PC, Mac or Linux PC, Text Editor (Free!), Web...</td>\n",
       "      <td>$19.99</td>\n",
       "      <td>2011-09-09 15:28:59</td>\n",
       "      <td>[{'count': 5, 'rating': 1}, {'count': 8, 'rati...</td>\n",
       "      <td>[People who want to better manage their web si...</td>\n",
       "      <td>HTML Tutorial: HTML &amp; CSS for Beginners</td>\n",
       "      <td>/learn-html5/</td>\n",
       "      <td>4.0</td>\n",
       "      <td>0.200802</td>\n",
       "      <td>822.0</td>\n",
       "      <td>541.0</td>\n",
       "      <td>91.933333</td>\n",
       "      <td>0.050580</td>\n",
       "      <td>8348.0</td>\n",
       "      <td>136.055112</td>\n",
       "      <td>2212.0</td>\n",
       "      <td>0.891794</td>\n",
       "      <td>6651.0</td>\n",
       "      <td>2040.289823</td>\n",
       "      <td>775.0</td>\n",
       "    </tr>\n",
       "  </tbody>\n",
       "</table>\n",
       "</div>"
      ],
      "text/plain": [
       "      avg_rating  avg_rating_recent             created last_update_date  \\\n",
       "id                                                                         \n",
       "8082     4.38095            4.34115 2011-06-14 16:09:14       2015-10-15   \n",
       "8203     3.45000            3.73183 2011-06-20 19:59:32       2017-07-10   \n",
       "8319     3.60000            3.79901 2011-06-28 04:48:38              NaT   \n",
       "8324     3.95000            3.90651 2011-06-28 08:26:18       2018-07-06   \n",
       "8325     4.65000            4.57516 2011-06-28 08:27:39       2018-07-06   \n",
       "\n",
       "      num_published_lectures  num_published_practice_tests  \\\n",
       "id                                                           \n",
       "8082                      56                             0   \n",
       "8203                      15                             0   \n",
       "8319                      31                             0   \n",
       "8324                      48                             0   \n",
       "8325                      82                             0   \n",
       "\n",
       "      num_published_quizzes  num_reviews  num_reviews_recent  num_subscribers  \\\n",
       "id                                                                              \n",
       "8082                      5          620                  18            28367   \n",
       "8203                      1           12                  10             1550   \n",
       "8319                      0           12                  10              290   \n",
       "8324                      6          243                  10             3799   \n",
       "8325                      5          284                  10            12508   \n",
       "\n",
       "                                             objectives  \\\n",
       "id                                                        \n",
       "8082  [Hours of video lectures detailing the ten ste...   \n",
       "8203  [In this course, you will learn how to build a...   \n",
       "8319  [The normal Git workflow, How to collaborate w...   \n",
       "8324  [Extensive, informative and interesting video ...   \n",
       "8325  [The HTML Document Structure For HTML 4.01, XH...   \n",
       "\n",
       "                                          prerequisites   price  \\\n",
       "id                                                                \n",
       "8082                                                 []  $74.99   \n",
       "8203               [PC or MAC with a browser installed]  $99.99   \n",
       "8319                                                 []  $19.99   \n",
       "8324  [Some basic knowledge of HTML is required for ...  $19.99   \n",
       "8325  [PC, Mac or Linux PC, Text Editor (Free!), Web...  $19.99   \n",
       "\n",
       "          published_time                                rating_distribution  \\\n",
       "id                                                                            \n",
       "8082 2011-07-08 21:32:55  [{'count': 6, 'rating': 1}, {'count': 19, 'rat...   \n",
       "8203 2011-06-20 17:48:46  [{'rating': 1, 'count': 2}, {'rating': 2, 'cou...   \n",
       "8319 2011-07-29 20:24:56  [{'rating': 1, 'count': 2}, {'rating': 2, 'cou...   \n",
       "8324 2011-07-09 05:43:31  [{'rating': 1, 'count': 8}, {'rating': 2, 'cou...   \n",
       "8325 2011-09-09 15:28:59  [{'count': 5, 'rating': 1}, {'count': 8, 'rati...   \n",
       "\n",
       "                                       target_audiences  \\\n",
       "id                                                        \n",
       "8082                                                 []   \n",
       "8203  [This course is intended for those who have ba...   \n",
       "8319                                                 []   \n",
       "8324  [Web Designers looking to improve their skill ...   \n",
       "8325  [People who want to better manage their web si...   \n",
       "\n",
       "                                        title  \\\n",
       "id                                              \n",
       "8082           Ruby Programming for Beginners   \n",
       "8203          Basic and Advanced HTML Lessons   \n",
       "8319       Git Basics: In Theory and Practice   \n",
       "8324                 Javascript for Beginners   \n",
       "8325  HTML Tutorial: HTML & CSS for Beginners   \n",
       "\n",
       "                                             url  content_length  \\\n",
       "id                                                                 \n",
       "8082  /learn-ruby-programming-in-ten-easy-steps/             6.0   \n",
       "8203                    /learn-html-in-24-hours/             1.0   \n",
       "8319             /git-in-theory-and-in-practice/             7.5   \n",
       "8324                      /beginning-javascript/             3.0   \n",
       "8325                               /learn-html5/             4.0   \n",
       "\n",
       "      publication_gap  Rank1 by avg_rating  Rank2 by num_subs  age in days  \\\n",
       "id                                                                           \n",
       "8082         0.066369               2554.0              203.0    94.033333   \n",
       "8203        -0.000249               7245.0             3124.0    94.633333   \n",
       "8319         0.086713               6814.0             5516.0    93.333333   \n",
       "8324         0.029827               5434.0             1719.0    94.000000   \n",
       "8325         0.200802                822.0              541.0    91.933333   \n",
       "\n",
       "      avg_r/(age)  Rank3 by avg_r/(age)  n_subs/(age)  Rank4 by n_subs/(age)  \\\n",
       "id                                                                             \n",
       "8082     0.046589                8406.0    301.669621                 1247.0   \n",
       "8203     0.036456                8464.0     16.379007                 5274.0   \n",
       "8319     0.038571                8457.0      3.107143                 7371.0   \n",
       "8324     0.042021                8438.0     40.414894                 4009.0   \n",
       "8325     0.050580                8348.0    136.055112                 2212.0   \n",
       "\n",
       "      avg_r/ln(age)  Rank5 by avg_r/ln(age)  n_subs/ln(age)  \\\n",
       "id                                                            \n",
       "8082       0.836571                  7294.0     4610.206045   \n",
       "8203       0.658001                  8186.0      251.645939   \n",
       "8319       0.688425                  8116.0       47.188115   \n",
       "8324       0.754329                  7878.0      617.449219   \n",
       "8325       0.891794                  6651.0     2040.289823   \n",
       "\n",
       "      Rank6 by n_subs/ln(age)  \n",
       "id                             \n",
       "8082                    282.0  \n",
       "8203                   3597.0  \n",
       "8319                   5878.0  \n",
       "8324                   2169.0  \n",
       "8325                    775.0  "
      ]
     },
     "execution_count": 20,
     "metadata": {},
     "output_type": "execute_result"
    }
   ],
   "source": [
    "course_details.head()"
   ]
  },
  {
   "cell_type": "code",
   "execution_count": 21,
   "metadata": {
    "collapsed": true
   },
   "outputs": [],
   "source": [
    "agg_rank = (course_details['Rank3 by avg_r/(age)']+\n",
    "             course_details['Rank5 by avg_r/ln(age)']+\n",
    "             course_details['Rank1 by avg_rating']+\n",
    "             course_details['Rank4 by n_subs/(age)']+\n",
    "             course_details['Rank6 by n_subs/ln(age)']+\n",
    "             course_details['Rank2 by num_subs'])/6\n",
    "\n",
    "course_details['Rank aggreg']= agg_rank.rank(method='min',ascending=True)"
   ]
  },
  {
   "cell_type": "markdown",
   "metadata": {},
   "source": [
    "Correlation:"
   ]
  },
  {
   "cell_type": "code",
   "execution_count": 22,
   "metadata": {},
   "outputs": [
    {
     "data": {
      "text/html": [
       "<style  type=\"text/css\" >\n",
       "    #T_746baaf6_33db_11ea_bd2b_204747773515row0_col0 {\n",
       "            background-color:  #b40426;\n",
       "        }    #T_746baaf6_33db_11ea_bd2b_204747773515row0_col1 {\n",
       "            background-color:  #3b4cc0;\n",
       "        }    #T_746baaf6_33db_11ea_bd2b_204747773515row0_col2 {\n",
       "            background-color:  #85a8fc;\n",
       "        }    #T_746baaf6_33db_11ea_bd2b_204747773515row0_col3 {\n",
       "            background-color:  #3b4cc0;\n",
       "        }    #T_746baaf6_33db_11ea_bd2b_204747773515row0_col4 {\n",
       "            background-color:  #cf453c;\n",
       "        }    #T_746baaf6_33db_11ea_bd2b_204747773515row0_col5 {\n",
       "            background-color:  #3b4cc0;\n",
       "        }    #T_746baaf6_33db_11ea_bd2b_204747773515row0_col6 {\n",
       "            background-color:  #3b4cc0;\n",
       "        }    #T_746baaf6_33db_11ea_bd2b_204747773515row1_col0 {\n",
       "            background-color:  #94b6ff;\n",
       "        }    #T_746baaf6_33db_11ea_bd2b_204747773515row1_col1 {\n",
       "            background-color:  #b40426;\n",
       "        }    #T_746baaf6_33db_11ea_bd2b_204747773515row1_col2 {\n",
       "            background-color:  #485fd1;\n",
       "        }    #T_746baaf6_33db_11ea_bd2b_204747773515row1_col3 {\n",
       "            background-color:  #cc403a;\n",
       "        }    #T_746baaf6_33db_11ea_bd2b_204747773515row1_col4 {\n",
       "            background-color:  #90b2fe;\n",
       "        }    #T_746baaf6_33db_11ea_bd2b_204747773515row1_col5 {\n",
       "            background-color:  #c32e31;\n",
       "        }    #T_746baaf6_33db_11ea_bd2b_204747773515row1_col6 {\n",
       "            background-color:  #f7af91;\n",
       "        }    #T_746baaf6_33db_11ea_bd2b_204747773515row2_col0 {\n",
       "            background-color:  #c9d7f0;\n",
       "        }    #T_746baaf6_33db_11ea_bd2b_204747773515row2_col1 {\n",
       "            background-color:  #4257c9;\n",
       "        }    #T_746baaf6_33db_11ea_bd2b_204747773515row2_col2 {\n",
       "            background-color:  #b40426;\n",
       "        }    #T_746baaf6_33db_11ea_bd2b_204747773515row2_col3 {\n",
       "            background-color:  #90b2fe;\n",
       "        }    #T_746baaf6_33db_11ea_bd2b_204747773515row2_col4 {\n",
       "            background-color:  #f5c1a9;\n",
       "        }    #T_746baaf6_33db_11ea_bd2b_204747773515row2_col5 {\n",
       "            background-color:  #81a4fb;\n",
       "        }    #T_746baaf6_33db_11ea_bd2b_204747773515row2_col6 {\n",
       "            background-color:  #6180e9;\n",
       "        }    #T_746baaf6_33db_11ea_bd2b_204747773515row3_col0 {\n",
       "            background-color:  #3b4cc0;\n",
       "        }    #T_746baaf6_33db_11ea_bd2b_204747773515row3_col1 {\n",
       "            background-color:  #d44e41;\n",
       "        }    #T_746baaf6_33db_11ea_bd2b_204747773515row3_col2 {\n",
       "            background-color:  #3b4cc0;\n",
       "        }    #T_746baaf6_33db_11ea_bd2b_204747773515row3_col3 {\n",
       "            background-color:  #b40426;\n",
       "        }    #T_746baaf6_33db_11ea_bd2b_204747773515row3_col4 {\n",
       "            background-color:  #3b4cc0;\n",
       "        }    #T_746baaf6_33db_11ea_bd2b_204747773515row3_col5 {\n",
       "            background-color:  #b50927;\n",
       "        }    #T_746baaf6_33db_11ea_bd2b_204747773515row3_col6 {\n",
       "            background-color:  #b9d0f9;\n",
       "        }    #T_746baaf6_33db_11ea_bd2b_204747773515row4_col0 {\n",
       "            background-color:  #cc403a;\n",
       "        }    #T_746baaf6_33db_11ea_bd2b_204747773515row4_col1 {\n",
       "            background-color:  #516ddb;\n",
       "        }    #T_746baaf6_33db_11ea_bd2b_204747773515row4_col2 {\n",
       "            background-color:  #ead4c8;\n",
       "        }    #T_746baaf6_33db_11ea_bd2b_204747773515row4_col3 {\n",
       "            background-color:  #5875e1;\n",
       "        }    #T_746baaf6_33db_11ea_bd2b_204747773515row4_col4 {\n",
       "            background-color:  #b40426;\n",
       "        }    #T_746baaf6_33db_11ea_bd2b_204747773515row4_col5 {\n",
       "            background-color:  #5673e0;\n",
       "        }    #T_746baaf6_33db_11ea_bd2b_204747773515row4_col6 {\n",
       "            background-color:  #94b6ff;\n",
       "        }    #T_746baaf6_33db_11ea_bd2b_204747773515row5_col0 {\n",
       "            background-color:  #4e68d8;\n",
       "        }    #T_746baaf6_33db_11ea_bd2b_204747773515row5_col1 {\n",
       "            background-color:  #c83836;\n",
       "        }    #T_746baaf6_33db_11ea_bd2b_204747773515row5_col2 {\n",
       "            background-color:  #3e51c5;\n",
       "        }    #T_746baaf6_33db_11ea_bd2b_204747773515row5_col3 {\n",
       "            background-color:  #b50927;\n",
       "        }    #T_746baaf6_33db_11ea_bd2b_204747773515row5_col4 {\n",
       "            background-color:  #4c66d6;\n",
       "        }    #T_746baaf6_33db_11ea_bd2b_204747773515row5_col5 {\n",
       "            background-color:  #b40426;\n",
       "        }    #T_746baaf6_33db_11ea_bd2b_204747773515row5_col6 {\n",
       "            background-color:  #d5dbe5;\n",
       "        }    #T_746baaf6_33db_11ea_bd2b_204747773515row6_col0 {\n",
       "            background-color:  #f0cdbb;\n",
       "        }    #T_746baaf6_33db_11ea_bd2b_204747773515row6_col1 {\n",
       "            background-color:  #e9785d;\n",
       "        }    #T_746baaf6_33db_11ea_bd2b_204747773515row6_col2 {\n",
       "            background-color:  #e0dbd8;\n",
       "        }    #T_746baaf6_33db_11ea_bd2b_204747773515row6_col3 {\n",
       "            background-color:  #f59c7d;\n",
       "        }    #T_746baaf6_33db_11ea_bd2b_204747773515row6_col4 {\n",
       "            background-color:  #f7b79b;\n",
       "        }    #T_746baaf6_33db_11ea_bd2b_204747773515row6_col5 {\n",
       "            background-color:  #f29274;\n",
       "        }    #T_746baaf6_33db_11ea_bd2b_204747773515row6_col6 {\n",
       "            background-color:  #b40426;\n",
       "        }</style>  \n",
       "<table id=\"T_746baaf6_33db_11ea_bd2b_204747773515\" > \n",
       "<thead>    <tr> \n",
       "        <th class=\"blank level0\" ></th> \n",
       "        <th class=\"col_heading level0 col0\" >Rank3 by avg_r/(age)</th> \n",
       "        <th class=\"col_heading level0 col1\" >Rank4 by n_subs/(age)</th> \n",
       "        <th class=\"col_heading level0 col2\" >Rank1 by avg_rating</th> \n",
       "        <th class=\"col_heading level0 col3\" >Rank2 by num_subs</th> \n",
       "        <th class=\"col_heading level0 col4\" >Rank5 by avg_r/ln(age)</th> \n",
       "        <th class=\"col_heading level0 col5\" >Rank6 by n_subs/ln(age)</th> \n",
       "        <th class=\"col_heading level0 col6\" >Rank aggreg</th> \n",
       "    </tr></thead> \n",
       "<tbody>    <tr> \n",
       "        <th id=\"T_746baaf6_33db_11ea_bd2b_204747773515level0_row0\" class=\"row_heading level0 row0\" >Rank3 by avg_r/(age)</th> \n",
       "        <td id=\"T_746baaf6_33db_11ea_bd2b_204747773515row0_col0\" class=\"data row0 col0\" >1</td> \n",
       "        <td id=\"T_746baaf6_33db_11ea_bd2b_204747773515row0_col1\" class=\"data row0 col1\" >0.330092</td> \n",
       "        <td id=\"T_746baaf6_33db_11ea_bd2b_204747773515row0_col2\" class=\"data row0 col2\" >0.472715</td> \n",
       "        <td id=\"T_746baaf6_33db_11ea_bd2b_204747773515row0_col3\" class=\"data row0 col3\" >0.0791468</td> \n",
       "        <td id=\"T_746baaf6_33db_11ea_bd2b_204747773515row0_col4\" class=\"data row0 col4\" >0.937804</td> \n",
       "        <td id=\"T_746baaf6_33db_11ea_bd2b_204747773515row0_col5\" class=\"data row0 col5\" >0.137937</td> \n",
       "        <td id=\"T_746baaf6_33db_11ea_bd2b_204747773515row0_col6\" class=\"data row0 col6\" >0.619897</td> \n",
       "    </tr>    <tr> \n",
       "        <th id=\"T_746baaf6_33db_11ea_bd2b_204747773515level0_row1\" class=\"row_heading level0 row1\" >Rank4 by n_subs/(age)</th> \n",
       "        <td id=\"T_746baaf6_33db_11ea_bd2b_204747773515row1_col0\" class=\"data row1 col0\" >0.330092</td> \n",
       "        <td id=\"T_746baaf6_33db_11ea_bd2b_204747773515row1_col1\" class=\"data row1 col1\" >1</td> \n",
       "        <td id=\"T_746baaf6_33db_11ea_bd2b_204747773515row1_col2\" class=\"data row1 col2\" >0.348233</td> \n",
       "        <td id=\"T_746baaf6_33db_11ea_bd2b_204747773515row1_col3\" class=\"data row1 col3\" >0.937995</td> \n",
       "        <td id=\"T_746baaf6_33db_11ea_bd2b_204747773515row1_col4\" class=\"data row1 col4\" >0.382194</td> \n",
       "        <td id=\"T_746baaf6_33db_11ea_bd2b_204747773515row1_col5\" class=\"data row1 col5\" >0.963173</td> \n",
       "        <td id=\"T_746baaf6_33db_11ea_bd2b_204747773515row1_col6\" class=\"data row1 col6\" >0.883665</td> \n",
       "    </tr>    <tr> \n",
       "        <th id=\"T_746baaf6_33db_11ea_bd2b_204747773515level0_row2\" class=\"row_heading level0 row2\" >Rank1 by avg_rating</th> \n",
       "        <td id=\"T_746baaf6_33db_11ea_bd2b_204747773515row2_col0\" class=\"data row2 col0\" >0.472715</td> \n",
       "        <td id=\"T_746baaf6_33db_11ea_bd2b_204747773515row2_col1\" class=\"data row2 col1\" >0.348233</td> \n",
       "        <td id=\"T_746baaf6_33db_11ea_bd2b_204747773515row2_col2\" class=\"data row2 col2\" >1</td> \n",
       "        <td id=\"T_746baaf6_33db_11ea_bd2b_204747773515row2_col3\" class=\"data row2 col3\" >0.316874</td> \n",
       "        <td id=\"T_746baaf6_33db_11ea_bd2b_204747773515row2_col4\" class=\"data row2 col4\" >0.697052</td> \n",
       "        <td id=\"T_746baaf6_33db_11ea_bd2b_204747773515row2_col5\" class=\"data row2 col5\" >0.326466</td> \n",
       "        <td id=\"T_746baaf6_33db_11ea_bd2b_204747773515row2_col6\" class=\"data row2 col6\" >0.666868</td> \n",
       "    </tr>    <tr> \n",
       "        <th id=\"T_746baaf6_33db_11ea_bd2b_204747773515level0_row3\" class=\"row_heading level0 row3\" >Rank2 by num_subs</th> \n",
       "        <td id=\"T_746baaf6_33db_11ea_bd2b_204747773515row3_col0\" class=\"data row3 col0\" >0.0791468</td> \n",
       "        <td id=\"T_746baaf6_33db_11ea_bd2b_204747773515row3_col1\" class=\"data row3 col1\" >0.937995</td> \n",
       "        <td id=\"T_746baaf6_33db_11ea_bd2b_204747773515row3_col2\" class=\"data row3 col2\" >0.316874</td> \n",
       "        <td id=\"T_746baaf6_33db_11ea_bd2b_204747773515row3_col3\" class=\"data row3 col3\" >1</td> \n",
       "        <td id=\"T_746baaf6_33db_11ea_bd2b_204747773515row3_col4\" class=\"data row3 col4\" >0.166505</td> \n",
       "        <td id=\"T_746baaf6_33db_11ea_bd2b_204747773515row3_col5\" class=\"data row3 col5\" >0.996393</td> \n",
       "        <td id=\"T_746baaf6_33db_11ea_bd2b_204747773515row3_col6\" class=\"data row3 col6\" >0.76315</td> \n",
       "    </tr>    <tr> \n",
       "        <th id=\"T_746baaf6_33db_11ea_bd2b_204747773515level0_row4\" class=\"row_heading level0 row4\" >Rank5 by avg_r/ln(age)</th> \n",
       "        <td id=\"T_746baaf6_33db_11ea_bd2b_204747773515row4_col0\" class=\"data row4 col0\" >0.937804</td> \n",
       "        <td id=\"T_746baaf6_33db_11ea_bd2b_204747773515row4_col1\" class=\"data row4 col1\" >0.382194</td> \n",
       "        <td id=\"T_746baaf6_33db_11ea_bd2b_204747773515row4_col2\" class=\"data row4 col2\" >0.697052</td> \n",
       "        <td id=\"T_746baaf6_33db_11ea_bd2b_204747773515row4_col3\" class=\"data row4 col3\" >0.166505</td> \n",
       "        <td id=\"T_746baaf6_33db_11ea_bd2b_204747773515row4_col4\" class=\"data row4 col4\" >1</td> \n",
       "        <td id=\"T_746baaf6_33db_11ea_bd2b_204747773515row4_col5\" class=\"data row4 col5\" >0.218403</td> \n",
       "        <td id=\"T_746baaf6_33db_11ea_bd2b_204747773515row4_col6\" class=\"data row4 col6\" >0.723729</td> \n",
       "    </tr>    <tr> \n",
       "        <th id=\"T_746baaf6_33db_11ea_bd2b_204747773515level0_row5\" class=\"row_heading level0 row5\" >Rank6 by n_subs/ln(age)</th> \n",
       "        <td id=\"T_746baaf6_33db_11ea_bd2b_204747773515row5_col0\" class=\"data row5 col0\" >0.137937</td> \n",
       "        <td id=\"T_746baaf6_33db_11ea_bd2b_204747773515row5_col1\" class=\"data row5 col1\" >0.963173</td> \n",
       "        <td id=\"T_746baaf6_33db_11ea_bd2b_204747773515row5_col2\" class=\"data row5 col2\" >0.326466</td> \n",
       "        <td id=\"T_746baaf6_33db_11ea_bd2b_204747773515row5_col3\" class=\"data row5 col3\" >0.996393</td> \n",
       "        <td id=\"T_746baaf6_33db_11ea_bd2b_204747773515row5_col4\" class=\"data row5 col4\" >0.218403</td> \n",
       "        <td id=\"T_746baaf6_33db_11ea_bd2b_204747773515row5_col5\" class=\"data row5 col5\" >1</td> \n",
       "        <td id=\"T_746baaf6_33db_11ea_bd2b_204747773515row5_col6\" class=\"data row5 col6\" >0.799338</td> \n",
       "    </tr>    <tr> \n",
       "        <th id=\"T_746baaf6_33db_11ea_bd2b_204747773515level0_row6\" class=\"row_heading level0 row6\" >Rank aggreg</th> \n",
       "        <td id=\"T_746baaf6_33db_11ea_bd2b_204747773515row6_col0\" class=\"data row6 col0\" >0.619897</td> \n",
       "        <td id=\"T_746baaf6_33db_11ea_bd2b_204747773515row6_col1\" class=\"data row6 col1\" >0.883665</td> \n",
       "        <td id=\"T_746baaf6_33db_11ea_bd2b_204747773515row6_col2\" class=\"data row6 col2\" >0.666868</td> \n",
       "        <td id=\"T_746baaf6_33db_11ea_bd2b_204747773515row6_col3\" class=\"data row6 col3\" >0.76315</td> \n",
       "        <td id=\"T_746baaf6_33db_11ea_bd2b_204747773515row6_col4\" class=\"data row6 col4\" >0.723729</td> \n",
       "        <td id=\"T_746baaf6_33db_11ea_bd2b_204747773515row6_col5\" class=\"data row6 col5\" >0.799338</td> \n",
       "        <td id=\"T_746baaf6_33db_11ea_bd2b_204747773515row6_col6\" class=\"data row6 col6\" >1</td> \n",
       "    </tr></tbody> \n",
       "</table> "
      ],
      "text/plain": [
       "<pandas.io.formats.style.Styler at 0x15462352a90>"
      ]
     },
     "execution_count": 22,
     "metadata": {},
     "output_type": "execute_result"
    }
   ],
   "source": [
    "ranks_Df = course_details[['Rank3 by avg_r/(age)',\n",
    "                           'Rank4 by n_subs/(age)',\n",
    "                           'Rank1 by avg_rating',\n",
    "                           'Rank2 by num_subs',\n",
    "                           'Rank5 by avg_r/ln(age)',\n",
    "                           'Rank6 by n_subs/ln(age)',\n",
    "                           'Rank aggreg']]\n",
    "corr = ranks_Df.corr(method='spearman')\n",
    "corr.style.background_gradient(cmap='coolwarm')"
   ]
  },
  {
   "cell_type": "markdown",
   "metadata": {},
   "source": [
    "**==>**  Finally, we will only keep the Rank4 (**n_subs/age**), as it is the most correlated one with the aggregated rank."
   ]
  },
  {
   "cell_type": "code",
   "execution_count": 23,
   "metadata": {
    "collapsed": true
   },
   "outputs": [],
   "source": [
    "course_details.drop(['Rank1 by avg_rating',\n",
    "                     'Rank2 by num_subs',\n",
    "                     'avg_r/(age)',\n",
    "                     'Rank3 by avg_r/(age)',\n",
    "                     'avg_r/ln(age)',\n",
    "                     'Rank5 by avg_r/ln(age)',\n",
    "                     'n_subs/ln(age)',\n",
    "                     'Rank6 by n_subs/ln(age)'], axis=1, inplace=True)"
   ]
  },
  {
   "cell_type": "markdown",
   "metadata": {},
   "source": [
    "We now plot the distribution of **n_subs/age** over the dataset."
   ]
  },
  {
   "cell_type": "code",
   "execution_count": 24,
   "metadata": {},
   "outputs": [
    {
     "data": {
      "image/png": "[encoded data removed]",
      "text/plain": [
       "<Figure size 1008x864 with 2 Axes>"
      ]
     },
     "metadata": {},
     "output_type": "display_data"
    }
   ],
   "source": [
    "fig, ax= plt.subplots(2,1,figsize=(14,12))\n",
    "\n",
    "course_details['n_subs/(age)'].sort_values().plot.hist(bins=80, title='n_subs/(age)',ax=ax[0])\n",
    "ax[0].axvline(200, color='r')\n",
    "ax[0].text(0.12, 0.77, 'Threshold = 200', horizontalalignment='center', verticalalignment='center', transform=ax[0].transAxes)\n",
    "\n",
    "course_details['n_subs/(age)'].sort_values().plot.hist(bins=80, title='n_subs/(age)  in log scale',ax=ax[1])\n",
    "\n",
    "plt.yscale('log')\n",
    "plt.xscale('log')"
   ]
  },
  {
   "cell_type": "code",
   "execution_count": 25,
   "metadata": {},
   "outputs": [
    {
     "data": {
      "text/plain": [
       "0.18450658952105434"
      ]
     },
     "execution_count": 25,
     "metadata": {},
     "output_type": "execute_result"
    }
   ],
   "source": [
    "ser = course_details['n_subs/(age)'].apply(lambda x : x>200) # how to choose this threshold\n",
    "ser.mean()"
   ]
  },
  {
   "cell_type": "markdown",
   "metadata": {},
   "source": [
    "We have 18.5% of the courses that score higher than 200 at this metric ( **n_subs/(age)** ). \n",
    "We **label them as successfull** and we now have our **dependant variable**"
   ]
  },
  {
   "cell_type": "code",
   "execution_count": 26,
   "metadata": {
    "collapsed": true
   },
   "outputs": [],
   "source": [
    "course_details['success'] = ser"
   ]
  },
  {
   "cell_type": "markdown",
   "metadata": {},
   "source": [
    "### We have now \"defined\" a successful course set from our dataset."
   ]
  },
  {
   "cell_type": "markdown",
   "metadata": {},
   "source": [
    "**What are the biggest courses in term of number of elements ?** here we consider an element any content present in course_syllabi and affiliated to a course via course_id column."
   ]
  },
  {
   "cell_type": "code",
   "execution_count": 27,
   "metadata": {},
   "outputs": [
    {
     "data": {
      "text/plain": [
       "<matplotlib.lines.Line2D at 0x1546066ed68>"
      ]
     },
     "execution_count": 27,
     "metadata": {},
     "output_type": "execute_result"
    },
    {
     "data": {
      "image/png": "[encoded data removed]",
      "text/plain": [
       "<Figure size 1296x504 with 3 Axes>"
      ]
     },
     "metadata": {},
     "output_type": "display_data"
    }
   ],
   "source": [
    "fig, ax = plt.subplots(1,3, sharey=True)\n",
    "\n",
    "course_syllabi['course_id'].value_counts().head(20).plot(ax=ax[0], kind='bar', figsize=(18,7))\n",
    "\n",
    "ax[0].axhline(course_syllabi['course_id'].value_counts().mean())\n",
    "ax[0].axhline(course_syllabi['course_id'].value_counts().median())\n",
    "ax[0].set_title('Top 1-20 most elements')\n",
    "\n",
    "course_syllabi['course_id'].value_counts().head(40).tail(20).tail(20).plot(ax=ax[1], kind='bar', figsize=(18,7))\n",
    "\n",
    "ax[1].axhline(course_syllabi['course_id'].value_counts().mean())\n",
    "ax[1].axhline(course_syllabi['course_id'].value_counts().median())\n",
    "ax[1].set_title('Top 21-40 most elements')\n",
    "\n",
    "course_syllabi['course_id'].value_counts().plot.box(ax=ax[2])\n",
    "ax[2].set_title('Boxplot')\n",
    "ax[2].axhline(course_syllabi['course_id'].value_counts().median())"
   ]
  },
  {
   "cell_type": "markdown",
   "metadata": {},
   "source": [
    "We can see there is a large gap between the top representives and the rest."
   ]
  },
  {
   "cell_type": "code",
   "execution_count": 28,
   "metadata": {
    "collapsed": true
   },
   "outputs": [],
   "source": [
    "course_details['nbr of course element'] = course_syllabi['course_id'].value_counts()"
   ]
  },
  {
   "cell_type": "markdown",
   "metadata": {},
   "source": [
    "### **How are courses updated?** Each course has a dataframe of various updates, we are gonna investigate it here "
   ]
  },
  {
   "cell_type": "code",
   "execution_count": 29,
   "metadata": {},
   "outputs": [
    {
     "data": {
      "text/html": [
       "<div>\n",
       "<style scoped>\n",
       "    .dataframe tbody tr th:only-of-type {\n",
       "        vertical-align: middle;\n",
       "    }\n",
       "\n",
       "    .dataframe tbody tr th {\n",
       "        vertical-align: top;\n",
       "    }\n",
       "\n",
       "    .dataframe thead th {\n",
       "        text-align: right;\n",
       "    }\n",
       "</style>\n",
       "<table border=\"1\" class=\"dataframe\">\n",
       "  <thead>\n",
       "    <tr style=\"text-align: right;\">\n",
       "      <th></th>\n",
       "      <th>course_id</th>\n",
       "      <th>chapter_title</th>\n",
       "      <th>chapter_description</th>\n",
       "      <th>chapter_created</th>\n",
       "      <th>content_class</th>\n",
       "      <th>title</th>\n",
       "      <th>description</th>\n",
       "      <th>created_content</th>\n",
       "      <th>is_published</th>\n",
       "      <th>content_summary</th>\n",
       "      <th>url</th>\n",
       "      <th>age_from_creation</th>\n",
       "      <th>age_from_publication</th>\n",
       "    </tr>\n",
       "  </thead>\n",
       "  <tbody>\n",
       "    <tr>\n",
       "      <th>0</th>\n",
       "      <td>8082</td>\n",
       "      <td>NaN</td>\n",
       "      <td>NaN</td>\n",
       "      <td>NaT</td>\n",
       "      <td>course</td>\n",
       "      <td>Ruby Programming for Beginners</td>\n",
       "      <td>NaN</td>\n",
       "      <td>2011-06-14 16:09:14</td>\n",
       "      <td>NaN</td>\n",
       "      <td>NaN</td>\n",
       "      <td>/learn-ruby-programming-in-ten-easy-steps/</td>\n",
       "      <td>0.000000</td>\n",
       "      <td>-0.066369</td>\n",
       "    </tr>\n",
       "    <tr>\n",
       "      <th>1</th>\n",
       "      <td>8082</td>\n",
       "      <td>NaN</td>\n",
       "      <td>NaN</td>\n",
       "      <td>NaT</td>\n",
       "      <td>chapter</td>\n",
       "      <td>Introduction</td>\n",
       "      <td>NaN</td>\n",
       "      <td>2011-06-17 21:36:49</td>\n",
       "      <td>True</td>\n",
       "      <td>NaN</td>\n",
       "      <td>NaN</td>\n",
       "      <td>0.008842</td>\n",
       "      <td>-0.057527</td>\n",
       "    </tr>\n",
       "    <tr>\n",
       "      <th>2</th>\n",
       "      <td>8082</td>\n",
       "      <td>Introduction</td>\n",
       "      <td>NaN</td>\n",
       "      <td>2011-06-17 21:36:49</td>\n",
       "      <td>lecture</td>\n",
       "      <td>Ruby Programming for Beginners - Intro</td>\n",
       "      <td>NaN</td>\n",
       "      <td>2012-02-17 17:57:19</td>\n",
       "      <td>True</td>\n",
       "      <td>01:55</td>\n",
       "      <td>/learn-ruby-programming-in-ten-easy-steps/lear...</td>\n",
       "      <td>0.679658</td>\n",
       "      <td>0.613288</td>\n",
       "    </tr>\n",
       "  </tbody>\n",
       "</table>\n",
       "</div>"
      ],
      "text/plain": [
       "   course_id chapter_title chapter_description     chapter_created  \\\n",
       "0       8082           NaN                 NaN                 NaT   \n",
       "1       8082           NaN                 NaN                 NaT   \n",
       "2       8082  Introduction                 NaN 2011-06-17 21:36:49   \n",
       "\n",
       "  content_class                                   title description  \\\n",
       "0        course          Ruby Programming for Beginners         NaN   \n",
       "1       chapter                            Introduction         NaN   \n",
       "2       lecture  Ruby Programming for Beginners - Intro         NaN   \n",
       "\n",
       "      created_content is_published content_summary  \\\n",
       "0 2011-06-14 16:09:14          NaN             NaN   \n",
       "1 2011-06-17 21:36:49         True             NaN   \n",
       "2 2012-02-17 17:57:19         True           01:55   \n",
       "\n",
       "                                                 url  age_from_creation  \\\n",
       "0         /learn-ruby-programming-in-ten-easy-steps/           0.000000   \n",
       "1                                                NaN           0.008842   \n",
       "2  /learn-ruby-programming-in-ten-easy-steps/lear...           0.679658   \n",
       "\n",
       "   age_from_publication  \n",
       "0             -0.066369  \n",
       "1             -0.057527  \n",
       "2              0.613288  "
      ]
     },
     "execution_count": 29,
     "metadata": {},
     "output_type": "execute_result"
    }
   ],
   "source": [
    "course_syllabi.head(3)"
   ]
  },
  {
   "cell_type": "code",
   "execution_count": 30,
   "metadata": {
    "collapsed": true
   },
   "outputs": [],
   "source": [
    "time_serie = course_syllabi[['course_id','created_content']].groupby('course_id')['created_content'].apply(list)"
   ]
  },
  {
   "cell_type": "code",
   "execution_count": 31,
   "metadata": {
    "collapsed": true,
    "scrolled": true
   },
   "outputs": [],
   "source": [
    "a = time_serie.index.tolist()\n",
    "b = course_details.index.tolist()\n",
    "\n",
    "# some courses in syllabi are not in details : might be free courses\n",
    "not_in_details = (set(a)-set(b))"
   ]
  },
  {
   "cell_type": "code",
   "execution_count": 32,
   "metadata": {
    "collapsed": true
   },
   "outputs": [],
   "source": [
    "free = set(course_details_free.index.tolist())"
   ]
  },
  {
   "cell_type": "code",
   "execution_count": 33,
   "metadata": {},
   "outputs": [
    {
     "data": {
      "text/plain": [
       "set()"
      ]
     },
     "execution_count": 33,
     "metadata": {},
     "output_type": "execute_result"
    }
   ],
   "source": [
    "# all free courses are in the missing set\n",
    "free-not_in_details"
   ]
  },
  {
   "cell_type": "code",
   "execution_count": 34,
   "metadata": {},
   "outputs": [
    {
     "data": {
      "text/plain": [
       "{1965490}"
      ]
     },
     "execution_count": 34,
     "metadata": {},
     "output_type": "execute_result"
    }
   ],
   "source": [
    "# this last course was removed during preprocessing as an outlier\n",
    "not_in_details -free  "
   ]
  },
  {
   "cell_type": "markdown",
   "metadata": {},
   "source": [
    "**Average update delay**"
   ]
  },
  {
   "cell_type": "code",
   "execution_count": 35,
   "metadata": {
    "collapsed": true
   },
   "outputs": [],
   "source": [
    "# function to be used in calculating time interval between consecutive updates in next cell\n",
    "\n",
    "def diff(lst):\n",
    "    # should handle empty and one elem lists\n",
    "\n",
    "    res =[] \n",
    "    for i in range(len(lst)-1):\n",
    "        res.append(lst[i+1]-lst[i])\n",
    "    \n",
    "    if res == []: res = [timedelta(0)]\n",
    "    return res"
   ]
  },
  {
   "cell_type": "code",
   "execution_count": 36,
   "metadata": {
    "collapsed": true
   },
   "outputs": [],
   "source": [
    "# creating the new columns and sorting its content\n",
    "course_details['update_date_list'] = time_serie.apply(lambda x : sorted(x) )\n",
    "\n",
    "# removing dates that are prior to publication date of the course, \n",
    "# ie these updates were not visible and were already made the first time the course was published\n",
    "course_details['update_date_list'] = course_details.apply(lambda row : [elem for elem in row['update_date_list'] if elem < row['published_time']], axis =1)"
   ]
  },
  {
   "cell_type": "code",
   "execution_count": 37,
   "metadata": {
    "collapsed": true
   },
   "outputs": [],
   "source": [
    "# getting differences between consecutive uploads\n",
    "course_details['update_delta_list'] = course_details['update_date_list'].apply(diff)\n",
    "\n",
    "# turning timedelta to seconds\n",
    "course_details['update_delta_list'] = course_details['update_delta_list'].apply(lambda x : [elem.total_seconds() for elem in x])\n",
    "\n",
    "# retrieving nans\n",
    "course_details['update_delta_list'] = course_details['update_delta_list'].apply(lambda x : [elem for elem in x if np.isnan(elem)==False])"
   ]
  },
  {
   "cell_type": "markdown",
   "metadata": {},
   "source": [
    "The following threshold means that two updates that happen within 3 hours are counted as the same."
   ]
  },
  {
   "cell_type": "code",
   "execution_count": 38,
   "metadata": {
    "collapsed": true
   },
   "outputs": [],
   "source": [
    "threshold = 60*60*3 # 3hours"
   ]
  },
  {
   "cell_type": "code",
   "execution_count": 39,
   "metadata": {
    "collapsed": true
   },
   "outputs": [],
   "source": [
    "# remving time_deltas that are less than our threshold\n",
    "course_details['update_delta_list'] = course_details['update_delta_list'].apply(lambda x : [elem for elem in x if (elem>threshold)])"
   ]
  },
  {
   "cell_type": "code",
   "execution_count": 40,
   "metadata": {
    "collapsed": true
   },
   "outputs": [],
   "source": [
    "# mean time of update\n",
    "course_details['Avg update delay'] = course_details['update_delta_list'].apply(lambda x : np.mean(x) if len(x) >0 else 0 )\n",
    "course_details['Avg update delay (days)'] = course_details['Avg update delay'].apply(lambda x : x/(60*60*24))"
   ]
  },
  {
   "cell_type": "markdown",
   "metadata": {},
   "source": [
    "**Type of updated content**"
   ]
  },
  {
   "cell_type": "markdown",
   "metadata": {},
   "source": [
    "The column ***content_summary*** contain informations under various formats, which are :\n",
    "- NumberOfPages\n",
    "- DurationoÔfLecture\n",
    "- FileSize"
   ]
  },
  {
   "cell_type": "code",
   "execution_count": 41,
   "metadata": {
    "collapsed": true
   },
   "outputs": [],
   "source": [
    "course_syllabi['content_summary'] = course_syllabi['content_summary'].fillna('')\n",
    "\n",
    "course_syllabi['content is in pages'] = course_syllabi['content_summary'].apply(lambda x : 'page' in x)\n",
    "course_syllabi['content is in time'] = course_syllabi['content_summary'].apply(lambda x : ':' in x)\n",
    "course_syllabi['content is in bytes'] = course_syllabi['content_summary'].apply(lambda x : 'B' in x)\n",
    "course_syllabi['content is na'] = course_syllabi['content_summary'].apply(lambda x : x=='')"
   ]
  },
  {
   "cell_type": "code",
   "execution_count": 42,
   "metadata": {
    "collapsed": true
   },
   "outputs": [],
   "source": [
    "# verifying we did not omit any information format\n",
    "\n",
    "course_syllabi['at least one'] = course_syllabi['content is in pages'] |course_syllabi['content is in time']|course_syllabi['content is in bytes']|course_syllabi['content is na']\n",
    "course_syllabi['exactly one'] = course_syllabi['content is in pages'] ^ course_syllabi['content is in time']^course_syllabi['content is in bytes']^course_syllabi['content is na']"
   ]
  },
  {
   "cell_type": "code",
   "execution_count": 43,
   "metadata": {
    "scrolled": true
   },
   "outputs": [
    {
     "data": {
      "text/plain": [
       "Processing..    194\n",
       "IFrame            3\n",
       "Name: content_summary, dtype: int64"
      ]
     },
     "execution_count": 43,
     "metadata": {},
     "output_type": "execute_result"
    }
   ],
   "source": [
    "course_syllabi[course_syllabi['at least one']==False]['content_summary'].value_counts()"
   ]
  },
  {
   "cell_type": "code",
   "execution_count": 44,
   "metadata": {},
   "outputs": [
    {
     "data": {
      "text/plain": [
       "Processing..    194\n",
       "IFrame            3\n",
       "Name: content_summary, dtype: int64"
      ]
     },
     "execution_count": 44,
     "metadata": {},
     "output_type": "execute_result"
    }
   ],
   "source": [
    "course_syllabi[course_syllabi['exactly one']==False]['content_summary'].value_counts()"
   ]
  },
  {
   "cell_type": "markdown",
   "metadata": {},
   "source": [
    "** What are processing and IFrame** ?\n",
    "All our data points are from exactly one of the three types of content, but 2 more content_type are unknown : 'Processing' and 'IFrame', these content will not be counted as some size of updates.  **==> We turn these  values to nan.\n",
    "**"
   ]
  },
  {
   "cell_type": "code",
   "execution_count": 45,
   "metadata": {
    "collapsed": true
   },
   "outputs": [],
   "source": [
    "# We treat them as nans\n",
    "course_syllabi['content_summary'].fillna('Processing..', inplace=True)\n",
    "course_syllabi['content_summary'].fillna('IFrame', inplace=True)"
   ]
  },
  {
   "cell_type": "markdown",
   "metadata": {},
   "source": [
    "**Size of updates**"
   ]
  },
  {
   "cell_type": "markdown",
   "metadata": {},
   "source": [
    "We have 3 types of content : Number of pages, time, and filesize (in Bytes)."
   ]
  },
  {
   "cell_type": "code",
   "execution_count": 46,
   "metadata": {
    "collapsed": true
   },
   "outputs": [],
   "source": [
    "# do operation for each in syllabi, then sum in details\n",
    "course_syllabi['size_in_pages']= course_syllabi[course_syllabi['content is in pages']]['content_summary'].\\\n",
    "                                    apply(lambda st : sum([int(s) for s in st.split() if s.isdigit() ]))\n",
    "\n",
    "\n",
    "course_details['size_in_pages'] = course_syllabi[course_syllabi['content is in pages']][['course_id','size_in_pages']].\\\n",
    "                                    groupby('course_id')['size_in_pages'].\\\n",
    "                                    apply(sum)"
   ]
  },
  {
   "cell_type": "code",
   "execution_count": 47,
   "metadata": {
    "collapsed": true
   },
   "outputs": [],
   "source": [
    "course_syllabi['size_in_seconds'] = course_syllabi[course_syllabi['content is in time']]['content_summary'].\\\n",
    "                                    apply(lambda elem :  [int(i) for i in elem.split(':')]).\\\n",
    "                                    apply(lambda x : x[0]*60+x[1])\n",
    "\n",
    "course_details['size_in_seconds'] = course_syllabi[course_syllabi['content is in time']][['course_id','size_in_seconds']].\\\n",
    "                                    groupby('course_id')['size_in_seconds'].\\\n",
    "                                    apply(sum)"
   ]
  },
  {
   "cell_type": "code",
   "execution_count": 48,
   "metadata": {
    "collapsed": true
   },
   "outputs": [],
   "source": [
    "course_syllabi['size_in_bytes'] = course_syllabi[course_syllabi['content is in bytes']]['content_summary'].\\\n",
    "                                    apply(lambda elem :  elem.split(' ')).\\\n",
    "                                    apply(lambda couple : float(couple[0]) if couple[1] =='Bytes' else \\\n",
    "                                                      (float(couple[0])*10**3 if couple[1]=='kB' else\\\n",
    "                                                       (float(couple[0])*10**6 if couple[1]=='MB' else\\\n",
    "                                                        couple)))\n",
    "\n",
    "course_details['size_in_bytes'] = course_syllabi[course_syllabi['content is in bytes']][['course_id','size_in_bytes']].\\\n",
    "                                    groupby('course_id')['size_in_bytes'].\\\n",
    "                                    apply(sum)"
   ]
  },
  {
   "cell_type": "markdown",
   "metadata": {},
   "source": [
    "**NA count**"
   ]
  },
  {
   "cell_type": "code",
   "execution_count": 49,
   "metadata": {},
   "outputs": [
    {
     "data": {
      "text/plain": [
       "size_in_pages      8762\n",
       "size_in_bytes      9292\n",
       "size_in_seconds       0\n",
       "dtype: int64"
      ]
     },
     "execution_count": 49,
     "metadata": {},
     "output_type": "execute_result"
    }
   ],
   "source": [
    "course_details[['size_in_pages','size_in_bytes', 'size_in_seconds']].isna().sum()"
   ]
  },
  {
   "cell_type": "code",
   "execution_count": 50,
   "metadata": {},
   "outputs": [
    {
     "data": {
      "text/plain": [
       "<matplotlib.axes._subplots.AxesSubplot at 0x1546061c668>"
      ]
     },
     "execution_count": 50,
     "metadata": {},
     "output_type": "execute_result"
    },
    {
     "data": {
      "image/png": "[encoded data removed]",
      "text/plain": [
       "<Figure size 504x504 with 1 Axes>"
      ]
     },
     "metadata": {},
     "output_type": "display_data"
    }
   ],
   "source": [
    "df = pd.concat([course_details[['size_in_pages','size_in_bytes', 'size_in_seconds']].isna().sum(), course_details.shape[0]-course_details[['size_in_pages','size_in_bytes', 'size_in_seconds']].isna().sum()], axis=1)\n",
    "df.rename(columns={0:'NA', 1:'Actual Values'},inplace=True)\n",
    "df.plot.barh(stacked=True, figsize=(7,7))"
   ]
  },
  {
   "cell_type": "markdown",
   "metadata": {},
   "source": [
    "As size in bytes and in pages is absent for a significant portion of courses in the dataset, we will only consider size in seconds."
   ]
  },
  {
   "cell_type": "code",
   "execution_count": 51,
   "metadata": {
    "collapsed": true
   },
   "outputs": [],
   "source": [
    "course_syllabi.drop(['size_in_pages', 'size_in_bytes'], axis=1, inplace=True)\n",
    "course_details.drop(['size_in_pages', 'size_in_bytes'], axis=1, inplace=True)"
   ]
  },
  {
   "cell_type": "markdown",
   "metadata": {},
   "source": [
    "** Average size of updates**"
   ]
  },
  {
   "cell_type": "code",
   "execution_count": 52,
   "metadata": {
    "collapsed": true
   },
   "outputs": [],
   "source": [
    "course_details['Average Size of Update'] = course_details['size_in_seconds']/course_details['nbr of course element']"
   ]
  },
  {
   "cell_type": "code",
   "execution_count": 53,
   "metadata": {},
   "outputs": [
    {
     "data": {
      "text/html": [
       "<div>\n",
       "<style scoped>\n",
       "    .dataframe tbody tr th:only-of-type {\n",
       "        vertical-align: middle;\n",
       "    }\n",
       "\n",
       "    .dataframe tbody tr th {\n",
       "        vertical-align: top;\n",
       "    }\n",
       "\n",
       "    .dataframe thead th {\n",
       "        text-align: right;\n",
       "    }\n",
       "</style>\n",
       "<table border=\"1\" class=\"dataframe\">\n",
       "  <thead>\n",
       "    <tr style=\"text-align: right;\">\n",
       "      <th></th>\n",
       "      <th>avg_rating</th>\n",
       "      <th>avg_rating_recent</th>\n",
       "      <th>created</th>\n",
       "      <th>last_update_date</th>\n",
       "      <th>num_published_lectures</th>\n",
       "      <th>num_published_practice_tests</th>\n",
       "      <th>num_published_quizzes</th>\n",
       "      <th>num_reviews</th>\n",
       "      <th>num_reviews_recent</th>\n",
       "      <th>num_subscribers</th>\n",
       "      <th>objectives</th>\n",
       "      <th>prerequisites</th>\n",
       "      <th>price</th>\n",
       "      <th>published_time</th>\n",
       "      <th>rating_distribution</th>\n",
       "      <th>target_audiences</th>\n",
       "      <th>title</th>\n",
       "      <th>url</th>\n",
       "      <th>content_length</th>\n",
       "      <th>publication_gap</th>\n",
       "      <th>age in days</th>\n",
       "      <th>n_subs/(age)</th>\n",
       "      <th>Rank4 by n_subs/(age)</th>\n",
       "      <th>Rank aggreg</th>\n",
       "      <th>success</th>\n",
       "      <th>nbr of course element</th>\n",
       "      <th>update_date_list</th>\n",
       "      <th>update_delta_list</th>\n",
       "      <th>Avg update delay</th>\n",
       "      <th>Avg update delay (days)</th>\n",
       "      <th>size_in_seconds</th>\n",
       "      <th>Average Size of Update</th>\n",
       "    </tr>\n",
       "    <tr>\n",
       "      <th>id</th>\n",
       "      <th></th>\n",
       "      <th></th>\n",
       "      <th></th>\n",
       "      <th></th>\n",
       "      <th></th>\n",
       "      <th></th>\n",
       "      <th></th>\n",
       "      <th></th>\n",
       "      <th></th>\n",
       "      <th></th>\n",
       "      <th></th>\n",
       "      <th></th>\n",
       "      <th></th>\n",
       "      <th></th>\n",
       "      <th></th>\n",
       "      <th></th>\n",
       "      <th></th>\n",
       "      <th></th>\n",
       "      <th></th>\n",
       "      <th></th>\n",
       "      <th></th>\n",
       "      <th></th>\n",
       "      <th></th>\n",
       "      <th></th>\n",
       "      <th></th>\n",
       "      <th></th>\n",
       "      <th></th>\n",
       "      <th></th>\n",
       "      <th></th>\n",
       "      <th></th>\n",
       "      <th></th>\n",
       "      <th></th>\n",
       "    </tr>\n",
       "  </thead>\n",
       "  <tbody>\n",
       "    <tr>\n",
       "      <th>8082</th>\n",
       "      <td>4.38095</td>\n",
       "      <td>4.34115</td>\n",
       "      <td>2011-06-14 16:09:14</td>\n",
       "      <td>2015-10-15</td>\n",
       "      <td>56</td>\n",
       "      <td>0</td>\n",
       "      <td>5</td>\n",
       "      <td>620</td>\n",
       "      <td>18</td>\n",
       "      <td>28367</td>\n",
       "      <td>[Hours of video lectures detailing the ten ste...</td>\n",
       "      <td>[]</td>\n",
       "      <td>$74.99</td>\n",
       "      <td>2011-07-08 21:32:55</td>\n",
       "      <td>[{'count': 6, 'rating': 1}, {'count': 19, 'rat...</td>\n",
       "      <td>[]</td>\n",
       "      <td>Ruby Programming for Beginners</td>\n",
       "      <td>/learn-ruby-programming-in-ten-easy-steps/</td>\n",
       "      <td>6.0</td>\n",
       "      <td>0.066369</td>\n",
       "      <td>94.033333</td>\n",
       "      <td>301.669621</td>\n",
       "      <td>1247.0</td>\n",
       "      <td>2657.0</td>\n",
       "      <td>True</td>\n",
       "      <td>75</td>\n",
       "      <td>[2011-06-14 16:09:14, 2011-06-15 18:01:06, 201...</td>\n",
       "      <td>[93112.0, 98832.0, 12570.0, 62973.0, 252178.0,...</td>\n",
       "      <td>1.297656e+05</td>\n",
       "      <td>1.501916</td>\n",
       "      <td>13465.0</td>\n",
       "      <td>179.533333</td>\n",
       "    </tr>\n",
       "    <tr>\n",
       "      <th>8203</th>\n",
       "      <td>3.45000</td>\n",
       "      <td>3.73183</td>\n",
       "      <td>2011-06-20 19:59:32</td>\n",
       "      <td>2017-07-10</td>\n",
       "      <td>15</td>\n",
       "      <td>0</td>\n",
       "      <td>1</td>\n",
       "      <td>12</td>\n",
       "      <td>10</td>\n",
       "      <td>1550</td>\n",
       "      <td>[In this course, you will learn how to build a...</td>\n",
       "      <td>[PC or MAC with a browser installed]</td>\n",
       "      <td>$99.99</td>\n",
       "      <td>2011-06-20 17:48:46</td>\n",
       "      <td>[{'rating': 1, 'count': 2}, {'rating': 2, 'cou...</td>\n",
       "      <td>[This course is intended for those who have ba...</td>\n",
       "      <td>Basic and Advanced HTML Lessons</td>\n",
       "      <td>/learn-html-in-24-hours/</td>\n",
       "      <td>1.0</td>\n",
       "      <td>-0.000249</td>\n",
       "      <td>94.633333</td>\n",
       "      <td>16.379007</td>\n",
       "      <td>5274.0</td>\n",
       "      <td>7068.0</td>\n",
       "      <td>False</td>\n",
       "      <td>20</td>\n",
       "      <td>[]</td>\n",
       "      <td>[]</td>\n",
       "      <td>0.000000e+00</td>\n",
       "      <td>0.000000</td>\n",
       "      <td>2438.0</td>\n",
       "      <td>121.900000</td>\n",
       "    </tr>\n",
       "    <tr>\n",
       "      <th>8319</th>\n",
       "      <td>3.60000</td>\n",
       "      <td>3.79901</td>\n",
       "      <td>2011-06-28 04:48:38</td>\n",
       "      <td>NaT</td>\n",
       "      <td>31</td>\n",
       "      <td>0</td>\n",
       "      <td>0</td>\n",
       "      <td>12</td>\n",
       "      <td>10</td>\n",
       "      <td>290</td>\n",
       "      <td>[The normal Git workflow, How to collaborate w...</td>\n",
       "      <td>[]</td>\n",
       "      <td>$19.99</td>\n",
       "      <td>2011-07-29 20:24:56</td>\n",
       "      <td>[{'rating': 1, 'count': 2}, {'rating': 2, 'cou...</td>\n",
       "      <td>[]</td>\n",
       "      <td>Git Basics: In Theory and Practice</td>\n",
       "      <td>/git-in-theory-and-in-practice/</td>\n",
       "      <td>7.5</td>\n",
       "      <td>0.086713</td>\n",
       "      <td>93.333333</td>\n",
       "      <td>3.107143</td>\n",
       "      <td>7371.0</td>\n",
       "      <td>8060.0</td>\n",
       "      <td>False</td>\n",
       "      <td>36</td>\n",
       "      <td>[2011-06-28 04:48:38, 2011-06-28 04:51:27, 201...</td>\n",
       "      <td>[21378.0, 31035.0, 91462.0, 1635165.0, 99133.0...</td>\n",
       "      <td>2.741634e+05</td>\n",
       "      <td>3.173188</td>\n",
       "      <td>10423.0</td>\n",
       "      <td>289.527778</td>\n",
       "    </tr>\n",
       "    <tr>\n",
       "      <th>8324</th>\n",
       "      <td>3.95000</td>\n",
       "      <td>3.90651</td>\n",
       "      <td>2011-06-28 08:26:18</td>\n",
       "      <td>2018-07-06</td>\n",
       "      <td>48</td>\n",
       "      <td>0</td>\n",
       "      <td>6</td>\n",
       "      <td>243</td>\n",
       "      <td>10</td>\n",
       "      <td>3799</td>\n",
       "      <td>[Extensive, informative and interesting video ...</td>\n",
       "      <td>[Some basic knowledge of HTML is required for ...</td>\n",
       "      <td>$19.99</td>\n",
       "      <td>2011-07-09 05:43:31</td>\n",
       "      <td>[{'rating': 1, 'count': 8}, {'rating': 2, 'cou...</td>\n",
       "      <td>[Web Designers looking to improve their skill ...</td>\n",
       "      <td>Javascript for Beginners</td>\n",
       "      <td>/beginning-javascript/</td>\n",
       "      <td>3.0</td>\n",
       "      <td>0.029827</td>\n",
       "      <td>94.000000</td>\n",
       "      <td>40.414894</td>\n",
       "      <td>4009.0</td>\n",
       "      <td>5551.0</td>\n",
       "      <td>False</td>\n",
       "      <td>67</td>\n",
       "      <td>[2011-06-28 08:26:18, 2011-07-02 06:06:23, 201...</td>\n",
       "      <td>[337205.0, 133874.0, 11666.0, 46113.0, 42550.0...</td>\n",
       "      <td>1.132569e+05</td>\n",
       "      <td>1.310843</td>\n",
       "      <td>9399.0</td>\n",
       "      <td>140.283582</td>\n",
       "    </tr>\n",
       "    <tr>\n",
       "      <th>8325</th>\n",
       "      <td>4.65000</td>\n",
       "      <td>4.57516</td>\n",
       "      <td>2011-06-28 08:27:39</td>\n",
       "      <td>2018-07-06</td>\n",
       "      <td>82</td>\n",
       "      <td>0</td>\n",
       "      <td>5</td>\n",
       "      <td>284</td>\n",
       "      <td>10</td>\n",
       "      <td>12508</td>\n",
       "      <td>[The HTML Document Structure For HTML 4.01, XH...</td>\n",
       "      <td>[PC, Mac or Linux PC, Text Editor (Free!), Web...</td>\n",
       "      <td>$19.99</td>\n",
       "      <td>2011-09-09 15:28:59</td>\n",
       "      <td>[{'count': 5, 'rating': 1}, {'count': 8, 'rati...</td>\n",
       "      <td>[People who want to better manage their web si...</td>\n",
       "      <td>HTML Tutorial: HTML &amp; CSS for Beginners</td>\n",
       "      <td>/learn-html5/</td>\n",
       "      <td>4.0</td>\n",
       "      <td>0.200802</td>\n",
       "      <td>91.933333</td>\n",
       "      <td>136.055112</td>\n",
       "      <td>2212.0</td>\n",
       "      <td>2483.0</td>\n",
       "      <td>False</td>\n",
       "      <td>99</td>\n",
       "      <td>[2011-06-28 08:27:39, 2011-08-05 23:37:27, 201...</td>\n",
       "      <td>[3337788.0, 171769.0, 639755.0, 1867545.0, 129...</td>\n",
       "      <td>1.229227e+06</td>\n",
       "      <td>14.227160</td>\n",
       "      <td>14225.0</td>\n",
       "      <td>143.686869</td>\n",
       "    </tr>\n",
       "  </tbody>\n",
       "</table>\n",
       "</div>"
      ],
      "text/plain": [
       "      avg_rating  avg_rating_recent             created last_update_date  \\\n",
       "id                                                                         \n",
       "8082     4.38095            4.34115 2011-06-14 16:09:14       2015-10-15   \n",
       "8203     3.45000            3.73183 2011-06-20 19:59:32       2017-07-10   \n",
       "8319     3.60000            3.79901 2011-06-28 04:48:38              NaT   \n",
       "8324     3.95000            3.90651 2011-06-28 08:26:18       2018-07-06   \n",
       "8325     4.65000            4.57516 2011-06-28 08:27:39       2018-07-06   \n",
       "\n",
       "      num_published_lectures  num_published_practice_tests  \\\n",
       "id                                                           \n",
       "8082                      56                             0   \n",
       "8203                      15                             0   \n",
       "8319                      31                             0   \n",
       "8324                      48                             0   \n",
       "8325                      82                             0   \n",
       "\n",
       "      num_published_quizzes  num_reviews  num_reviews_recent  num_subscribers  \\\n",
       "id                                                                              \n",
       "8082                      5          620                  18            28367   \n",
       "8203                      1           12                  10             1550   \n",
       "8319                      0           12                  10              290   \n",
       "8324                      6          243                  10             3799   \n",
       "8325                      5          284                  10            12508   \n",
       "\n",
       "                                             objectives  \\\n",
       "id                                                        \n",
       "8082  [Hours of video lectures detailing the ten ste...   \n",
       "8203  [In this course, you will learn how to build a...   \n",
       "8319  [The normal Git workflow, How to collaborate w...   \n",
       "8324  [Extensive, informative and interesting video ...   \n",
       "8325  [The HTML Document Structure For HTML 4.01, XH...   \n",
       "\n",
       "                                          prerequisites   price  \\\n",
       "id                                                                \n",
       "8082                                                 []  $74.99   \n",
       "8203               [PC or MAC with a browser installed]  $99.99   \n",
       "8319                                                 []  $19.99   \n",
       "8324  [Some basic knowledge of HTML is required for ...  $19.99   \n",
       "8325  [PC, Mac or Linux PC, Text Editor (Free!), Web...  $19.99   \n",
       "\n",
       "          published_time                                rating_distribution  \\\n",
       "id                                                                            \n",
       "8082 2011-07-08 21:32:55  [{'count': 6, 'rating': 1}, {'count': 19, 'rat...   \n",
       "8203 2011-06-20 17:48:46  [{'rating': 1, 'count': 2}, {'rating': 2, 'cou...   \n",
       "8319 2011-07-29 20:24:56  [{'rating': 1, 'count': 2}, {'rating': 2, 'cou...   \n",
       "8324 2011-07-09 05:43:31  [{'rating': 1, 'count': 8}, {'rating': 2, 'cou...   \n",
       "8325 2011-09-09 15:28:59  [{'count': 5, 'rating': 1}, {'count': 8, 'rati...   \n",
       "\n",
       "                                       target_audiences  \\\n",
       "id                                                        \n",
       "8082                                                 []   \n",
       "8203  [This course is intended for those who have ba...   \n",
       "8319                                                 []   \n",
       "8324  [Web Designers looking to improve their skill ...   \n",
       "8325  [People who want to better manage their web si...   \n",
       "\n",
       "                                        title  \\\n",
       "id                                              \n",
       "8082           Ruby Programming for Beginners   \n",
       "8203          Basic and Advanced HTML Lessons   \n",
       "8319       Git Basics: In Theory and Practice   \n",
       "8324                 Javascript for Beginners   \n",
       "8325  HTML Tutorial: HTML & CSS for Beginners   \n",
       "\n",
       "                                             url  content_length  \\\n",
       "id                                                                 \n",
       "8082  /learn-ruby-programming-in-ten-easy-steps/             6.0   \n",
       "8203                    /learn-html-in-24-hours/             1.0   \n",
       "8319             /git-in-theory-and-in-practice/             7.5   \n",
       "8324                      /beginning-javascript/             3.0   \n",
       "8325                               /learn-html5/             4.0   \n",
       "\n",
       "      publication_gap  age in days  n_subs/(age)  Rank4 by n_subs/(age)  \\\n",
       "id                                                                        \n",
       "8082         0.066369    94.033333    301.669621                 1247.0   \n",
       "8203        -0.000249    94.633333     16.379007                 5274.0   \n",
       "8319         0.086713    93.333333      3.107143                 7371.0   \n",
       "8324         0.029827    94.000000     40.414894                 4009.0   \n",
       "8325         0.200802    91.933333    136.055112                 2212.0   \n",
       "\n",
       "      Rank aggreg  success  nbr of course element  \\\n",
       "id                                                  \n",
       "8082       2657.0     True                     75   \n",
       "8203       7068.0    False                     20   \n",
       "8319       8060.0    False                     36   \n",
       "8324       5551.0    False                     67   \n",
       "8325       2483.0    False                     99   \n",
       "\n",
       "                                       update_date_list  \\\n",
       "id                                                        \n",
       "8082  [2011-06-14 16:09:14, 2011-06-15 18:01:06, 201...   \n",
       "8203                                                 []   \n",
       "8319  [2011-06-28 04:48:38, 2011-06-28 04:51:27, 201...   \n",
       "8324  [2011-06-28 08:26:18, 2011-07-02 06:06:23, 201...   \n",
       "8325  [2011-06-28 08:27:39, 2011-08-05 23:37:27, 201...   \n",
       "\n",
       "                                      update_delta_list  Avg update delay  \\\n",
       "id                                                                          \n",
       "8082  [93112.0, 98832.0, 12570.0, 62973.0, 252178.0,...      1.297656e+05   \n",
       "8203                                                 []      0.000000e+00   \n",
       "8319  [21378.0, 31035.0, 91462.0, 1635165.0, 99133.0...      2.741634e+05   \n",
       "8324  [337205.0, 133874.0, 11666.0, 46113.0, 42550.0...      1.132569e+05   \n",
       "8325  [3337788.0, 171769.0, 639755.0, 1867545.0, 129...      1.229227e+06   \n",
       "\n",
       "      Avg update delay (days)  size_in_seconds  Average Size of Update  \n",
       "id                                                                      \n",
       "8082                 1.501916          13465.0              179.533333  \n",
       "8203                 0.000000           2438.0              121.900000  \n",
       "8319                 3.173188          10423.0              289.527778  \n",
       "8324                 1.310843           9399.0              140.283582  \n",
       "8325                14.227160          14225.0              143.686869  "
      ]
     },
     "execution_count": 53,
     "metadata": {},
     "output_type": "execute_result"
    }
   ],
   "source": [
    "course_details.head()"
   ]
  },
  {
   "cell_type": "markdown",
   "metadata": {},
   "source": [
    "###### Write to ExloredData folder\n"
   ]
  },
  {
   "cell_type": "code",
   "execution_count": 54,
   "metadata": {},
   "outputs": [],
   "source": [
    "course_details.to_pickle('../Data/Explored Data/course_details.pkl')"
   ]
  },
  {
   "cell_type": "code",
   "execution_count": 55,
   "metadata": {
    "collapsed": true
   },
   "outputs": [],
   "source": [
    "course_syllabi.to_pickle('../Data/Explored Data/course_syllabi.pkl')"
   ]
  },
  {
   "cell_type": "code",
   "execution_count": 56,
   "metadata": {
    "collapsed": true
   },
   "outputs": [],
   "source": [
    "course_reviews.to_pickle('../Data/Explored Data/course_reviews.pkl')"
   ]
  }
 ],
 "metadata": {
  "kernelspec": {
   "display_name": "Python 3",
   "language": "python",
   "name": "python3"
  },
  "language_info": {
   "codemirror_mode": {
    "name": "ipython",
    "version": 3
   },
   "file_extension": ".py",
   "mimetype": "text/x-python",
   "name": "python",
   "nbconvert_exporter": "python",
   "pygments_lexer": "ipython3",
   "version": "3.6.3"
  }
 },
 "nbformat": 4,
 "nbformat_minor": 2
}
