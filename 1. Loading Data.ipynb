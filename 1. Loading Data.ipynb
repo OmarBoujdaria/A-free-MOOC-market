{
 "cells": [
  {
   "cell_type": "code",
   "execution_count": 1,
   "metadata": {
    "collapsed": true
   },
   "outputs": [],
   "source": [
    "import pickle as pkl"
   ]
  },
  {
   "cell_type": "markdown",
   "metadata": {},
   "source": [
    "## Loading Data "
   ]
  },
  {
   "cell_type": "markdown",
   "metadata": {},
   "source": [
    "Finding the right source of data."
   ]
  },
  {
   "cell_type": "markdown",
   "metadata": {},
   "source": [
    "##### CourseDetails\n",
    "Twice the same files\n"
   ]
  },
  {
   "cell_type": "code",
   "execution_count": 2,
   "metadata": {
    "collapsed": true
   },
   "outputs": [],
   "source": [
    "with open('Data/udemy_data_sample/course_details_df.pkl', 'rb') as f:\n",
    "    course_details = pkl.load(f)"
   ]
  },
  {
   "cell_type": "code",
   "execution_count": 3,
   "metadata": {},
   "outputs": [
    {
     "data": {
      "text/html": [
       "<div>\n",
       "<style scoped>\n",
       "    .dataframe tbody tr th:only-of-type {\n",
       "        vertical-align: middle;\n",
       "    }\n",
       "\n",
       "    .dataframe tbody tr th {\n",
       "        vertical-align: top;\n",
       "    }\n",
       "\n",
       "    .dataframe thead th {\n",
       "        text-align: right;\n",
       "    }\n",
       "</style>\n",
       "<table border=\"1\" class=\"dataframe\">\n",
       "  <thead>\n",
       "    <tr style=\"text-align: right;\">\n",
       "      <th></th>\n",
       "      <th>avg_rating</th>\n",
       "      <th>avg_rating_recent</th>\n",
       "      <th>content_info</th>\n",
       "      <th>created</th>\n",
       "      <th>is_paid</th>\n",
       "      <th>last_update_date</th>\n",
       "      <th>num_published_lectures</th>\n",
       "      <th>num_published_practice_tests</th>\n",
       "      <th>num_published_quizzes</th>\n",
       "      <th>num_reviews</th>\n",
       "      <th>...</th>\n",
       "      <th>quality_status</th>\n",
       "      <th>rating_distribution</th>\n",
       "      <th>status_label</th>\n",
       "      <th>target_audiences</th>\n",
       "      <th>title</th>\n",
       "      <th>url</th>\n",
       "      <th>course_type</th>\n",
       "      <th>content_length</th>\n",
       "      <th>course_age</th>\n",
       "      <th>publication_gap</th>\n",
       "    </tr>\n",
       "    <tr>\n",
       "      <th>id</th>\n",
       "      <th></th>\n",
       "      <th></th>\n",
       "      <th></th>\n",
       "      <th></th>\n",
       "      <th></th>\n",
       "      <th></th>\n",
       "      <th></th>\n",
       "      <th></th>\n",
       "      <th></th>\n",
       "      <th></th>\n",
       "      <th></th>\n",
       "      <th></th>\n",
       "      <th></th>\n",
       "      <th></th>\n",
       "      <th></th>\n",
       "      <th></th>\n",
       "      <th></th>\n",
       "      <th></th>\n",
       "      <th></th>\n",
       "      <th></th>\n",
       "      <th></th>\n",
       "    </tr>\n",
       "  </thead>\n",
       "  <tbody>\n",
       "    <tr>\n",
       "      <th>1076424</th>\n",
       "      <td>4.85</td>\n",
       "      <td>4.84755</td>\n",
       "      <td>18 hours</td>\n",
       "      <td>2017-01-14 22:19:27</td>\n",
       "      <td>True</td>\n",
       "      <td>2018-02-16</td>\n",
       "      <td>192</td>\n",
       "      <td>0</td>\n",
       "      <td>0</td>\n",
       "      <td>33</td>\n",
       "      <td>...</td>\n",
       "      <td>approved</td>\n",
       "      <td>[{'rating': 1, 'count': 0}, {'rating': 2, 'cou...</td>\n",
       "      <td>Live</td>\n",
       "      <td>[WordPress Users, Students who want to learn h...</td>\n",
       "      <td>The Complete Guide to the Best 200 WordPress P...</td>\n",
       "      <td>/wordpress-plugins-a-guide-on-the-best-plugins...</td>\n",
       "      <td>course</td>\n",
       "      <td>18.0</td>\n",
       "      <td>2.002797</td>\n",
       "      <td>0.090545</td>\n",
       "    </tr>\n",
       "    <tr>\n",
       "      <th>574120</th>\n",
       "      <td>4.00</td>\n",
       "      <td>3.75999</td>\n",
       "      <td>2 hours</td>\n",
       "      <td>2015-08-05 00:31:39</td>\n",
       "      <td>True</td>\n",
       "      <td>2015-11-20</td>\n",
       "      <td>26</td>\n",
       "      <td>0</td>\n",
       "      <td>0</td>\n",
       "      <td>49</td>\n",
       "      <td>...</td>\n",
       "      <td>approved</td>\n",
       "      <td>[{'count': 4, 'rating': 1}, {'count': 6, 'rati...</td>\n",
       "      <td>Live</td>\n",
       "      <td>[web developers, anyone who wants to use AJAX,...</td>\n",
       "      <td>AJAX get started with AJAX supercharge your we...</td>\n",
       "      <td>/ajax-bootcamp-learn-asynchronous-javascript-a...</td>\n",
       "      <td>course</td>\n",
       "      <td>2.0</td>\n",
       "      <td>3.439125</td>\n",
       "      <td>0.103280</td>\n",
       "    </tr>\n",
       "    <tr>\n",
       "      <th>466540</th>\n",
       "      <td>3.95</td>\n",
       "      <td>4.02488</td>\n",
       "      <td>5.5 hours</td>\n",
       "      <td>2015-04-03 09:29:18</td>\n",
       "      <td>True</td>\n",
       "      <td>2017-10-19</td>\n",
       "      <td>85</td>\n",
       "      <td>0</td>\n",
       "      <td>0</td>\n",
       "      <td>30</td>\n",
       "      <td>...</td>\n",
       "      <td>approved</td>\n",
       "      <td>[{'rating': 1, 'count': 1}, {'rating': 2, 'cou...</td>\n",
       "      <td>Live</td>\n",
       "      <td>[This course is for every game developer regar...</td>\n",
       "      <td>Construct 2 - The Complete Game Creation Learn...</td>\n",
       "      <td>/construct2-the-complete-game-creation-course/</td>\n",
       "      <td>course</td>\n",
       "      <td>5.5</td>\n",
       "      <td>3.871445</td>\n",
       "      <td>0.009664</td>\n",
       "    </tr>\n",
       "  </tbody>\n",
       "</table>\n",
       "<p>3 rows × 26 columns</p>\n",
       "</div>"
      ],
      "text/plain": [
       "         avg_rating  avg_rating_recent content_info             created  \\\n",
       "id                                                                        \n",
       "1076424        4.85            4.84755     18 hours 2017-01-14 22:19:27   \n",
       "574120         4.00            3.75999      2 hours 2015-08-05 00:31:39   \n",
       "466540         3.95            4.02488    5.5 hours 2015-04-03 09:29:18   \n",
       "\n",
       "         is_paid last_update_date  num_published_lectures  \\\n",
       "id                                                          \n",
       "1076424     True       2018-02-16                     192   \n",
       "574120      True       2015-11-20                      26   \n",
       "466540      True       2017-10-19                      85   \n",
       "\n",
       "         num_published_practice_tests  num_published_quizzes  num_reviews  \\\n",
       "id                                                                          \n",
       "1076424                             0                      0           33   \n",
       "574120                              0                      0           49   \n",
       "466540                              0                      0           30   \n",
       "\n",
       "              ...        quality_status  \\\n",
       "id            ...                         \n",
       "1076424       ...              approved   \n",
       "574120        ...              approved   \n",
       "466540        ...              approved   \n",
       "\n",
       "                                       rating_distribution status_label  \\\n",
       "id                                                                        \n",
       "1076424  [{'rating': 1, 'count': 0}, {'rating': 2, 'cou...         Live   \n",
       "574120   [{'count': 4, 'rating': 1}, {'count': 6, 'rati...         Live   \n",
       "466540   [{'rating': 1, 'count': 1}, {'rating': 2, 'cou...         Live   \n",
       "\n",
       "                                          target_audiences  \\\n",
       "id                                                           \n",
       "1076424  [WordPress Users, Students who want to learn h...   \n",
       "574120   [web developers, anyone who wants to use AJAX,...   \n",
       "466540   [This course is for every game developer regar...   \n",
       "\n",
       "                                                     title  \\\n",
       "id                                                           \n",
       "1076424  The Complete Guide to the Best 200 WordPress P...   \n",
       "574120   AJAX get started with AJAX supercharge your we...   \n",
       "466540   Construct 2 - The Complete Game Creation Learn...   \n",
       "\n",
       "                                                       url course_type  \\\n",
       "id                                                                       \n",
       "1076424  /wordpress-plugins-a-guide-on-the-best-plugins...      course   \n",
       "574120   /ajax-bootcamp-learn-asynchronous-javascript-a...      course   \n",
       "466540      /construct2-the-complete-game-creation-course/      course   \n",
       "\n",
       "        content_length course_age publication_gap  \n",
       "id                                                 \n",
       "1076424           18.0   2.002797        0.090545  \n",
       "574120             2.0   3.439125        0.103280  \n",
       "466540             5.5   3.871445        0.009664  \n",
       "\n",
       "[3 rows x 26 columns]"
      ]
     },
     "execution_count": 3,
     "metadata": {},
     "output_type": "execute_result"
    }
   ],
   "source": [
    "course_details.head(3)"
   ]
  },
  {
   "cell_type": "code",
   "execution_count": 4,
   "metadata": {
    "collapsed": true
   },
   "outputs": [],
   "source": [
    "with open('Data/Raw Data/course_details_df.pkl', 'rb') as f:\n",
    "    course_details_bis = pkl.load(f)"
   ]
  },
  {
   "cell_type": "code",
   "execution_count": 5,
   "metadata": {},
   "outputs": [
    {
     "data": {
      "text/plain": [
       "((8884, 26), (9718, 25))"
      ]
     },
     "execution_count": 5,
     "metadata": {},
     "output_type": "execute_result"
    }
   ],
   "source": [
    "course_details.shape,   course_details_bis.shape"
   ]
  },
  {
   "cell_type": "markdown",
   "metadata": {},
   "source": [
    "- course_details_bis (from the directory RawData) is more recent, contains more rows. but one missing column : course_age !"
   ]
  },
  {
   "cell_type": "markdown",
   "metadata": {},
   "source": [
    "##### CourseSyllabi"
   ]
  },
  {
   "cell_type": "code",
   "execution_count": 6,
   "metadata": {
    "collapsed": true
   },
   "outputs": [],
   "source": [
    "with open('Data/udemy_data_sample/course_syllabi_df.pkl', 'rb') as f:\n",
    "    course_syllabi = pkl.load(f)"
   ]
  },
  {
   "cell_type": "code",
   "execution_count": 7,
   "metadata": {
    "collapsed": true
   },
   "outputs": [],
   "source": [
    "with open('Data/Raw Data/course_syllabi_df.pkl', 'rb') as f:\n",
    "    course_syllabi_bis = pkl.load(f)"
   ]
  },
  {
   "cell_type": "code",
   "execution_count": 8,
   "metadata": {},
   "outputs": [
    {
     "data": {
      "text/plain": [
       "((557058, 15), (604683, 15))"
      ]
     },
     "execution_count": 8,
     "metadata": {},
     "output_type": "execute_result"
    }
   ],
   "source": [
    "course_syllabi.shape,   course_syllabi_bis.shape"
   ]
  },
  {
   "cell_type": "markdown",
   "metadata": {},
   "source": [
    "- course_syllabi_bis contains more rows !\n"
   ]
  },
  {
   "cell_type": "markdown",
   "metadata": {},
   "source": [
    "** ====> RawData directory files are to be kept, we delete other unneeded dataframes**"
   ]
  }
 ],
 "metadata": {
  "kernelspec": {
   "display_name": "Python 3",
   "language": "python",
   "name": "python3"
  },
  "language_info": {
   "codemirror_mode": {
    "name": "ipython",
    "version": 3
   },
   "file_extension": ".py",
   "mimetype": "text/x-python",
   "name": "python",
   "nbconvert_exporter": "python",
   "pygments_lexer": "ipython3",
   "version": "3.6.3"
  }
 },
 "nbformat": 4,
 "nbformat_minor": 2
}
